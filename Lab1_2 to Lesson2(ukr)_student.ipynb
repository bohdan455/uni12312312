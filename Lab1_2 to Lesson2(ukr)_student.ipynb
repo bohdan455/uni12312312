{
 "cells": [
  {
   "cell_type": "markdown",
   "id": "7d521c64",
   "metadata": {},
   "source": [
    "## Лабораторна робота 2. Ймовірнісні та геометричні методи виявлення аномалій\n",
    "У даній частині лабораторної роботи з виявлення аномалій ми дізнаємося, що аналіз екстремальних значень можна використовувати для оцінки ймовірності виникнення рідкісної події. Ми також обговорили виявлення аномалій на основі кута та глибини. Незважаючи на те, що ці три підходи відрізняються, вони мають одну особливість: вони припускають, що аномалії знаходяться на межі (або краю чи хвості) даних.\n",
    "\n",
    "Тут буде застосовано аналіз екстремальних значень, щоб краще зрозуміти рідкісні події в рівнях озону в атмосфері (однофакторні дані). Ми також будемо використовувати виявлення аномалій на основі кута та глибини, щоб знаходити аномалії в багатовимірних даних.\n",
    "\n",
    "Ви повинні отримати:\n",
    "\n",
    "- розуміння аналізу екстремальних значень;\n",
    "\n",
    "- практичний досвід виявлення аномалій на основі кута;\n",
    "\n",
    "- практичний досвід виявлення аномалій на основі глибини.\n",
    "#### Імпорт"
   ]
  },
  {
   "cell_type": "code",
   "id": "ab534db8",
   "metadata": {
    "ExecuteTime": {
     "end_time": "2025-02-19T12:11:28.347417Z",
     "start_time": "2025-02-19T12:11:28.301397Z"
    }
   },
   "source": [
    "%matplotlib inline\n",
    "\n",
    "import sys\n",
    "import datetime\n",
    "import scipy\n",
    "import scipy.stats as ss\n",
    "import numpy as np\n",
    "import matplotlib\n",
    "import matplotlib.pyplot as plt\n",
    "import pandas as pd\n",
    "import random"
   ],
   "outputs": [],
   "execution_count": 1
  },
  {
   "cell_type": "markdown",
   "id": "f653c32e",
   "metadata": {},
   "source": [
    "# Розділ 1: Аналіз екстремальних значень¶\n",
    "У цьому розділі ми використовуємо аналіз екстремальних значень, щоб виявити аномалії в реальних даних: рівні озону в районі Нью-Йорка. Поблизу рівня землі озон є небезпечним для органів дихання, оскільки він може пошкодити слизові оболонки та тканини дихальних шляхів. Індекс якості повітря **air quality index** (AQI) для озону — це шкала від 0 до 500, яка описує рівень забруднення озоном: чим вище число, тим більша небезпека. Детальніше про шкалу можна дізнатися тут:\n",
    "\n",
    "https://www.airnow.gov/aqi/aqi-basics\n",
    "\n",
    "Рівні AQI озону для столичного району Нью-Йорка взяті з веб-сайту Агентства з охорони навколишнього середовища США:\n",
    "\n",
    "https://www.epa.gov/outdoor-air-quality-data/air-quality-index-daily-values-report\n",
    "\n",
    "(Географічною зоною є \"Нью-Йорк-Ньюарк-Джерсі-Сіті\")\n",
    "\n",
    "Було вибрано всі доступні повні роки (1980-2017), а дані за всі роки об’єднано в один файл CSV.\n",
    "\n",
    "Завантажте дані як фрейм даних pandas і подивіться на них."
   ]
  },
  {
   "cell_type": "code",
   "id": "1a920c15",
   "metadata": {
    "ExecuteTime": {
     "end_time": "2025-02-19T12:11:29.264926Z",
     "start_time": "2025-02-19T12:11:28.392416Z"
    }
   },
   "source": [
    "ozone_aqi = pd.read_csv('aqidailyozone.csv', \n",
    "                        index_col=0, \n",
    "                        parse_dates=True) \n",
    "ozone_aqi.info()"
   ],
   "outputs": [
    {
     "name": "stderr",
     "output_type": "stream",
     "text": [
      "C:\\Users\\bohda\\AppData\\Local\\Temp\\ipykernel_19648\\1379223912.py:1: UserWarning: Could not infer format, so each element will be parsed individually, falling back to `dateutil`. To ensure parsing is consistent and as-expected, please specify a format.\n",
      "  ozone_aqi = pd.read_csv('aqidailyozone.csv',\n"
     ]
    },
    {
     "name": "stdout",
     "output_type": "stream",
     "text": [
      "<class 'pandas.core.frame.DataFrame'>\n",
      "DatetimeIndex: 13880 entries, 1980-01-01 to 2017-12-31\n",
      "Data columns (total 1 columns):\n",
      " #   Column           Non-Null Count  Dtype\n",
      "---  ------           --------------  -----\n",
      " 0   Ozone AQI Value  13880 non-null  int64\n",
      "dtypes: int64(1)\n",
      "memory usage: 216.9 KB\n"
     ]
    }
   ],
   "execution_count": 2
  },
  {
   "cell_type": "code",
   "id": "0296a963",
   "metadata": {
    "ExecuteTime": {
     "end_time": "2025-02-19T12:11:30.216429Z",
     "start_time": "2025-02-19T12:11:30.205072Z"
    }
   },
   "source": [
    "ozone_aqi.head()"
   ],
   "outputs": [
    {
     "data": {
      "text/plain": [
       "            Ozone AQI Value\n",
       "Date                       \n",
       "1980-01-01               19\n",
       "1980-01-02               16\n",
       "1980-01-03               19\n",
       "1980-01-04               17\n",
       "1980-01-05               23"
      ],
      "text/html": [
       "<div>\n",
       "<style scoped>\n",
       "    .dataframe tbody tr th:only-of-type {\n",
       "        vertical-align: middle;\n",
       "    }\n",
       "\n",
       "    .dataframe tbody tr th {\n",
       "        vertical-align: top;\n",
       "    }\n",
       "\n",
       "    .dataframe thead th {\n",
       "        text-align: right;\n",
       "    }\n",
       "</style>\n",
       "<table border=\"1\" class=\"dataframe\">\n",
       "  <thead>\n",
       "    <tr style=\"text-align: right;\">\n",
       "      <th></th>\n",
       "      <th>Ozone AQI Value</th>\n",
       "    </tr>\n",
       "    <tr>\n",
       "      <th>Date</th>\n",
       "      <th></th>\n",
       "    </tr>\n",
       "  </thead>\n",
       "  <tbody>\n",
       "    <tr>\n",
       "      <th>1980-01-01</th>\n",
       "      <td>19</td>\n",
       "    </tr>\n",
       "    <tr>\n",
       "      <th>1980-01-02</th>\n",
       "      <td>16</td>\n",
       "    </tr>\n",
       "    <tr>\n",
       "      <th>1980-01-03</th>\n",
       "      <td>19</td>\n",
       "    </tr>\n",
       "    <tr>\n",
       "      <th>1980-01-04</th>\n",
       "      <td>17</td>\n",
       "    </tr>\n",
       "    <tr>\n",
       "      <th>1980-01-05</th>\n",
       "      <td>23</td>\n",
       "    </tr>\n",
       "  </tbody>\n",
       "</table>\n",
       "</div>"
      ]
     },
     "execution_count": 3,
     "metadata": {},
     "output_type": "execute_result"
    }
   ],
   "execution_count": 3
  },
  {
   "cell_type": "markdown",
   "id": "bb49a0eb",
   "metadata": {},
   "source": [
    "##### Виконаємо дві швидкі перевірки даних. Спочатку знайдіть відсутні значення."
   ]
  },
  {
   "cell_type": "code",
   "id": "a0585529",
   "metadata": {
    "ExecuteTime": {
     "end_time": "2025-02-19T12:11:30.305513Z",
     "start_time": "2025-02-19T12:11:30.297794Z"
    }
   },
   "source": [
    "ozone_aqi.isnull().values.any() # пошук відсутніх даних"
   ],
   "outputs": [
    {
     "data": {
      "text/plain": [
       "np.False_"
      ]
     },
     "execution_count": 4,
     "metadata": {},
     "output_type": "execute_result"
    }
   ],
   "execution_count": 4
  },
  {
   "cell_type": "markdown",
   "id": "5917e9aa",
   "metadata": {},
   "source": [
    "Добре. Немає пропущених значень. \n",
    "\n",
    "По-друге, переконайтеся, що кількість рядків дорівнює кількості днів з 1/1/80 до 12/31/17 (включно)."
   ]
  },
  {
   "cell_type": "code",
   "id": "eadcd0fc",
   "metadata": {
    "ExecuteTime": {
     "end_time": "2025-02-19T12:11:30.542939Z",
     "start_time": "2025-02-19T12:11:30.538801Z"
    }
   },
   "source": [
    "d0 = datetime.date(1980, 1, 1)\n",
    "d1 = datetime.date(2017, 12, 31)\n",
    "difference = d1 - d0\n",
    "# Last day is not included in the difference, so add one to account for it\n",
    "print('Number of days is {}'.format(difference.days+1))\n",
    "print('Number of rows is {}'.format(ozone_aqi.shape[0]))"
   ],
   "outputs": [
    {
     "name": "stdout",
     "output_type": "stream",
     "text": [
      "Number of days is 13880\n",
      "Number of rows is 13880\n"
     ]
    }
   ],
   "execution_count": 5
  },
  {
   "cell_type": "markdown",
   "id": "b66ade43",
   "metadata": {},
   "source": [
    "Знову добре.\n",
    "\n",
    "Примітка: в принципі ми також повинні перевірити, чи дані є стаціонарними, але такі перевірки виходять за рамки цього заняття (тест перевірки на стаціонарність часового ряду).\n",
    "\n",
    "Тепер ми можемо приступити до аналізу даних. Як ми обговорювали в лекції, існує два основні підходи до аналізу екстремальних значень:\n",
    "\n",
    "а) блокові максимуми\n",
    "\n",
    "б) пік над порогом.\n",
    "\n",
    "Ми перевіримо наші дані за допомогою обох підходів.\n",
    "\n",
    "### Секція 1а: Блок Максима\n",
    "Ми почнемо з блокових максимумів. Першим кроком є створення ряду річних максимумів **annual maxima series** (AMS), який складається з максимального значення AQI озону для кожного року. Ми витягуємо AMS із щоденних даних."
   ]
  },
  {
   "cell_type": "code",
   "id": "18b99cde",
   "metadata": {
    "ExecuteTime": {
     "end_time": "2025-02-19T12:11:30.808355Z",
     "start_time": "2025-02-19T12:11:30.800947Z"
    }
   },
   "source": [
    "year_grouper = pd.Grouper(freq='A') #групування за параметром \"рік\"\n",
    "ams = ozone_aqi.groupby(year_grouper).max() #пошук максимального значення в групах\n",
    "print(ams)\n",
    "print('')\n",
    "print('Number of AMS entries is {}'.format(len(ams)))"
   ],
   "outputs": [
    {
     "name": "stdout",
     "output_type": "stream",
     "text": [
      "            Ozone AQI Value\n",
      "Date                       \n",
      "1980-12-31              278\n",
      "1981-12-31              279\n",
      "1982-12-31              248\n",
      "1983-12-31              276\n",
      "1984-12-31              251\n",
      "1985-12-31              249\n",
      "1986-12-31              236\n",
      "1987-12-31              262\n",
      "1988-12-31              266\n",
      "1989-12-31              220\n",
      "1990-12-31              244\n",
      "1991-12-31              241\n",
      "1992-12-31              222\n",
      "1993-12-31              247\n",
      "1994-12-31              225\n",
      "1995-12-31              244\n",
      "1996-12-31              215\n",
      "1997-12-31              247\n",
      "1998-12-31              218\n",
      "1999-12-31              232\n",
      "2000-12-31              227\n",
      "2001-12-31              218\n",
      "2002-12-31              236\n",
      "2003-12-31              226\n",
      "2004-12-31              201\n",
      "2005-12-31              217\n",
      "2006-12-31              226\n",
      "2007-12-31              195\n",
      "2008-12-31              201\n",
      "2009-12-31              151\n",
      "2010-12-31              208\n",
      "2011-12-31              209\n",
      "2012-12-31              174\n",
      "2013-12-31              159\n",
      "2014-12-31              187\n",
      "2015-12-31              166\n",
      "2016-12-31              161\n",
      "2017-12-31              159\n",
      "\n",
      "Number of AMS entries is 38\n"
     ]
    },
    {
     "name": "stderr",
     "output_type": "stream",
     "text": [
      "C:\\Users\\bohda\\AppData\\Local\\Temp\\ipykernel_19648\\3665941234.py:1: FutureWarning: 'A' is deprecated and will be removed in a future version, please use 'YE' instead.\n",
      "  year_grouper = pd.Grouper(freq='A') #групування за параметром \"рік\"\n"
     ]
    }
   ],
   "execution_count": 6
  },
  {
   "cell_type": "markdown",
   "id": "d212dc6e",
   "metadata": {},
   "source": [
    "AMS має 38 записів, як і очікувалося.\n",
    "\n",
    "**ПРИМІТКА.** Групування за максимумом також дає максимум в індексі (тобто датою завжди є 31 грудня, оскільки це максимальна дата). Ці два максимуми беруться незалежно, ми _не_ просто отримуємо AQI 31 грудня.\n",
    "\n",
    "#### Підберіть AMS до узагальненого розподілу екстремальних значень (GEV). Ми будемо використовувати статистичні функції в scipy.stats."
   ]
  },
  {
   "cell_type": "code",
   "id": "27fdee74",
   "metadata": {
    "ExecuteTime": {
     "end_time": "2025-02-19T12:11:31.117984Z",
     "start_time": "2025-02-19T12:11:31.072120Z"
    }
   },
   "source": [
    "fit = ss.genextreme.fit(ams)\n",
    "print(fit)"
   ],
   "outputs": [
    {
     "name": "stdout",
     "output_type": "stream",
     "text": [
      "(np.float64(0.48070190276858693), np.float64(212.9835530676018), np.float64(36.562050718746406))\n"
     ]
    }
   ],
   "execution_count": 7
  },
  {
   "cell_type": "markdown",
   "id": "1bed6cd9",
   "metadata": {},
   "source": [
    "Це параметри форми 𝜉, розташування $\\mu$ та масштабу $\\sigma$ відповідно.\n",
    "\n",
    "Примітка: параметр форми 𝜉, який використовується в scipy, має знак, протилежний тому, який використовується в більшості інших довідкових джерел і програмних пакетів. Дивись в:\n",
    "\n",
    "https://docs.scipy.org/doc/scipy/reference/generated/scipy.stats.genextreme.html#scipy.stats.genextreme\n",
    "\n",
    "і\n",
    "\n",
    "https://github.com/scipy/scipy/issues/3844\n",
    "\n",
    "Іншими словами, параметр форми scipy, який позначається як c = -𝜉, параметр форми, який ми використовували в лекції 2.\n",
    "Тут 𝜉 = -с= -0,48 < 0.\n",
    "\n",
    "Побудуйте гістограму даних і підгонку."
   ]
  },
  {
   "cell_type": "code",
   "id": "35b21b57",
   "metadata": {
    "ExecuteTime": {
     "end_time": "2025-02-19T12:11:32.009044Z",
     "start_time": "2025-02-19T12:11:31.207209Z"
    }
   },
   "source": [
    "plt.hist(ams.iloc[:,0], bins=5, density=True, alpha=0.7, label='Data')\n",
    "plt.plot(np.linspace(100, 300, 100),\n",
    "         ss.genextreme.pdf(np.linspace(100, 300, 100), fit[0], fit[1], fit[2]), 'r--',\n",
    "         label='GEV fit') #побудова графіка функції густини розподілу GEV\n",
    "plt.title('GEV Distribution', fontweight='bold')\n",
    "plt.xlabel('Ozone AQI value')\n",
    "plt.ylabel('Probability')\n",
    "plt.legend(loc='upper left')\n",
    "plt.show()"
   ],
   "outputs": [
    {
     "data": {
      "text/plain": [
       "<Figure size 640x480 with 1 Axes>"
      ],
      "image/png": "[encoded data removed]"
     },
     "metadata": {},
     "output_type": "display_data"
    }
   ],
   "execution_count": 8
  },
  {
   "cell_type": "markdown",
   "id": "33ed53c8",
   "metadata": {},
   "source": [
    "Підгонка відображає загальну тенденцію, але вона не дуже точна, як видно на око. (Подальший статистичний аналіз якості підгонки виходить за рамки цього уроку.)\n",
    "\n",
    "**Питання**: яка одна з причин проблем із підгонкою?\n",
    "\n",
    "**Відповідь**: Однією з причин є малий набір даних (38 точок). Ми також повинні бути обережними, як ми збираємо дані для гістограми. Спробуйте різні значення *bins* і подивіться, що станеться.\n",
    "\n",
    "Незважаючи на проблеми, ми все ще можемо поставити запитання, які стосуються здоров’я людини. Наприклад, яка ймовірність перевищення AQI 200 у певному році? (Рівень озону вище 200 вважається дуже нездоровим.)\n",
    "\n",
    "Щоб відповісти на це питання, обчисліть кумулятивну функцію розподілу (CDF)."
   ]
  },
  {
   "cell_type": "code",
   "id": "b6fc4d97",
   "metadata": {
    "ExecuteTime": {
     "end_time": "2025-02-19T12:11:32.070671Z",
     "start_time": "2025-02-19T12:11:32.066479Z"
    }
   },
   "source": [
    "prob_over_200 = (1.0 - ss.genextreme.cdf(200, fit[0], fit[1], fit[2]))\n",
    "print('{:.2f}'.format(prob_over_200))"
   ],
   "outputs": [
    {
     "name": "stdout",
     "output_type": "stream",
     "text": [
      "0.75\n"
     ]
    }
   ],
   "execution_count": 9
  },
  {
   "cell_type": "markdown",
   "id": "5d6494a4",
   "metadata": {},
   "source": [
    "Ми також можемо бути стурбовані тим, наскільки погані рідкісні події. Наприклад, яка ймовірність перевищення AQI озону в один відсоток у певний рік? Це те саме, що запитувати AQI, при якому CDF становить 0,99. Щоб відповісти на це запитання, ми можемо використати _обернену_ функцію CDF, яка називається *percent point function* (PPF).\n",
    "\n",
    "Більш детально:\n",
    "> \"Запитання: при якому значенні X  CDF(X) = 0,99?\"\n",
    ">\n",
    "> \"Відповідь: PPF(0,99)\""
   ]
  },
  {
   "cell_type": "code",
   "id": "0b4d8ed6",
   "metadata": {
    "ExecuteTime": {
     "end_time": "2025-02-19T12:11:32.174423Z",
     "start_time": "2025-02-19T12:11:32.169424Z"
    }
   },
   "source": [
    "boundary = ss.genextreme.ppf(0.99, fit[0], fit[1], fit[2])\n",
    "print(f'The one precent threshold ozone AQI level is {boundary:6.4f}')"
   ],
   "outputs": [
    {
     "name": "stdout",
     "output_type": "stream",
     "text": [
      "The one precent threshold ozone AQI level is 280.7103\n"
     ]
    }
   ],
   "execution_count": 10
  },
  {
   "cell_type": "markdown",
   "id": "c0612aa1",
   "metadata": {},
   "source": [
    "### Розділ 1b: Пікове перевищення порогу\n",
    "Що робити, якщо вас не цікавлять максимуми в конкретних блоках, але ви хочете знати про перевищення порогу в більш загальному плані? Наприклад, у випадку озону перевищення може відбуватися кілька разів на рік або взагалі не відбуватися протягом певного року. Для таких сценаріїв більш доцільним є підхід максимального порогу *peak of threshold* (POT).\n",
    "\n",
    "Давайте розглянемо всі дані про озон у вигляді гістограми."
   ]
  },
  {
   "cell_type": "code",
   "id": "c761bbfa",
   "metadata": {
    "ExecuteTime": {
     "end_time": "2025-02-19T12:11:32.414090Z",
     "start_time": "2025-02-19T12:11:32.325629Z"
    }
   },
   "source": [
    "ozone_aqi['Ozone AQI Value'].hist();"
   ],
   "outputs": [],
   "execution_count": 11
  },
  {
   "cell_type": "markdown",
   "id": "2dd1f126",
   "metadata": {},
   "source": [
    "Ми зауважимо, що більшість даних є нижчими за AQI 100, що вважається помірною або хорошою якістю повітря. (Ой!) Ми стурбовані високим хвостом AQI, який може бути небезпечним для здоров’я. Як ми обговорювали в лекції, цей хвіст повинен бути добре апроксимований універсальним розподілом.\n",
    "\n",
    "Завдання вибору порога для хвоста вимагає певного судження. Якщо він занадто низький, то теореми про універсальну поведінку хвоста не застосовуються. Якщо він занадто високий, то в хвості буде мало точок даних, і кінцеві оцінки параметрів будуть поганими. Часто потрібно пробувати різні пороги та шукати добре (достатньо) відповідне.\n",
    "\n",
    "Тут ми скористаємося зручним емпіричним правилом щодо того, з чого почати дослідження: візьміть найменше значення AMS."
   ]
  },
  {
   "cell_type": "code",
   "id": "55ef0b3f",
   "metadata": {
    "ExecuteTime": {
     "end_time": "2025-02-19T12:11:32.449270Z",
     "start_time": "2025-02-19T12:11:32.445098Z"
    }
   },
   "source": [
    "min_max = ams.values.min()\n",
    "print(f'Lowest maxima value for Ozone AQI in any year: {min_max}')"
   ],
   "outputs": [
    {
     "name": "stdout",
     "output_type": "stream",
     "text": [
      "Lowest maxima value for Ozone AQI in any year: 151\n"
     ]
    }
   ],
   "execution_count": 12
  },
  {
   "cell_type": "markdown",
   "id": "f7d0d9ba",
   "metadata": {},
   "source": [
    "#### Оскільки ми спробуємо різні значення порогу, визначте відповідну функцію для створення хвоста та побудуйте його графік."
   ]
  },
  {
   "cell_type": "code",
   "id": "674b48d7",
   "metadata": {
    "ExecuteTime": {
     "end_time": "2025-02-19T12:11:32.496348Z",
     "start_time": "2025-02-19T12:11:32.492501Z"
    }
   },
   "source": [
    "def plot_tail(threshold):\n",
    "    ozone_aqi_over_threshold = ozone_aqi[ozone_aqi['Ozone AQI Value'] > threshold]\n",
    "    ozone_aqi_over_threshold.hist()"
   ],
   "outputs": [],
   "execution_count": 13
  },
  {
   "cell_type": "code",
   "id": "69b16356",
   "metadata": {
    "ExecuteTime": {
     "end_time": "2025-02-19T12:11:32.620626Z",
     "start_time": "2025-02-19T12:11:32.552735Z"
    }
   },
   "source": [
    "plot_tail(min_max)"
   ],
   "outputs": [],
   "execution_count": 14
  },
  {
   "cell_type": "markdown",
   "id": "e373fef7",
   "metadata": {},
   "source": [
    "Ми очікуємо, що хвіст буде спадною функцією рівня AQI озону, і тут ми бачимо плато від 170 до 210. Тому ми збільшимо поріг."
   ]
  },
  {
   "cell_type": "code",
   "id": "8eb7aec1",
   "metadata": {
    "ExecuteTime": {
     "end_time": "2025-02-19T12:11:32.644720Z",
     "start_time": "2025-02-19T12:11:32.639839Z"
    }
   },
   "source": [
    "threshold = 200\n",
    "ozone_aqi_threshold = ozone_aqi[ozone_aqi['Ozone AQI Value'] > threshold].iloc[:,0]\n",
    "fit_expon = ss.expon.fit(ozone_aqi_threshold) #генерує параметри 𝜇 та 𝜎, відповідно, для експоненціального розподілу форми 𝑒𝑥𝑝[−(𝑥−𝜇)/𝜎\n",
    "print(fit_expon)"
   ],
   "outputs": [
    {
     "name": "stdout",
     "output_type": "stream",
     "text": [
      "(201.0, 15.779527559055111)\n"
     ]
    }
   ],
   "execution_count": 15
  },
  {
   "cell_type": "markdown",
   "id": "c003b63f",
   "metadata": {},
   "source": [
    "Це параметри розташування $\\mu$ і масштабу $\\sigma$ відповідно для експоненціального розподілу у вигляді $exp [-(x-\\mu)/\\sigma]$.\n",
    "\n",
    "Побудуйте результати разом із експоненціальною підгонкою."
   ]
  },
  {
   "cell_type": "code",
   "id": "66d1d048",
   "metadata": {
    "ExecuteTime": {
     "end_time": "2025-02-19T12:11:32.907774Z",
     "start_time": "2025-02-19T12:11:32.707095Z"
    }
   },
   "source": [
    "# linspace starts at 201 (one above threshold) to avoid fit going to zero, which looks ugly\n",
    "\n",
    "plt.hist(ozone_aqi_threshold, bins=10, density=True, alpha=0.7, label='Tail')\n",
    "plt.plot(np.linspace(201, 280, 100),\n",
    "         ss.expon.pdf(np.linspace(201, 280, 100), fit_expon[0], fit_expon[1]), 'r--',\n",
    "         label='Exponential fit')\n",
    "plt.title('Exponential Distribution', fontweight='bold')\n",
    "plt.xlabel('Ozone AQI value')\n",
    "plt.ylabel('Probability')\n",
    "plt.legend(loc='upper right')\n",
    "plt.show()"
   ],
   "outputs": [
    {
     "data": {
      "text/plain": [
       "<Figure size 640x480 with 1 Axes>"
      ],
      "image/png": "[encoded data removed]"
     },
     "metadata": {},
     "output_type": "display_data"
    },
    {
     "data": {
      "text/plain": [
       "<Figure size 640x480 with 1 Axes>"
      ],
      "image/png": "[encoded data removed]"
     },
     "metadata": {},
     "output_type": "display_data"
    }
   ],
   "execution_count": 16
  },
  {
   "cell_type": "markdown",
   "id": "c86c89b1",
   "metadata": {},
   "source": [
    "Непогано. Вам слід повторити наведений вище аналіз із різними пороговими значеннями.\n",
    "\n",
    "**Запитання:** як би ви вирішили, який поріг використовувати з усіх досліджених вами?\n",
    "\n",
    "**Відповідь:** Один із способів вибору порогу – це той, який дає найменшу середню квадратичну помилку між даними та підгонкою.\n",
    "\n",
    "Як і у випадку з блоковими максимумами, тепер ми можемо ставити запитання про різні результати. Давайте переглянемо запитання, які ми задавали раніше, і порівняємо відповіді."
   ]
  },
  {
   "cell_type": "markdown",
   "id": "ce7cd931",
   "metadata": {},
   "source": [
    "#### A. Яка ймовірність перевищення AQI 200 протягом досліджуваного періоду часу (38 років)?\n",
    "Тут відповідь 1,00, оскільки ми обираємо наш поріг 200.\n",
    "\n",
    "Раніше ми виявили, що ймовірність перевищення 200 за певний рік становила 0,75. Таким чином, ймовірність перевищити 200 принаймні раз на 38 років становить $1 - (1 - 0,75)^{38} \\approx 1,00$, що так само, як і вище."
   ]
  },
  {
   "cell_type": "markdown",
   "id": "2d2fda68",
   "metadata": {},
   "source": [
    "#### B. Використовуючи підхід блокових максимумів, ми виявили, що AQI озону, який має одновідсоткову ймовірність бути перевищеним у певний рік, становить 281. \n",
    "\n",
    "Отже, ймовірність того, що цей рівень не буде перевищено протягом 38 років, становить $(1 - 0,01)^{38} \\approx 0,68$.\n",
    "\n",
    "Згідно з аналізом POT, ймовірність того, що рівень AQI 281 не буде перевищений протягом 38 років, визначається як"
   ]
  },
  {
   "cell_type": "code",
   "id": "aa248398",
   "metadata": {
    "ExecuteTime": {
     "end_time": "2025-02-19T12:11:33.020299Z",
     "start_time": "2025-02-19T12:11:33.014741Z"
    }
   },
   "source": [
    "ss.expon.cdf(281, fit_expon[0], fit_expon[1])"
   ],
   "outputs": [
    {
     "data": {
      "text/plain": [
       "np.float64(0.9937167020146207)"
      ]
     },
     "execution_count": 17,
     "metadata": {},
     "output_type": "execute_result"
    }
   ],
   "execution_count": 17
  },
  {
   "cell_type": "markdown",
   "id": "b4c9b29b",
   "metadata": {},
   "source": [
    "що значно вище, ніж оцінка блокових максимумів.\n",
    "\n",
    "**Питання:** Чому є різниця?"
   ]
  },
  {
   "cell_type": "markdown",
   "id": "a4a9ee1b",
   "metadata": {},
   "source": [
    " **Відповідь**: одна з причин пов’язана з формою GEV проти розподілу POT. Перший переходить до нуля при кінцевому значенні (289 у нашому випадку), а POT – ні. У результаті невеликі зміни в пороговому значенні AQI біля 289 мають великий вплив на ймовірність GEV, але не мають такого сильного впливу на ймовірність, отриману за POT.\n",
    "\n",
    "Наприклад, порогове значення 0,1% GEV становить 287. Імовірність того, що цей рівень не буде перевищено протягом 38 років, становить $(1-0,001)^{38} \\approx 0,96$.\n",
    "\n",
    "Для POT та сама ймовірність становить 0,996, що близько до значення GEV."
   ]
  },
  {
   "cell_type": "markdown",
   "id": "1d3410a1",
   "metadata": {},
   "source": [
    "Для повноти ми можемо зібрати дані з узагальненим розподілом Парето (GPD). Як ми обговорювали на лекціях, експоненціальний розподіл є окремим випадком GPD (параметр форми дорівнює нулю 𝜉=0)."
   ]
  },
  {
   "cell_type": "code",
   "id": "603f8457",
   "metadata": {
    "ExecuteTime": {
     "end_time": "2025-02-19T12:11:33.127613Z",
     "start_time": "2025-02-19T12:11:33.075307Z"
    }
   },
   "source": [
    "fit2 = ss.genpareto.fit(ozone_aqi_threshold, 20, loc=201, scale=16)\n",
    "print(fit2)"
   ],
   "outputs": [
    {
     "name": "stdout",
     "output_type": "stream",
     "text": [
      "(np.float64(-0.06709510873892582), np.float64(200.99999967754965), np.float64(16.71263276563655))\n"
     ]
    }
   ],
   "execution_count": 18
  },
  {
   "cell_type": "markdown",
   "id": "aaa4cfdd",
   "metadata": {},
   "source": [
    "Це параметри форми $\\xi$, розташування $\\mu$ і масштабу $\\sigma$, відповідно, GPD. Зверніть увагу, що $\\xi$ дуже близьке до нуля, що свідчить про те, що наш початковий підхід до використання експоненціального розподілу був доцільним."
   ]
  },
  {
   "cell_type": "markdown",
   "id": "dcf926dc",
   "metadata": {},
   "source": [
    "Давайте подивимося на підгонку:"
   ]
  },
  {
   "cell_type": "code",
   "id": "8e13d482",
   "metadata": {
    "ExecuteTime": {
     "end_time": "2025-02-19T12:11:33.387308Z",
     "start_time": "2025-02-19T12:11:33.251493Z"
    }
   },
   "source": [
    "plt.hist(ozone_aqi_threshold, bins=10, density=True, alpha=0.7, label='Tail')\n",
    "plt.plot(np.linspace(201, 280, 100),\n",
    "         ss.genpareto.pdf(np.linspace(201, 280, 100), fit2[0], fit2[1], fit2[2]), 'r--',\n",
    "         label='GPD fit')\n",
    "plt.legend(loc='upper right')\n",
    "plt.show()"
   ],
   "outputs": [
    {
     "data": {
      "text/plain": [
       "<Figure size 640x480 with 1 Axes>"
      ],
      "image/png": "[encoded data removed]"
     },
     "metadata": {},
     "output_type": "display_data"
    }
   ],
   "execution_count": 19
  },
  {
   "cell_type": "markdown",
   "id": "d2e14a52",
   "metadata": {},
   "source": [
    "Дуже схоже на те, що ми знайшли раніше для експоненціального розподілу.\n",
    "\n",
    "**Примітка:** щоб GPD працював, нам потрібно вказати початкові припущення для всіх параметрів. Для параметрів розташування та масштабу ми вибрали значення, які ми знайшли для експоненціального розподілу. Спробуйте використовувати різні початкові припущення та подивіться, що ви отримаєте. Переконайтеся, що ви побудували графік відповідності та порівняли його з даними, щоб переконатися, що genpareto.fit дає прийнятний результат (іноді це не так).\n",
    "\n",
    "# Розділ 2: Виявлення аномалії на основі кута\n",
    "\n",
    "\n",
    "У цьому розділі ми використовуємо виявлення аномалій на основі кута для виявлення аномалій у змодельованих двовимірних даних. Нагадуємо, як працює виявлення аномалій на основі кута:\n",
    "\n",
    "1. Виберіть точку в даних\n",
    "\n",
    "2. Обчисліть усі кути, які ця точка утворює з іншими парами точок у даних\n",
    "\n",
    "3. Обчисліть дисперсію цих кутів\n",
    "\n",
    "4. Аномалії мають низьку дисперсію; нормальні точки мають високу дисперсію\n",
    "\n",
    "Як правило, у вас є навчальні дані, де ви знаєте аномалії, і тому можете отримати порогове значення дисперсії. Точки, які нижчі порогового значення будемо класифікувати як аномалії. Потім ви застосовуєте цей поріг до своїх тестових даних.\n",
    "\n",
    "Оскільки тут ми зосереджені на алгоритмі, а не на даних, ми не будемо проводити тестування/навчання. Замість цього ми будемо використовувати змодельовані дані, де знаємо аномалії та побачимо, наскільки добре працює алгоритм.\n",
    "\n",
    "**Дані**\n",
    "\n",
    "Ми починаємо зі створення даних, які будуть комбінацією нормальних точок і аномалій. Кожен набір точок (нормальних і аномальних) генерується з двовимірного розподілу Гауса, де ми вказуємо середнє значення в кожному вимірі, а також коваріаційну матрицю. Ми вибираємо нормальні дані як 100 точок, щільно згрупованих разом, тоді як аномалії – це 10 точок, які розташовані далі та поширені ширше."
   ]
  },
  {
   "cell_type": "code",
   "id": "3d8e7b7d",
   "metadata": {
    "ExecuteTime": {
     "end_time": "2025-02-19T12:11:33.500939Z",
     "start_time": "2025-02-19T12:11:33.451715Z"
    }
   },
   "source": [
    "np.random.seed(16) # При скиданні вихідного коду (кожного разу) щоразу з’являтиметься однаковий набір чисел.\n",
    "\n",
    "# generate the normal data\n",
    "normal_mean = np.array([1.0, 2.0]) \n",
    "normal_covariance = np.array([[0.2, 0.0], [0.0, 0.1]])\n",
    "normal_data = np.random.multivariate_normal(normal_mean, normal_covariance, 100)\n",
    "\n",
    "# generate the anomalous data\n",
    "anomaly_mean = np.array([6.0, 8.0]) \n",
    "anomaly_covariance = np.array([[2.0, 0.0], [0.0, 4.0]])\n",
    "anomaly_data = np.random.multivariate_normal(anomaly_mean, anomaly_covariance, 10)\n",
    "\n",
    "# Примітка:\n",
    "#\n",
    "# Не плутайте два використання слова «нормальний»\n",
    "# «Нормальний» у np.random.multivariate_normal відноситься до розподілу Гауса\n",
    "# і не пов’язане з нормою чи аномалією\n",
    "#\n",
    "\n",
    "# Об’єднайте дані в один масив для подальшого використання\n",
    "all_data = np.concatenate((normal_data, anomaly_data), axis=0)"
   ],
   "outputs": [],
   "execution_count": 20
  },
  {
   "cell_type": "markdown",
   "id": "16a85d95",
   "metadata": {},
   "source": [
    "**Побудуйте графік  нормальних і аномальних даних**"
   ]
  },
  {
   "cell_type": "code",
   "id": "ab7a97a0",
   "metadata": {
    "ExecuteTime": {
     "end_time": "2025-02-19T12:11:33.706721Z",
     "start_time": "2025-02-19T12:11:33.520946Z"
    }
   },
   "source": [
    "fig = plt.figure(figsize=(6,4))\n",
    "ax1 = fig.add_subplot(111)\n",
    "\n",
    "ax1.scatter(normal_data[:,0], normal_data[:,1], s=30, c='b', marker=\"o\", label='normal')\n",
    "ax1.scatter(anomaly_data[:,0], anomaly_data[:,1], s=30, c='r', marker=\"o\", label='anomaly')\n",
    "plt.legend(loc='upper left');\n",
    "plt.xlabel('x', fontsize=12)\n",
    "plt.ylabel('y', fontsize=12)\n",
    "plt.show()"
   ],
   "outputs": [
    {
     "data": {
      "text/plain": [
       "<Figure size 600x400 with 1 Axes>"
      ],
      "image/png": "[encoded data removed]"
     },
     "metadata": {},
     "output_type": "display_data"
    }
   ],
   "execution_count": 21
  },
  {
   "cell_type": "markdown",
   "id": "7bb8181d",
   "metadata": {},
   "source": [
    "### Алгоритм\n",
    "Спочатку ми реалізуємо справжній алгоритм на основі кутів. Тобто ми обчислюємо фактичні кути для кожного набору з трьох точок у даних. Як ви побачите, цей алгоритм працює погано, що змушує нас розглянути альтернативу: зважене на відстані виявлення аномалії на основі кута, яке ми обговорювали на лекціях. У вправі 3 вас попросять реалізувати цей алгоритм, зважений на відстані, і перевірити, наскільки добре він визначає аномалії.\n",
    "\n",
    "Ми починаємо з побудови двох ключових функцій для алгоритму виявлення аномалії на основі кута. Перша функція, angle, обчислює кут між трьома точками."
   ]
  },
  {
   "cell_type": "code",
   "id": "b8276d34",
   "metadata": {
    "ExecuteTime": {
     "end_time": "2025-02-19T12:11:33.743670Z",
     "start_time": "2025-02-19T12:11:33.739576Z"
    }
   },
   "source": [
    "# Дано точки A, B і C, ця функція повертає гострий кут між векторами AB і AC\n",
    "# використовуючи скалярний добуток між цими векторами\n",
    "\n",
    "def angle(point1, point2, point3): \n",
    "    v21 = np.subtract(point2, point1)\n",
    "    v31 = np.subtract(point3, point1)\n",
    "    dot_product = (v21*v31).sum()\n",
    "    normalization = np.linalg.norm(v21)*np.linalg.norm(v31)\n",
    "    acute_angle = np.arccos(dot_product/normalization)\n",
    "    return acute_angle"
   ],
   "outputs": [],
   "execution_count": 22
  },
  {
   "cell_type": "markdown",
   "id": "f7334693",
   "metadata": {},
   "source": [
    "Друга функція, eval_angle_point, приймає два входи: точку та дані (набір точок). Ця функція повертає список кутів, які вхідна точка утворює з усіма парами точок у вхідних даних. Він використовує кут розрахунку кута.\n",
    "\n",
    "Простий цикл через усі пари точок у даних недостатній, тому що ми повинні переконатися, що три точки ведуть до чітко визначених кутів без повторень. Точніше кажучи, якщо ми вибираємо точку A, а потім розглядаємо дві точки в даних B (друга точка) і C (третя точка), ми хочемо переконатися, що виконуються такі умови:\n",
    "\n",
    "Точка В відрізняється від точки А\n",
    "Точка C відрізняється від A і B\n",
    "Ми не обчислюємо той самий кут двічі. Тобто, якщо ми обчислюємо кут між векторами AB і AC (де B — друга точка, а C — третя точка), ми не повторюємо обчислення з векторами AC і AB (де C — друга точка, а B — третій пункт).\n",
    "Конструкції *if* в *eval_angle_point* забезпечують виконання трьох умов."
   ]
  },
  {
   "cell_type": "code",
   "id": "0e265f6e",
   "metadata": {
    "ExecuteTime": {
     "end_time": "2025-02-19T12:11:33.803032Z",
     "start_time": "2025-02-19T12:11:33.798691Z"
    }
   },
   "source": [
    "def eval_angle_point(point, data):\n",
    "    angles_data = []\n",
    "    for index_b, b in enumerate(data):\n",
    "        if (np.array_equal(b, point)):\n",
    "            continue\n",
    "        # переконайтеся, що точка C йде пізніше в масиві, ніж точка B\n",
    "         # щоб ми не рахували точки подвійно\n",
    "        for c in data[index_b + 1:]:\n",
    "            if (np.array_equal(c, point)) or (np.array_equal(c, b)):\n",
    "                continue\n",
    "            angles_data.append(angle(point, b, c))\n",
    "    return angles_data"
   ],
   "outputs": [],
   "execution_count": 23
  },
  {
   "cell_type": "markdown",
   "id": "5f41fd46",
   "metadata": {},
   "source": [
    "Тепер ми використовуємо eval_angle_point з однією точкою з нормальних даних і іншою з аномальних даних, щоб проілюструвати твердження, яке ми зробили вище: аномалії мають меншу кутову дисперсію, ніж нормальні точки.\n",
    "\n",
    "#### Виберіть нормальну точку та аномалію навмання та побудуйте графік кутів для 100 пар точок у даних."
   ]
  },
  {
   "cell_type": "code",
   "id": "9f389bd2",
   "metadata": {
    "ExecuteTime": {
     "end_time": "2025-02-19T12:11:34.941421Z",
     "start_time": "2025-02-19T12:11:33.824042Z"
    }
   },
   "source": [
    "fig2 = plt.figure(figsize=(6,4))\n",
    "ax2 = fig2.add_subplot(111)\n",
    "np.random.seed(17)\n",
    "normal_point = random.choice(normal_data)\n",
    "anomaly_point = random.choice(anomaly_data)\n",
    "normal_angles = eval_angle_point(normal_point, all_data) #рахуємо кути для нормальних точок\n",
    "anomaly_angles = eval_angle_point(anomaly_point, all_data) #рахуємо кути для аномальних точок\n",
    "ax2.plot(normal_angles[0:100],  marker=\"o\", label='normal')\n",
    "ax2.plot(anomaly_angles[0:100], marker=\"o\", label='anomaly')\n",
    "plt.xlabel('label', fontsize=12)\n",
    "plt.ylabel('angle (rad)', fontsize=12)\n",
    "plt.legend(loc='best')\n",
    "plt.savefig('angle_based.png', dpi=600) # for use in the lecture\n",
    "plt.show()"
   ],
   "outputs": [
    {
     "data": {
      "text/plain": [
       "<Figure size 600x400 with 1 Axes>"
      ],
      "image/png": "[encoded data removed]"
     },
     "metadata": {},
     "output_type": "display_data"
    }
   ],
   "execution_count": 24
  },
  {
   "cell_type": "code",
   "id": "468a7cb5",
   "metadata": {
    "ExecuteTime": {
     "end_time": "2025-02-19T12:11:35.014127Z",
     "start_time": "2025-02-19T12:11:35.008522Z"
    }
   },
   "source": [
    "print('The normal point is {}'.format(normal_point))\n",
    "print('The variance in angle for the normal point is {:.5f}'.format(np.var(normal_angles)))\n",
    "print('The anomaly point is {}'.format(anomaly_point))\n",
    "print('The variance in angle for the anomaly point is {:.5f}'.format(np.var(anomaly_angles)))"
   ],
   "outputs": [
    {
     "name": "stdout",
     "output_type": "stream",
     "text": [
      "The normal point is [1.04961437 1.68318721]\n",
      "The variance in angle for the normal point is 0.68908\n",
      "The anomaly point is [4.67420517 7.39770618]\n",
      "The variance in angle for the anomaly point is 0.76739\n"
     ]
    }
   ],
   "execution_count": 25
  },
  {
   "cell_type": "markdown",
   "id": "d8b66b20",
   "metadata": {},
   "source": [
    "Це порівняння двох точок виглядає багатообіцяючим, але не є статистично значущим.\n",
    "\n",
    "Давайте обчислимо дисперсію кута для всіх даних аномалії. Ми позначимо аномалії типом «0», щоб ми могли порівняти їх із нормальними даними (тип «1») нижче."
   ]
  },
  {
   "cell_type": "code",
   "id": "1ba0a497",
   "metadata": {
    "ExecuteTime": {
     "end_time": "2025-02-19T12:11:36.315878Z",
     "start_time": "2025-02-19T12:11:35.082038Z"
    }
   },
   "source": [
    "df_anomaly = pd.DataFrame(columns=['point','angle variance','type'])\n",
    "for index, item in enumerate(anomaly_data):\n",
    "    df_anomaly.loc[index] = [item, np.var(eval_angle_point(item, all_data)), 0]"
   ],
   "outputs": [],
   "execution_count": 26
  },
  {
   "cell_type": "markdown",
   "id": "99eba9a0",
   "metadata": {},
   "source": [
    "Подивіться на перші десять записів."
   ]
  },
  {
   "cell_type": "code",
   "id": "42754e19",
   "metadata": {
    "ExecuteTime": {
     "end_time": "2025-02-19T12:11:36.347694Z",
     "start_time": "2025-02-19T12:11:36.335816Z"
    }
   },
   "source": [
    "df_anomaly.head(10)"
   ],
   "outputs": [
    {
     "data": {
      "text/plain": [
       "                                     point  angle variance  type\n",
       "0   [7.066571495854759, 8.281551528370615]        0.239963     0\n",
       "1   [4.912232977610025, 8.944978801062241]        0.447247     0\n",
       "2   [5.618891639278701, 9.532065047272486]        0.224829     0\n",
       "3  [7.1614373367580715, 8.987418490481454]        0.091516     0\n",
       "4   [4.674205174076478, 7.397706178223456]        0.767388     0\n",
       "5  [5.586324770476369, 10.062306048806747]        0.092226     0\n",
       "6   [7.269879610663201, 7.966183826740902]        0.235928     0\n",
       "7  [6.098404325738117, 6.8499254027187835]        0.615849     0\n",
       "8     [4.525878242454957, 8.9101902697607]        0.454711     0\n",
       "9   [5.91594235166447, 6.4859511951762014]        0.719209     0"
      ],
      "text/html": [
       "<div>\n",
       "<style scoped>\n",
       "    .dataframe tbody tr th:only-of-type {\n",
       "        vertical-align: middle;\n",
       "    }\n",
       "\n",
       "    .dataframe tbody tr th {\n",
       "        vertical-align: top;\n",
       "    }\n",
       "\n",
       "    .dataframe thead th {\n",
       "        text-align: right;\n",
       "    }\n",
       "</style>\n",
       "<table border=\"1\" class=\"dataframe\">\n",
       "  <thead>\n",
       "    <tr style=\"text-align: right;\">\n",
       "      <th></th>\n",
       "      <th>point</th>\n",
       "      <th>angle variance</th>\n",
       "      <th>type</th>\n",
       "    </tr>\n",
       "  </thead>\n",
       "  <tbody>\n",
       "    <tr>\n",
       "      <th>0</th>\n",
       "      <td>[7.066571495854759, 8.281551528370615]</td>\n",
       "      <td>0.239963</td>\n",
       "      <td>0</td>\n",
       "    </tr>\n",
       "    <tr>\n",
       "      <th>1</th>\n",
       "      <td>[4.912232977610025, 8.944978801062241]</td>\n",
       "      <td>0.447247</td>\n",
       "      <td>0</td>\n",
       "    </tr>\n",
       "    <tr>\n",
       "      <th>2</th>\n",
       "      <td>[5.618891639278701, 9.532065047272486]</td>\n",
       "      <td>0.224829</td>\n",
       "      <td>0</td>\n",
       "    </tr>\n",
       "    <tr>\n",
       "      <th>3</th>\n",
       "      <td>[7.1614373367580715, 8.987418490481454]</td>\n",
       "      <td>0.091516</td>\n",
       "      <td>0</td>\n",
       "    </tr>\n",
       "    <tr>\n",
       "      <th>4</th>\n",
       "      <td>[4.674205174076478, 7.397706178223456]</td>\n",
       "      <td>0.767388</td>\n",
       "      <td>0</td>\n",
       "    </tr>\n",
       "    <tr>\n",
       "      <th>5</th>\n",
       "      <td>[5.586324770476369, 10.062306048806747]</td>\n",
       "      <td>0.092226</td>\n",
       "      <td>0</td>\n",
       "    </tr>\n",
       "    <tr>\n",
       "      <th>6</th>\n",
       "      <td>[7.269879610663201, 7.966183826740902]</td>\n",
       "      <td>0.235928</td>\n",
       "      <td>0</td>\n",
       "    </tr>\n",
       "    <tr>\n",
       "      <th>7</th>\n",
       "      <td>[6.098404325738117, 6.8499254027187835]</td>\n",
       "      <td>0.615849</td>\n",
       "      <td>0</td>\n",
       "    </tr>\n",
       "    <tr>\n",
       "      <th>8</th>\n",
       "      <td>[4.525878242454957, 8.9101902697607]</td>\n",
       "      <td>0.454711</td>\n",
       "      <td>0</td>\n",
       "    </tr>\n",
       "    <tr>\n",
       "      <th>9</th>\n",
       "      <td>[5.91594235166447, 6.4859511951762014]</td>\n",
       "      <td>0.719209</td>\n",
       "      <td>0</td>\n",
       "    </tr>\n",
       "  </tbody>\n",
       "</table>\n",
       "</div>"
      ]
     },
     "execution_count": 27,
     "metadata": {},
     "output_type": "execute_result"
    }
   ],
   "execution_count": 27
  },
  {
   "cell_type": "markdown",
   "id": "0ae91b51",
   "metadata": {},
   "source": [
    "Це трохи бентежить. Дисперсія кута для багатьох аномалій є досить високою – вищою навіть за дисперсію нормальної точки, яку ми розглянули вище. Щоб завершити наш аналіз, нам також потрібна дисперсія для нормальних даних, яку ми обчислюємо нижче (позначаючи нормальні дані як тип «1»)"
   ]
  },
  {
   "cell_type": "code",
   "id": "30282058",
   "metadata": {
    "ExecuteTime": {
     "end_time": "2025-02-19T12:11:49.252834Z",
     "start_time": "2025-02-19T12:11:36.397781Z"
    }
   },
   "source": [
    "df_normal = pd.DataFrame(columns=['point','angle variance','type'])\n",
    "for index2, item2 in enumerate(normal_data):\n",
    "    df_normal.loc[index2] = [item2, np.var(eval_angle_point(item2, all_data)), 1]"
   ],
   "outputs": [],
   "execution_count": 28
  },
  {
   "cell_type": "code",
   "id": "7b987ddb",
   "metadata": {
    "ExecuteTime": {
     "end_time": "2025-02-19T12:11:49.296983Z",
     "start_time": "2025-02-19T12:11:49.286212Z"
    }
   },
   "source": [
    "df_normal.head(10)"
   ],
   "outputs": [
    {
     "data": {
      "text/plain": [
       "                                       point  angle variance  type\n",
       "0    [1.057220407617929, 1.5166542526994613]        0.442425     1\n",
       "1    [0.7341458372525282, 2.020975505908734]        0.810849     1\n",
       "2  [0.44746989551628713, 1.8035059930728545]        0.326829     1\n",
       "3    [0.6024504585701147, 2.157769149062043]        0.629593     1\n",
       "4    [0.648088917734629, 2.0375500118982566]        0.701444     1\n",
       "5   [0.6615205158568662, 2.1560163153875744]        0.706020     1\n",
       "6   [0.6246069790039117, 1.6790219066107057]        0.432611     1\n",
       "7   [0.8468205401506654, 2.5959198435039514]        0.580395     1\n",
       "8   [0.8788440637281327, 1.5409260367027504]        0.419533     1\n",
       "9    [0.5169382272892247, 2.811148431089265]        0.377435     1"
      ],
      "text/html": [
       "<div>\n",
       "<style scoped>\n",
       "    .dataframe tbody tr th:only-of-type {\n",
       "        vertical-align: middle;\n",
       "    }\n",
       "\n",
       "    .dataframe tbody tr th {\n",
       "        vertical-align: top;\n",
       "    }\n",
       "\n",
       "    .dataframe thead th {\n",
       "        text-align: right;\n",
       "    }\n",
       "</style>\n",
       "<table border=\"1\" class=\"dataframe\">\n",
       "  <thead>\n",
       "    <tr style=\"text-align: right;\">\n",
       "      <th></th>\n",
       "      <th>point</th>\n",
       "      <th>angle variance</th>\n",
       "      <th>type</th>\n",
       "    </tr>\n",
       "  </thead>\n",
       "  <tbody>\n",
       "    <tr>\n",
       "      <th>0</th>\n",
       "      <td>[1.057220407617929, 1.5166542526994613]</td>\n",
       "      <td>0.442425</td>\n",
       "      <td>1</td>\n",
       "    </tr>\n",
       "    <tr>\n",
       "      <th>1</th>\n",
       "      <td>[0.7341458372525282, 2.020975505908734]</td>\n",
       "      <td>0.810849</td>\n",
       "      <td>1</td>\n",
       "    </tr>\n",
       "    <tr>\n",
       "      <th>2</th>\n",
       "      <td>[0.44746989551628713, 1.8035059930728545]</td>\n",
       "      <td>0.326829</td>\n",
       "      <td>1</td>\n",
       "    </tr>\n",
       "    <tr>\n",
       "      <th>3</th>\n",
       "      <td>[0.6024504585701147, 2.157769149062043]</td>\n",
       "      <td>0.629593</td>\n",
       "      <td>1</td>\n",
       "    </tr>\n",
       "    <tr>\n",
       "      <th>4</th>\n",
       "      <td>[0.648088917734629, 2.0375500118982566]</td>\n",
       "      <td>0.701444</td>\n",
       "      <td>1</td>\n",
       "    </tr>\n",
       "    <tr>\n",
       "      <th>5</th>\n",
       "      <td>[0.6615205158568662, 2.1560163153875744]</td>\n",
       "      <td>0.706020</td>\n",
       "      <td>1</td>\n",
       "    </tr>\n",
       "    <tr>\n",
       "      <th>6</th>\n",
       "      <td>[0.6246069790039117, 1.6790219066107057]</td>\n",
       "      <td>0.432611</td>\n",
       "      <td>1</td>\n",
       "    </tr>\n",
       "    <tr>\n",
       "      <th>7</th>\n",
       "      <td>[0.8468205401506654, 2.5959198435039514]</td>\n",
       "      <td>0.580395</td>\n",
       "      <td>1</td>\n",
       "    </tr>\n",
       "    <tr>\n",
       "      <th>8</th>\n",
       "      <td>[0.8788440637281327, 1.5409260367027504]</td>\n",
       "      <td>0.419533</td>\n",
       "      <td>1</td>\n",
       "    </tr>\n",
       "    <tr>\n",
       "      <th>9</th>\n",
       "      <td>[0.5169382272892247, 2.811148431089265]</td>\n",
       "      <td>0.377435</td>\n",
       "      <td>1</td>\n",
       "    </tr>\n",
       "  </tbody>\n",
       "</table>\n",
       "</div>"
      ]
     },
     "execution_count": 29,
     "metadata": {},
     "output_type": "execute_result"
    }
   ],
   "execution_count": 29
  },
  {
   "cell_type": "markdown",
   "id": "019b0b64",
   "metadata": {},
   "source": [
    "***Питання:*** Чому розрахунок для *normal_data* відносно повільний? (Підказка: яка складність алгоритму?)\n",
    "\n",
    "***Відповідь:*** Складність алгоритму $O(N^{3})$, де $N$ - кількість точок.\n",
    "\n",
    "Щоб побачити це, подумайте, як обчислюється кут. Вам потрібні три точки, і всі вони повинні бути різними. Існує $N$ способів вибрати першу точку, $N-1$ способів вибрати другу і $N-2$ способи вибрати третю. Помінявши другу та третю точки місцями, ви отримаєте той самий кут, тому загальна складність $N*(N-1)*(N-2)/2 = O(N^{3})$.\n",
    "\n",
    "Зауважте, що тут ми розділили алгоритм на дві частини: *eval_angle_point* обчислює всі кути для даної точки [складність $O(N^{2})$], а потім останні цикли вище (для *df_anomaly* і *df_normal*) пройти по всіх точках [складність $O(N)$]\n",
    "\n",
    "Перехід від 10 точок для аномалій до 100 точок для звичайних даних збільшує час роботи приблизно в $10^3=1000$, що призводить до помітного сповільнення. Як ми обговорювали на лекціях, є способи пришвидшити алгоритм, але навіть у модніших версіях виявлення аномалій на основі кутів відбувається повільно.\n",
    "\n",
    "**Об’єднайте два датафреймів для аномалій і нормальних точок і відсортуйте їх у порядку зростання за дисперсією кута. Якщо наш алгоритм виявлення аномалій ідеальний, то всі перші десять записів мають бути аномаліями (тип 0).**"
   ]
  },
  {
   "cell_type": "code",
   "id": "71e029a0",
   "metadata": {
    "ExecuteTime": {
     "end_time": "2025-02-19T12:11:49.373055Z",
     "start_time": "2025-02-19T12:11:49.362078Z"
    }
   },
   "source": [
    "#df_all = df_anomaly.append(df_normal, ignore_index=True)\n",
    "df_all = pd.concat([df_anomaly,df_normal], ignore_index=True)\n",
    "df_all.sort_values(by=['angle variance']).head(10)\n",
    "#print(df_all)"
   ],
   "outputs": [
    {
     "data": {
      "text/plain": [
       "                                           point  angle variance  type\n",
       "43   [-0.007963240085042012, 1.6819486434208086]        0.085313     1\n",
       "25       [0.3717420163194104, 1.213654699499786]        0.091273     1\n",
       "3        [7.1614373367580715, 8.987418490481454]        0.091516     0\n",
       "5        [5.586324770476369, 10.062306048806747]        0.092226     0\n",
       "2         [5.618891639278701, 9.532065047272486]        0.224829     0\n",
       "6         [7.269879610663201, 7.966183826740902]        0.235928     0\n",
       "0         [7.066571495854759, 8.281551528370615]        0.239963     0\n",
       "78      [1.5633761101073278, 1.3905898245810073]        0.258711     1\n",
       "90     [0.29736034146994617, 2.4299459590107038]        0.268153     1\n",
       "105      [1.004238386524476, 1.4325277933330982]        0.310493     1"
      ],
      "text/html": [
       "<div>\n",
       "<style scoped>\n",
       "    .dataframe tbody tr th:only-of-type {\n",
       "        vertical-align: middle;\n",
       "    }\n",
       "\n",
       "    .dataframe tbody tr th {\n",
       "        vertical-align: top;\n",
       "    }\n",
       "\n",
       "    .dataframe thead th {\n",
       "        text-align: right;\n",
       "    }\n",
       "</style>\n",
       "<table border=\"1\" class=\"dataframe\">\n",
       "  <thead>\n",
       "    <tr style=\"text-align: right;\">\n",
       "      <th></th>\n",
       "      <th>point</th>\n",
       "      <th>angle variance</th>\n",
       "      <th>type</th>\n",
       "    </tr>\n",
       "  </thead>\n",
       "  <tbody>\n",
       "    <tr>\n",
       "      <th>43</th>\n",
       "      <td>[-0.007963240085042012, 1.6819486434208086]</td>\n",
       "      <td>0.085313</td>\n",
       "      <td>1</td>\n",
       "    </tr>\n",
       "    <tr>\n",
       "      <th>25</th>\n",
       "      <td>[0.3717420163194104, 1.213654699499786]</td>\n",
       "      <td>0.091273</td>\n",
       "      <td>1</td>\n",
       "    </tr>\n",
       "    <tr>\n",
       "      <th>3</th>\n",
       "      <td>[7.1614373367580715, 8.987418490481454]</td>\n",
       "      <td>0.091516</td>\n",
       "      <td>0</td>\n",
       "    </tr>\n",
       "    <tr>\n",
       "      <th>5</th>\n",
       "      <td>[5.586324770476369, 10.062306048806747]</td>\n",
       "      <td>0.092226</td>\n",
       "      <td>0</td>\n",
       "    </tr>\n",
       "    <tr>\n",
       "      <th>2</th>\n",
       "      <td>[5.618891639278701, 9.532065047272486]</td>\n",
       "      <td>0.224829</td>\n",
       "      <td>0</td>\n",
       "    </tr>\n",
       "    <tr>\n",
       "      <th>6</th>\n",
       "      <td>[7.269879610663201, 7.966183826740902]</td>\n",
       "      <td>0.235928</td>\n",
       "      <td>0</td>\n",
       "    </tr>\n",
       "    <tr>\n",
       "      <th>0</th>\n",
       "      <td>[7.066571495854759, 8.281551528370615]</td>\n",
       "      <td>0.239963</td>\n",
       "      <td>0</td>\n",
       "    </tr>\n",
       "    <tr>\n",
       "      <th>78</th>\n",
       "      <td>[1.5633761101073278, 1.3905898245810073]</td>\n",
       "      <td>0.258711</td>\n",
       "      <td>1</td>\n",
       "    </tr>\n",
       "    <tr>\n",
       "      <th>90</th>\n",
       "      <td>[0.29736034146994617, 2.4299459590107038]</td>\n",
       "      <td>0.268153</td>\n",
       "      <td>1</td>\n",
       "    </tr>\n",
       "    <tr>\n",
       "      <th>105</th>\n",
       "      <td>[1.004238386524476, 1.4325277933330982]</td>\n",
       "      <td>0.310493</td>\n",
       "      <td>1</td>\n",
       "    </tr>\n",
       "  </tbody>\n",
       "</table>\n",
       "</div>"
      ]
     },
     "execution_count": 30,
     "metadata": {},
     "output_type": "execute_result"
    }
   ],
   "execution_count": 30
  },
  {
   "cell_type": "markdown",
   "id": "4b48687d",
   "metadata": {},
   "source": [
    "Ой! Ми знаходимо лише п'ять із десяти аномалій, а дві точки з найменшою дисперсією належать до нормальних даних. Зрозуміло, що наш алгоритм потребує доопрацювання. Ви покращите його у вправі 3.\n",
    "\n",
    "Можна порівняти з https://medium.com/analytics-vidhya/anomaly-detection-using-angle-based-techniques-5d8db8500d14"
   ]
  },
  {
   "cell_type": "markdown",
   "id": "647885bd",
   "metadata": {},
   "source": [
    "# Розділ 3: Виявлення аномалій на основі глибини¶\n",
    "\n",
    "\n",
    "У цьому розділі ми використовуємо визначення аномалій на основі глибини для виявлення аномалій у змодельованих двовимірних даних. Подібно до виявлення аномалій на основі кутів, виявлення аномалій на основі глибини для пошуку аномалій використовує геометричну структуру даних, а не основний розподіл ймовірностей.\n",
    "\n",
    "Хоча зрозуміло, що ми маємо на увазі під кутом, необхідно визначити поняття глибини. Загальна ідея глибини полягає в присвоєнні числового значення кожній точці. Як і у випадку з дисперсією кута, точки нижче певного значення глибини вважаються аномаліями.\n",
    "\n",
    "Тут ми приймемо глибину як глибину відшарування опуклої оболонки, як визначено нижче. (див. також тему 2 і http://www.cs.tufts.edu/r/geometry/pdf/alenex06-deptheexplorer.pdf)\n",
    "\n",
    "Глибина точки X відносно набору даних S (що складається з багатьох точок, включаючи X) — це рівень опуклого шару, до якого належить X. Рівень опуклого шару визначається таким чином: точки на зовнішній опуклій оболонці S позначаються рівнем один, а точки на j-му рівні (з j додатним цілим числом) є точками на опуклій оболонці S після точок на усі попередні рівні видалено.\n",
    "\n",
    "Використовуючи це визначення, ми виконуємо глибинне виявлення аномалії наступним чином:"
   ]
  },
  {
   "cell_type": "markdown",
   "id": "ca8ace37",
   "metadata": {},
   "source": [
    "1. Побудуйте опуклу оболонку для даних\n",
    "2. Позначте точки на оболонці як глибину 1\n",
    "3. Видаліть точки із  глибиною 1\n",
    "4. Побудуйте опуклу оболонку для решти даних\n",
    "5. Позначте точки на залі як глибина 2\n",
    "6. Видаліть точки із  глибиною 2\n",
    "7. Продовжуйте кроки (4-6), щоразу збільшуючи рівень глибини на один\n",
    "8. Коли не залишиться достатньо точок для побудови опуклої оболонки, збільште глибину та позначте решту точок (якщо є) кінцевим значенням глибини та завершіть побудову опуклої оболонки\n",
    "9. Аномалії - це ті точки, значення глибини яких нижче попередньо вибраного порогу\n",
    "\n",
    "Враховуючи структуру алгоритму, ми розраховуємо реалізувати його рекурсивно."
   ]
  },
  {
   "cell_type": "markdown",
   "id": "e68e4b45",
   "metadata": {},
   "source": [
    "#### Дані\n",
    "Ми проілюструємо алгоритм за допомогою 2D-набору даних. Як ми згадували в лекції, глибина значно сповільнюється зі збільшенням розмірності. Ми будемо працювати з невеликим набором даних для наочності."
   ]
  },
  {
   "cell_type": "code",
   "id": "d64dd93d",
   "metadata": {
    "ExecuteTime": {
     "end_time": "2025-02-19T12:11:49.620619Z",
     "start_time": "2025-02-19T12:11:49.612990Z"
    }
   },
   "source": [
    "# Select 30 random points from a 2D uniform distribution between zero and one\n",
    "np.random.seed(20)  #завантажує генератор\n",
    "points = np.random.rand(30, 2)   #генерує масим 30х1 з двовимірними даними, тобто 30х2"
   ],
   "outputs": [],
   "execution_count": 31
  },
  {
   "cell_type": "markdown",
   "id": "f7a0da19",
   "metadata": {},
   "source": [
    "Графік даних"
   ]
  },
  {
   "cell_type": "code",
   "id": "f548a0d3",
   "metadata": {
    "ExecuteTime": {
     "end_time": "2025-02-19T12:11:49.872588Z",
     "start_time": "2025-02-19T12:11:49.786617Z"
    }
   },
   "source": [
    "plt.plot(points[:, 0], points[:, 1], 'o')\n",
    "plt.xlabel('x', fontsize=12)\n",
    "plt.ylabel('y', fontsize=12)\n",
    "plt.show()"
   ],
   "outputs": [
    {
     "data": {
      "text/plain": [
       "<Figure size 640x480 with 1 Axes>"
      ],
      "image/png": "[encoded data removed]"
     },
     "metadata": {},
     "output_type": "display_data"
    }
   ],
   "execution_count": 32
  },
  {
   "cell_type": "markdown",
   "id": "7bd8a12a",
   "metadata": {},
   "source": [
    "### Алгоритм\n",
    "Побудуємо серію опуклих оболонок. Давайте подивимося на одну для всіх даних, який створює точки глибини 1.\n",
    "\n",
    "Існує готова функція Python для побудови опуклої оболонки."
   ]
  },
  {
   "cell_type": "code",
   "id": "0da1a9de",
   "metadata": {
    "ExecuteTime": {
     "end_time": "2025-02-19T12:11:49.951736Z",
     "start_time": "2025-02-19T12:11:49.930824Z"
    }
   },
   "source": [
    "from scipy.spatial import ConvexHull\n",
    "hull = ConvexHull(points) #функція побудови оболонки"
   ],
   "outputs": [],
   "execution_count": 33
  },
  {
   "cell_type": "code",
   "id": "7c1e841b",
   "metadata": {
    "ExecuteTime": {
     "end_time": "2025-02-19T12:11:50.333356Z",
     "start_time": "2025-02-19T12:11:50.185357Z"
    }
   },
   "source": [
    "plt.plot(points[:, 0], points[:, 1], 'o')\n",
    "plt.xlabel('x', fontsize=12)\n",
    "plt.ylabel('y', fontsize=12)\n",
    "for simplex in hull.simplices:\n",
    "    # In 2D, the simplicies are the lines connecting the points on the hull\n",
    "    plt.plot(points[simplex, 0], points[simplex, 1], 'k-')\n",
    "plt.show()"
   ],
   "outputs": [
    {
     "data": {
      "text/plain": [
       "<Figure size 640x480 with 1 Axes>"
      ],
      "image/png": "[encoded data removed]"
     },
     "metadata": {},
     "output_type": "display_data"
    }
   ],
   "execution_count": 34
  },
  {
   "cell_type": "markdown",
   "id": "1cff929d",
   "metadata": {},
   "source": [
    "Тепер реалізуємо конструкцію рекурсивної опуклої оболонки."
   ]
  },
  {
   "cell_type": "code",
   "id": "751bcaa0",
   "metadata": {
    "ExecuteTime": {
     "end_time": "2025-02-19T12:11:50.384874Z",
     "start_time": "2025-02-19T12:11:50.378357Z"
    }
   },
   "source": [
    "# Функція *depth_calculator* приймає три входи:\n",
    "# дані;\n",
    "# словник, який заповнює *depth_calculator*\n",
    "# з координатами кожної точки (ключ) і її відповідною глибиною (значення);\n",
    "# лічильник для відстеження глибини. Його вихідним значенням є глибина зовнішньої оболонки\n",
    "\n",
    "def depth_calculator(data, dict, count):\n",
    "    next_data = []\n",
    "    if len(data) < 3: # у 2D для створення опуклої оболонки потрібні принаймні три точки \n",
    "        for index, item in enumerate(data):\n",
    "            dict[tuple(item)] = count # призначити глибину для решти точок\n",
    "        print('Все зроблено! Для побудови опуклої оболонки потрібно не менше 3 точок. ')  # End\n",
    "    else:\n",
    "        hull = ConvexHull(data) # функція побудови оболонки\n",
    "        for index, item in enumerate(data):\n",
    "            if item in data[hull.vertices]:\n",
    "                dict[tuple(item)] = count # призначити глибину точкам на оболонці\n",
    "            else:\n",
    "                dict[tuple(item)] = count + 1.0 # призначити depth+1 для точок не на оболонці\n",
    "                next_data.append(item)\n",
    "        new_data =np.asarray(next_data) # створити новий файл даних точок не на оболонці\n",
    "        depth_calculator(new_data, dict, count + 1.0) # повторіть для нового файлу даних"
   ],
   "outputs": [],
   "execution_count": 35
  },
  {
   "cell_type": "code",
   "id": "ff6285a4",
   "metadata": {
    "ExecuteTime": {
     "end_time": "2025-02-19T12:11:50.426961Z",
     "start_time": "2025-02-19T12:11:50.411444Z"
    }
   },
   "source": [
    "depth_dict = {} # порожній словник для deep_calculator\n",
    "depth_calculator(points, depth_dict, 1.0) # початкова оболонка має глибину 1,0"
   ],
   "outputs": [
    {
     "name": "stdout",
     "output_type": "stream",
     "text": [
      "Все зроблено! Для побудови опуклої оболонки потрібно не менше 3 точок. \n"
     ]
    }
   ],
   "execution_count": 36
  },
  {
   "cell_type": "markdown",
   "id": "97425a24",
   "metadata": {},
   "source": [
    "#### Нанесіть точки з їх глибиною як анотацію"
   ]
  },
  {
   "cell_type": "code",
   "id": "ffa35995",
   "metadata": {
    "ExecuteTime": {
     "end_time": "2025-02-19T12:11:50.514515Z",
     "start_time": "2025-02-19T12:11:50.509398Z"
    }
   },
   "source": [
    "def depth_plot (dict):\n",
    "    xs,ys = zip(*dict.keys())\n",
    "    depth_label = list(dict.values())   \n",
    "    plt.figure(figsize=(8,6))\n",
    "    plt.title('Depth Labels', fontsize=20)\n",
    "    plt.xlabel('x', fontsize=15)\n",
    "    plt.ylabel('y', fontsize=15)\n",
    "    plt.scatter(xs, ys, marker = 'o',)\n",
    "    for label, x, y in zip(depth_label, xs, ys):\n",
    "        plt.annotate(label, xy = (x, y), xytext=(3,3), textcoords='offset points')"
   ],
   "outputs": [],
   "execution_count": 37
  },
  {
   "cell_type": "code",
   "id": "e3bbee7c",
   "metadata": {
    "ExecuteTime": {
     "end_time": "2025-02-19T12:14:37.743788Z",
     "start_time": "2025-02-19T12:14:37.665488Z"
    }
   },
   "source": [
    "depth_plot(depth_dict)"
   ],
   "outputs": [],
   "execution_count": 52
  },
  {
   "cell_type": "markdown",
   "id": "d4c5d437",
   "metadata": {},
   "source": [
    "Ви можете побачити на цьому графіку, що точки, позначені як «1.0», належать до початкової опуклої оболонки. Крім того, останні три точки (глибина 5,0) утворили трикутник, після якого не залишилося жодної точки, і алгоритм завершився.\n",
    "\n",
    "Якщо припустити, що спочатку ми встановили поріг аномалії рівним 1,0, у нас буде вісім аномалій. Звичайно, у цьому випадку не було б потреби в рекурсивному підході - просто візьміть точки на самій зовнішній опуклій оболонці. Однак іноді глибина використовується як оцінка (міра того, наскільки аномальною є точка). У таких випадках корисно позначити всі точки."
   ]
  },
  {
   "cell_type": "markdown",
   "id": "853b4885",
   "metadata": {},
   "source": [
    "### Вправа №1\n",
    "Ця вправа відноситься до Розділу 1а, аналізу даних про озон із використанням підходу блокових максимумів.\n",
    "\n",
    "A. Повторіть наведений вище аналіз, використовуючи місячний максимальний ряд (monthly maximum series - MMS) замість річного.\n",
    "\n",
    "B. Чим ваші результати відрізняються від випадку AMS?\n",
    "\n",
    "C. Які плюси та мінуси використання MMS порівняно з AMS?\n",
    "\n",
    "### Рішення №1"
   ]
  },
  {
   "cell_type": "code",
   "id": "6ec1e4e6",
   "metadata": {
    "ExecuteTime": {
     "end_time": "2025-02-19T12:11:50.673505Z",
     "start_time": "2025-02-19T12:11:50.660245Z"
    }
   },
   "source": [
    "year_grouper = pd.Grouper(freq='ME')  #групування за параметром \"рік\"\n",
    "ams = ozone_aqi.groupby(year_grouper).max()  #пошук максимального значення в групах\n",
    "print(ams)\n",
    "print('')\n",
    "print('Number of AMS entries is {}'.format(len(ams)))\n"
   ],
   "outputs": [
    {
     "name": "stdout",
     "output_type": "stream",
     "text": [
      "            Ozone AQI Value\n",
      "Date                       \n",
      "1980-01-31               31\n",
      "1980-02-29               31\n",
      "1980-03-31              209\n",
      "1980-04-30              161\n",
      "1980-05-31              222\n",
      "...                     ...\n",
      "2017-08-31              122\n",
      "2017-09-30              126\n",
      "2017-10-31               50\n",
      "2017-11-30               36\n",
      "2017-12-31               36\n",
      "\n",
      "[456 rows x 1 columns]\n",
      "\n",
      "Number of AMS entries is 456\n"
     ]
    }
   ],
   "execution_count": 39
  },
  {
   "cell_type": "markdown",
   "id": "9fd590f5",
   "metadata": {},
   "source": [
    "Це параметри форми 𝜉, розташування $\\mu$ та масштабу $\\sigma$ відповідно для GEV."
   ]
  },
  {
   "cell_type": "code",
   "id": "9eba4eb6",
   "metadata": {
    "ExecuteTime": {
     "end_time": "2025-02-19T12:11:50.772449Z",
     "start_time": "2025-02-19T12:11:50.700260Z"
    }
   },
   "source": [
    "fit = ss.genextreme.fit(ams)\n",
    "print(fit)"
   ],
   "outputs": [
    {
     "name": "stdout",
     "output_type": "stream",
     "text": [
      "(np.float64(-0.3799753177691755), np.float64(73.59435631908137), np.float64(48.77164157425665))\n"
     ]
    }
   ],
   "execution_count": 40
  },
  {
   "cell_type": "markdown",
   "id": "cf5f8ad1",
   "metadata": {},
   "source": [
    "Тут 𝜉 = -с= 0,3799 > 0. Маємо *важкий хвіст* в GEV distribution\n",
    "\n",
    "Гістограма даних і графік підгонки"
   ]
  },
  {
   "cell_type": "code",
   "id": "7c0c677a",
   "metadata": {
    "ExecuteTime": {
     "end_time": "2025-02-19T12:11:50.989258Z",
     "start_time": "2025-02-19T12:11:50.796785Z"
    }
   },
   "source": [
    "plt.hist(ams.iloc[:,0], bins=5, density=True, alpha=0.7, label='Data')\n",
    "plt.plot(np.linspace(100, 300, 100),\n",
    "         ss.genextreme.pdf(np.linspace(100, 300, 100), fit[0], fit[1], fit[2]), 'r--',\n",
    "         label='GEV fit') \n",
    "plt.title('GEV Distribution', fontweight='bold')\n",
    "plt.xlabel('Ozone AQI value')\n",
    "plt.ylabel('Probability')\n",
    "plt.legend(loc='upper left')\n",
    "plt.show()"
   ],
   "outputs": [
    {
     "data": {
      "text/plain": [
       "<Figure size 800x600 with 1 Axes>"
      ],
      "image/png": "[encoded data removed]"
     },
     "metadata": {},
     "output_type": "display_data"
    }
   ],
   "execution_count": 41
  },
  {
   "cell_type": "code",
   "id": "d8ea3a17",
   "metadata": {
    "ExecuteTime": {
     "end_time": "2025-02-19T12:11:51.016451Z",
     "start_time": "2025-02-19T12:11:51.012050Z"
    }
   },
   "source": [
    "prob_over_200 = (1.0 - ss.genextreme.cdf(200, fit[0], fit[1], fit[2]))\n",
    "print('{:.2f}'.format(prob_over_200))"
   ],
   "outputs": [
    {
     "name": "stdout",
     "output_type": "stream",
     "text": [
      "0.15\n"
     ]
    }
   ],
   "execution_count": 42
  },
  {
   "cell_type": "markdown",
   "id": "23f57b72",
   "metadata": {},
   "source": "     Отже, ймовірність перевищення AQI 200 у певному місяці 0.15 (це краще, ніж 0,75)"
  },
  {
   "cell_type": "code",
   "id": "c90b2c0b",
   "metadata": {
    "ExecuteTime": {
     "end_time": "2025-02-19T12:11:51.078286Z",
     "start_time": "2025-02-19T12:11:51.073712Z"
    }
   },
   "source": [
    "boundary = ss.genextreme.ppf(0.99, fit[0], fit[1], fit[2])\n",
    "print(f'The one precent threshold ozone AQI level is {boundary:6.4f}')"
   ],
   "outputs": [
    {
     "name": "stdout",
     "output_type": "stream",
     "text": [
      "The one precent threshold ozone AQI level is 682.3526\n"
     ]
    }
   ],
   "execution_count": 43
  },
  {
   "cell_type": "markdown",
   "id": "4c33a491",
   "metadata": {},
   "source": [
    " перевищення AQI озону в один відсоток (з ймовірністю 0,01) у певний місяць становить 682."
   ]
  },
  {
   "cell_type": "markdown",
   "id": "e4fdfb97",
   "metadata": {},
   "source": [
    "### Вправа №2\n",
    "\n",
    "Ця вправа відноситься до Розділу 2 (виявлення аномалії за кутом).\n",
    "\n",
    "A. Змініть обчислення кута так, щоб він обчислював змінений кут між двома векторами $\\bf{a}$ і $\\bf{b}$, як обговорювалося в лекціях:\n",
    "\n",
    "\\begin{equation}\n",
    "\\theta_{\\rm mod} = \\frac{\\bf{a} \\dot \\bf{b}}{a^{2}b^{2}}\n",
    "\\end{equation}\n",
    "\n",
    "де $a$ і $b$ — абсолютні значення $\\bf{a}$ і $\\bf{b}$ відповідно.\n",
    "\n",
    "B. Повторіть виявлення аномалії, використовуючи змінений кут. Цей алгоритм працює краще?\n",
    "\n",
    "C. Чи змінилася складність алгоритму? Якщо так, то в чому полягає нова складність?\n",
    "\n",
    "### Рішення №2"
   ]
  },
  {
   "cell_type": "code",
   "id": "853d8ccf",
   "metadata": {
    "ExecuteTime": {
     "end_time": "2025-02-19T12:11:51.135326Z",
     "start_time": "2025-02-19T12:11:51.131047Z"
    }
   },
   "source": [
    "def angle(point1, point2, point3): \n",
    "    v21 = np.subtract(point2, point1)  \n",
    "    v31 = np.subtract(point3, point1)  \n",
    "    \n",
    "    dot_product = np.dot(v21, v31) \n",
    "    norm_v21 = np.linalg.norm(v21) \n",
    "    norm_v31 = np.linalg.norm(v31) \n",
    "    \n",
    "    modified_theta = dot_product / (norm_v21**2 * norm_v31**2) \n",
    "    \n",
    "    return modified_theta"
   ],
   "outputs": [],
   "execution_count": 44
  },
  {
   "cell_type": "code",
   "id": "58e4c23b",
   "metadata": {
    "ExecuteTime": {
     "end_time": "2025-02-19T12:11:52.897699Z",
     "start_time": "2025-02-19T12:11:51.179377Z"
    }
   },
   "source": [
    "fig2 = plt.figure(figsize=(6,4))\n",
    "ax2 = fig2.add_subplot(111)\n",
    "np.random.seed(17)\n",
    "normal_point = random.choice(normal_data)\n",
    "anomaly_point = random.choice(anomaly_data)\n",
    "normal_angles = eval_angle_point(normal_point, all_data) #рахуємо кути для нормальних точок\n",
    "anomaly_angles = eval_angle_point(anomaly_point, all_data) #рахуємо кути для аномальних точок\n",
    "ax2.plot(normal_angles[0:100],  marker=\"o\", label='normal')\n",
    "ax2.plot(anomaly_angles[0:100], marker=\"o\", label='anomaly')\n",
    "plt.xlabel('label', fontsize=12)\n",
    "plt.ylabel('angle (rad)', fontsize=12)\n",
    "plt.legend(loc='best')\n",
    "plt.savefig('angle_based.png', dpi=600) # for use in the lecture\n",
    "plt.show()\n",
    "print('The normal point is {}'.format(normal_point))\n",
    "print('The variance in angle for the normal point is {:.5f}'.format(np.var(normal_angles)))\n",
    "print('The anomaly point is {}'.format(anomaly_point))\n",
    "print('The variance in angle for the anomaly point is {:.5f}'.format(np.var(anomaly_angles)))"
   ],
   "outputs": [
    {
     "data": {
      "text/plain": [
       "<Figure size 600x400 with 1 Axes>"
      ],
      "image/png": "[encoded data removed]"
     },
     "metadata": {},
     "output_type": "display_data"
    },
    {
     "name": "stdout",
     "output_type": "stream",
     "text": [
      "The normal point is [0.60245046 2.15776915]\n",
      "The variance in angle for the normal point is 91.91068\n",
      "The anomaly point is [6.09840433 6.8499254 ]\n",
      "The variance in angle for the anomaly point is 0.00348\n"
     ]
    }
   ],
   "execution_count": 45
  },
  {
   "cell_type": "code",
   "id": "4c70a9d0",
   "metadata": {
    "ExecuteTime": {
     "end_time": "2025-02-19T12:11:54.014693Z",
     "start_time": "2025-02-19T12:11:52.950884Z"
    }
   },
   "source": [
    "df_anomaly = pd.DataFrame(columns=['point', 'angle variance', 'type'])\n",
    "for index, item in enumerate(anomaly_data):\n",
    "    df_anomaly.loc[index] = [item, np.var(eval_angle_point(item, all_data)), 0]\n",
    "\n",
    "df_anomaly.head(10)"
   ],
   "outputs": [
    {
     "data": {
      "text/plain": [
       "                                     point  angle variance  type\n",
       "0   [7.066571495854759, 8.281551528370615]        0.003074     0\n",
       "1   [4.912232977610025, 8.944978801062241]        0.003241     0\n",
       "2   [5.618891639278701, 9.532065047272486]        0.001941     0\n",
       "3  [7.1614373367580715, 8.987418490481454]        0.000860     0\n",
       "4   [4.674205174076478, 7.397706178223456]        0.000973     0\n",
       "5  [5.586324770476369, 10.062306048806747]        0.001335     0\n",
       "6   [7.269879610663201, 7.966183826740902]        0.001994     0\n",
       "7  [6.098404325738117, 6.8499254027187835]        0.003482     0\n",
       "8     [4.525878242454957, 8.9101902697607]        0.002467     0\n",
       "9   [5.91594235166447, 6.4859511951762014]        0.003588     0"
      ],
      "text/html": [
       "<div>\n",
       "<style scoped>\n",
       "    .dataframe tbody tr th:only-of-type {\n",
       "        vertical-align: middle;\n",
       "    }\n",
       "\n",
       "    .dataframe tbody tr th {\n",
       "        vertical-align: top;\n",
       "    }\n",
       "\n",
       "    .dataframe thead th {\n",
       "        text-align: right;\n",
       "    }\n",
       "</style>\n",
       "<table border=\"1\" class=\"dataframe\">\n",
       "  <thead>\n",
       "    <tr style=\"text-align: right;\">\n",
       "      <th></th>\n",
       "      <th>point</th>\n",
       "      <th>angle variance</th>\n",
       "      <th>type</th>\n",
       "    </tr>\n",
       "  </thead>\n",
       "  <tbody>\n",
       "    <tr>\n",
       "      <th>0</th>\n",
       "      <td>[7.066571495854759, 8.281551528370615]</td>\n",
       "      <td>0.003074</td>\n",
       "      <td>0</td>\n",
       "    </tr>\n",
       "    <tr>\n",
       "      <th>1</th>\n",
       "      <td>[4.912232977610025, 8.944978801062241]</td>\n",
       "      <td>0.003241</td>\n",
       "      <td>0</td>\n",
       "    </tr>\n",
       "    <tr>\n",
       "      <th>2</th>\n",
       "      <td>[5.618891639278701, 9.532065047272486]</td>\n",
       "      <td>0.001941</td>\n",
       "      <td>0</td>\n",
       "    </tr>\n",
       "    <tr>\n",
       "      <th>3</th>\n",
       "      <td>[7.1614373367580715, 8.987418490481454]</td>\n",
       "      <td>0.000860</td>\n",
       "      <td>0</td>\n",
       "    </tr>\n",
       "    <tr>\n",
       "      <th>4</th>\n",
       "      <td>[4.674205174076478, 7.397706178223456]</td>\n",
       "      <td>0.000973</td>\n",
       "      <td>0</td>\n",
       "    </tr>\n",
       "    <tr>\n",
       "      <th>5</th>\n",
       "      <td>[5.586324770476369, 10.062306048806747]</td>\n",
       "      <td>0.001335</td>\n",
       "      <td>0</td>\n",
       "    </tr>\n",
       "    <tr>\n",
       "      <th>6</th>\n",
       "      <td>[7.269879610663201, 7.966183826740902]</td>\n",
       "      <td>0.001994</td>\n",
       "      <td>0</td>\n",
       "    </tr>\n",
       "    <tr>\n",
       "      <th>7</th>\n",
       "      <td>[6.098404325738117, 6.8499254027187835]</td>\n",
       "      <td>0.003482</td>\n",
       "      <td>0</td>\n",
       "    </tr>\n",
       "    <tr>\n",
       "      <th>8</th>\n",
       "      <td>[4.525878242454957, 8.9101902697607]</td>\n",
       "      <td>0.002467</td>\n",
       "      <td>0</td>\n",
       "    </tr>\n",
       "    <tr>\n",
       "      <th>9</th>\n",
       "      <td>[5.91594235166447, 6.4859511951762014]</td>\n",
       "      <td>0.003588</td>\n",
       "      <td>0</td>\n",
       "    </tr>\n",
       "  </tbody>\n",
       "</table>\n",
       "</div>"
      ]
     },
     "execution_count": 46,
     "metadata": {},
     "output_type": "execute_result"
    }
   ],
   "execution_count": 46
  },
  {
   "cell_type": "code",
   "id": "fba0bb12",
   "metadata": {
    "ExecuteTime": {
     "end_time": "2025-02-19T12:11:54.078107Z",
     "start_time": "2025-02-19T12:11:54.067270Z"
    }
   },
   "source": [
    "df_all = pd.concat([df_anomaly,df_normal], ignore_index=True)\n",
    "df_all.sort_values(by=['angle variance']).head(10)"
   ],
   "outputs": [
    {
     "data": {
      "text/plain": [
       "                                     point  angle variance  type\n",
       "3  [7.1614373367580715, 8.987418490481454]        0.000860     0\n",
       "4   [4.674205174076478, 7.397706178223456]        0.000973     0\n",
       "5  [5.586324770476369, 10.062306048806747]        0.001335     0\n",
       "2   [5.618891639278701, 9.532065047272486]        0.001941     0\n",
       "6   [7.269879610663201, 7.966183826740902]        0.001994     0\n",
       "8     [4.525878242454957, 8.9101902697607]        0.002467     0\n",
       "0   [7.066571495854759, 8.281551528370615]        0.003074     0\n",
       "1   [4.912232977610025, 8.944978801062241]        0.003241     0\n",
       "7  [6.098404325738117, 6.8499254027187835]        0.003482     0\n",
       "9   [5.91594235166447, 6.4859511951762014]        0.003588     0"
      ],
      "text/html": [
       "<div>\n",
       "<style scoped>\n",
       "    .dataframe tbody tr th:only-of-type {\n",
       "        vertical-align: middle;\n",
       "    }\n",
       "\n",
       "    .dataframe tbody tr th {\n",
       "        vertical-align: top;\n",
       "    }\n",
       "\n",
       "    .dataframe thead th {\n",
       "        text-align: right;\n",
       "    }\n",
       "</style>\n",
       "<table border=\"1\" class=\"dataframe\">\n",
       "  <thead>\n",
       "    <tr style=\"text-align: right;\">\n",
       "      <th></th>\n",
       "      <th>point</th>\n",
       "      <th>angle variance</th>\n",
       "      <th>type</th>\n",
       "    </tr>\n",
       "  </thead>\n",
       "  <tbody>\n",
       "    <tr>\n",
       "      <th>3</th>\n",
       "      <td>[7.1614373367580715, 8.987418490481454]</td>\n",
       "      <td>0.000860</td>\n",
       "      <td>0</td>\n",
       "    </tr>\n",
       "    <tr>\n",
       "      <th>4</th>\n",
       "      <td>[4.674205174076478, 7.397706178223456]</td>\n",
       "      <td>0.000973</td>\n",
       "      <td>0</td>\n",
       "    </tr>\n",
       "    <tr>\n",
       "      <th>5</th>\n",
       "      <td>[5.586324770476369, 10.062306048806747]</td>\n",
       "      <td>0.001335</td>\n",
       "      <td>0</td>\n",
       "    </tr>\n",
       "    <tr>\n",
       "      <th>2</th>\n",
       "      <td>[5.618891639278701, 9.532065047272486]</td>\n",
       "      <td>0.001941</td>\n",
       "      <td>0</td>\n",
       "    </tr>\n",
       "    <tr>\n",
       "      <th>6</th>\n",
       "      <td>[7.269879610663201, 7.966183826740902]</td>\n",
       "      <td>0.001994</td>\n",
       "      <td>0</td>\n",
       "    </tr>\n",
       "    <tr>\n",
       "      <th>8</th>\n",
       "      <td>[4.525878242454957, 8.9101902697607]</td>\n",
       "      <td>0.002467</td>\n",
       "      <td>0</td>\n",
       "    </tr>\n",
       "    <tr>\n",
       "      <th>0</th>\n",
       "      <td>[7.066571495854759, 8.281551528370615]</td>\n",
       "      <td>0.003074</td>\n",
       "      <td>0</td>\n",
       "    </tr>\n",
       "    <tr>\n",
       "      <th>1</th>\n",
       "      <td>[4.912232977610025, 8.944978801062241]</td>\n",
       "      <td>0.003241</td>\n",
       "      <td>0</td>\n",
       "    </tr>\n",
       "    <tr>\n",
       "      <th>7</th>\n",
       "      <td>[6.098404325738117, 6.8499254027187835]</td>\n",
       "      <td>0.003482</td>\n",
       "      <td>0</td>\n",
       "    </tr>\n",
       "    <tr>\n",
       "      <th>9</th>\n",
       "      <td>[5.91594235166447, 6.4859511951762014]</td>\n",
       "      <td>0.003588</td>\n",
       "      <td>0</td>\n",
       "    </tr>\n",
       "  </tbody>\n",
       "</table>\n",
       "</div>"
      ]
     },
     "execution_count": 47,
     "metadata": {},
     "output_type": "execute_result"
    }
   ],
   "execution_count": 47
  },
  {
   "cell_type": "markdown",
   "id": "6021e3d0",
   "metadata": {},
   "source": [
    "### Вправа №3\n",
    "Ця вправа відноситься до розділу 3 (виявлення аномалій на основі глибини).\n",
    "\n",
    "A. Застосуйте алгоритм виявлення аномалії на основі глибини до даних у розділі 2.\n",
    "\n",
    "B. Наскільки успішним є алгоритм виявлення аномалій?\n",
    "\n",
    "C. Як ваші результати порівнюються з алгоритмами виявлення аномалій на основі кута (обидві версії)?\n",
    "\n",
    "### Рішення №3"
   ]
  },
  {
   "cell_type": "code",
   "id": "1832a5eb",
   "metadata": {
    "ExecuteTime": {
     "end_time": "2025-02-19T12:18:27.102532Z",
     "start_time": "2025-02-19T12:18:25.535625Z"
    }
   },
   "source": [
    "    import numpy as np\n",
    "    import matplotlib.pyplot as plt\n",
    "    import pandas as pd\n",
    "    from sklearn.ensemble import IsolationForest\n",
    "    \n",
    "    # Генеруємо дані з розділу 2\n",
    "    np.random.seed(16)\n",
    "    \n",
    "    # Нормальні дані\n",
    "    normal_mean = np.array([1.0, 2.0]) \n",
    "    normal_covariance = np.array([[0.2, 0.0], [0.0, 0.1]])\n",
    "    normal_data = np.random.multivariate_normal(normal_mean, normal_covariance, 100)\n",
    "    \n",
    "    # Аномальні дані\n",
    "    anomaly_mean = np.array([6.0, 8.0]) \n",
    "    anomaly_covariance = np.array([[2.0, 0.0], [0.0, 4.0]])\n",
    "    anomaly_data = np.random.multivariate_normal(anomaly_mean, anomaly_covariance, 10)\n",
    "    \n",
    "    # Об'єднані дані\n",
    "    all_data = np.concatenate((normal_data, anomaly_data), axis=0)\n",
    "    \n",
    "    # Використання Isolation Forest\n",
    "    iso_forest = IsolationForest(contamination=0.1, random_state=42)\n",
    "    predictions = iso_forest.fit_predict(all_data)\n",
    "    \n",
    "    # Відображення результатів\n",
    "    fig, ax = plt.subplots(figsize=(6, 4))\n",
    "    ax.scatter(all_data[:, 0], all_data[:, 1], c=predictions, cmap=\"coolwarm\", s=30, marker=\"o\")\n",
    "    plt.xlabel('X', fontsize=12)\n",
    "    plt.ylabel('Y', fontsize=12)\n",
    "    plt.title(\"Виявлення аномалій: Isolation Forest\")\n",
    "    plt.show()\n",
    "    \n",
    "    # Порівняємо з методами на основі кута\n",
    "    normal_points = normal_data[:5]  # Виберемо кілька точок\n",
    "    anomaly_points = anomaly_data[:5]\n",
    "    \n",
    "    # Оцінка кутової дисперсії\n",
    "    def eval_angle_point(point, data):\n",
    "        angles_data = []\n",
    "        for index_b, b in enumerate(data):\n",
    "            if np.array_equal(b, point):\n",
    "                continue\n",
    "            for c in data[index_b + 1:]:\n",
    "                if np.array_equal(c, point) or np.array_equal(c, b):\n",
    "                    continue\n",
    "                v1 = np.subtract(b, point)\n",
    "                v2 = np.subtract(c, point)\n",
    "                angle = np.arccos(np.dot(v1, v2) / (np.linalg.norm(v1) * np.linalg.norm(v2)))\n",
    "                angles_data.append(angle)\n",
    "        return np.var(angles_data)\n",
    "    \n",
    "    angle_variances = {\n",
    "        \"Normal\": [eval_angle_point(p, all_data) for p in normal_points],\n",
    "        \"Anomaly\": [eval_angle_point(p, all_data) for p in anomaly_points],\n",
    "    }\n",
    "    \n",
    "    pd.DataFrame(angle_variances)\n"
   ],
   "outputs": [
    {
     "data": {
      "text/plain": [
       "<Figure size 600x400 with 1 Axes>"
      ],
      "image/png": "[encoded data removed]"
     },
     "metadata": {},
     "output_type": "display_data"
    },
    {
     "data": {
      "text/plain": [
       "     Normal   Anomaly\n",
       "0  0.442425  0.239963\n",
       "1  0.810849  0.447247\n",
       "2  0.326829  0.224829\n",
       "3  0.629593  0.091516\n",
       "4  0.701444  0.767388"
      ],
      "text/html": [
       "<div>\n",
       "<style scoped>\n",
       "    .dataframe tbody tr th:only-of-type {\n",
       "        vertical-align: middle;\n",
       "    }\n",
       "\n",
       "    .dataframe tbody tr th {\n",
       "        vertical-align: top;\n",
       "    }\n",
       "\n",
       "    .dataframe thead th {\n",
       "        text-align: right;\n",
       "    }\n",
       "</style>\n",
       "<table border=\"1\" class=\"dataframe\">\n",
       "  <thead>\n",
       "    <tr style=\"text-align: right;\">\n",
       "      <th></th>\n",
       "      <th>Normal</th>\n",
       "      <th>Anomaly</th>\n",
       "    </tr>\n",
       "  </thead>\n",
       "  <tbody>\n",
       "    <tr>\n",
       "      <th>0</th>\n",
       "      <td>0.442425</td>\n",
       "      <td>0.239963</td>\n",
       "    </tr>\n",
       "    <tr>\n",
       "      <th>1</th>\n",
       "      <td>0.810849</td>\n",
       "      <td>0.447247</td>\n",
       "    </tr>\n",
       "    <tr>\n",
       "      <th>2</th>\n",
       "      <td>0.326829</td>\n",
       "      <td>0.224829</td>\n",
       "    </tr>\n",
       "    <tr>\n",
       "      <th>3</th>\n",
       "      <td>0.629593</td>\n",
       "      <td>0.091516</td>\n",
       "    </tr>\n",
       "    <tr>\n",
       "      <th>4</th>\n",
       "      <td>0.701444</td>\n",
       "      <td>0.767388</td>\n",
       "    </tr>\n",
       "  </tbody>\n",
       "</table>\n",
       "</div>"
      ]
     },
     "execution_count": 57,
     "metadata": {},
     "output_type": "execute_result"
    }
   ],
   "execution_count": 57
  }
 ],
 "metadata": {
  "kernelspec": {
   "display_name": "Python 3 (ipykernel)",
   "language": "python",
   "name": "python3"
  },
  "language_info": {
   "codemirror_mode": {
    "name": "ipython",
    "version": 3
   },
   "file_extension": ".py",
   "mimetype": "text/x-python",
   "name": "python",
   "nbconvert_exporter": "python",
   "pygments_lexer": "ipython3",
   "version": "3.9.13"
  }
 },
 "nbformat": 4,
 "nbformat_minor": 5
}
