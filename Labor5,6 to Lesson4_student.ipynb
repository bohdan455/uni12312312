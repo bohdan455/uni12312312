{
 "cells": [
  {
   "cell_type": "markdown",
   "id": "d4418d49",
   "metadata": {},
   "source": [
    "## Лабораторна робота 5,6\n",
    "\n",
    "В темі 4 «Лінійні методи для виявлення аномалій» ми дізналися про лінійні методи, які використовуються для виявлення аномалій: лінійна регресія, аналіз головних компонент (PCA) і однокласові опорні векторні машини (SVM).\n",
    "\n",
    "Тут будуть застосовані всі три методи для виявлення аномалій у синтетичних і реальних даних.\n",
    "\n",
    "Результати навчання:\n",
    "\n",
    "1. Практичний досвід роботи з моделями лінійної регресії\n",
    "\n",
    "2. Практичний досвід роботи з PCA\n",
    "\n",
    "3. Практичний досвід роботи з однокласними SVM\n",
    "\n",
    "### Імпорт"
   ]
  },
  {
   "cell_type": "code",
   "id": "6d080e0c",
   "metadata": {
    "ExecuteTime": {
     "end_time": "2025-03-09T13:16:31.900004Z",
     "start_time": "2025-03-09T13:16:30.285535Z"
    }
   },
   "source": [
    "import numpy as np\n",
    "np.set_printoptions(suppress=True, precision=4)\n",
    "\n",
    "import sys\n",
    "import matplotlib.pyplot as plt\n",
    "import sklearn.decomposition as decomp\n",
    "import sklearn.linear_model as linear_model\n",
    "import sklearn.datasets as sk_data\n",
    "from sklearn.preprocessing import StandardScaler\n",
    "import numpy.linalg as nla\n",
    "import sklearn.svm as svm\n",
    "import pandas as pd"
   ],
   "outputs": [],
   "execution_count": 1
  },
  {
   "cell_type": "markdown",
   "id": "e567731c",
   "metadata": {},
   "source": [
    "## Розділ 1: Моделі лінійної регресії\n",
    "У цьому розділі ми збираємося використовувати синтетичні набори даних для виявлення аномалій за допомогою лінійної регресії. У вправах ми застосуємо те, що навчилися, до реального набору даних.\n",
    "\n",
    "Ключова ідея: відхилення від регресійної моделі, тобто різниця між фактичним значенням і прогнозованим значенням, є показником того, наскільки аномальною є точка.\n",
    "\n",
    "Нагадуємо, як моделі лінійної регресії використовуються для виявлення аномалій:\n",
    "\n",
    "1. Розділіть дані на навчальні та тестові набори даних\n",
    "\n",
    "2. Використовуйте набори даних для (i) отримання параметрів регресійної моделі та (ii) визначення порогового значення для аномалій\n",
    "\n",
    "3. Застосуйте результати до тестових даних, щоб виявити аномалії"
   ]
  },
  {
   "cell_type": "markdown",
   "id": "f8d5c8bf",
   "metadata": {},
   "source": [
    "### Дані\n",
    "Тут ми будемо працювати з даними, показаними на лекції: іспитовою оцінкою та витраченими годинами."
   ]
  },
  {
   "cell_type": "code",
   "id": "705f05cd",
   "metadata": {
    "ExecuteTime": {
     "end_time": "2025-03-09T13:16:31.921149Z",
     "start_time": "2025-03-09T13:16:31.915013Z"
    }
   },
   "source": [
    "# Приблизно лінійні дані\n",
    "exam_data1 = np.array([[1, 2, 3, 4, 5],\n",
    "                    [57, 70, 76, 84, 91]]).T\n",
    "print(exam_data1)"
   ],
   "outputs": [
    {
     "name": "stdout",
     "output_type": "stream",
     "text": [
      "[[ 1 57]\n",
      " [ 2 70]\n",
      " [ 3 76]\n",
      " [ 4 84]\n",
      " [ 5 91]]\n"
     ]
    }
   ],
   "execution_count": 2
  },
  {
   "cell_type": "markdown",
   "id": "7841deed",
   "metadata": {},
   "source": [
    "Для кожної пари точок даних перше значення – це кількість годин навчання, а друге – оцінка за іспит (зі 100)."
   ]
  },
  {
   "cell_type": "code",
   "id": "958d7cca",
   "metadata": {
    "ExecuteTime": {
     "end_time": "2025-03-09T13:16:32.496447Z",
     "start_time": "2025-03-09T13:16:32.490006Z"
    }
   },
   "source": [
    "# Одна аномалія замінює нормальну точку\n",
    "exam_data2 = np.array([[1, 2, 3, 4, 5],\n",
    "                      [57, 70, 99, 84, 91]]).T\n",
    "print(exam_data2)"
   ],
   "outputs": [
    {
     "name": "stdout",
     "output_type": "stream",
     "text": [
      "[[ 1 57]\n",
      " [ 2 70]\n",
      " [ 3 99]\n",
      " [ 4 84]\n",
      " [ 5 91]]\n"
     ]
    }
   ],
   "execution_count": 3
  },
  {
   "cell_type": "markdown",
   "id": "e6bb25a0",
   "metadata": {},
   "source": [
    "Аномалія (3, 99).\n",
    "\n",
    "Щоб спростити нашу роботу, ми введемо допоміжну функцію, яка малює пряму лінію з урахуванням нахилу, перерізу, осей (для створення фігури) та стилю лінії (для побудови кількох ліній на одному графіку)."
   ]
  },
  {
   "cell_type": "code",
   "id": "12a51f6d",
   "metadata": {
    "ExecuteTime": {
     "end_time": "2025-03-09T13:16:32.523423Z",
     "start_time": "2025-03-09T13:16:32.520191Z"
    }
   },
   "source": [
    "def plot_mb(m, b, ax, style):\n",
    "    'plot a line y=mx+b on a matplotlib axis'\n",
    "    xs = ax.get_xlim()\n",
    "    ax.plot(xs, m*xs + b, style) #style is type of line"
   ],
   "outputs": [],
   "execution_count": 4
  },
  {
   "cell_type": "markdown",
   "id": "522cb67c",
   "metadata": {},
   "source": [
    "### Аналіз\n",
    "Побудуйте два набори даних разом, щоб ми могли легко їх порівняти."
   ]
  },
  {
   "cell_type": "code",
   "id": "e57cdf13",
   "metadata": {
    "ExecuteTime": {
     "end_time": "2025-03-09T13:16:33.231752Z",
     "start_time": "2025-03-09T13:16:32.591157Z"
    }
   },
   "source": [
    "fig, axes = plt.subplots(1,2,sharex=True) #складається із двох графіків із спільною віссю Х\n",
    "\n",
    "# Змініть осі, щоб вони виглядали гарно\n",
    "axes[0].set_xlim([0, 6.01])\n",
    "start_x, end_x = axes[0].get_xlim()\n",
    "stepsize_x = 1\n",
    "axes[0].xaxis.set_ticks(np.arange(start_x, end_x, stepsize_x)) # для першої осі Х\n",
    "axes[0].yaxis.set_ticks_position('both')\n",
    "axes[0].set_ylim([45, 108]) # межі по У першого графіка\n",
    "axes[1].set_ylim(axes[0].get_ylim())\n",
    "axes[1].yaxis.tick_right() # Display tick values on the right for clarity / показує значення точок справа\n",
    "axes[1].yaxis.set_ticks_position('both')\n",
    "\n",
    "# Fit a straight straight line to the linear data\n",
    "lr = linear_model.LinearRegression().fit(exam_data1[:,0:1], #значення незалежної змінної Х, які записані стовпцем\n",
    "                                         exam_data1[:,1]) # значення залежної змінної У, які записані рядком\n",
    "axes[0].plot(*exam_data1.T, 'ro') #будуємо графік з точок із транспонованих даних / (*) використовується для передачі змінної кількості аргументів функції, \n",
    "                                    #та списку аргументів змінної довжини.\n",
    "plot_mb(lr.coef_, lr.intercept_, axes[0], 'b-' ) # .coef_  -кутов. коеф.,  .intercept_ -вільний член\n",
    "\n",
    "# Підгонка прямої лінії до даних з аномаліями\n",
    "lr2 = linear_model.LinearRegression().fit(exam_data2[:,0:1],\n",
    "                                         exam_data2[:,1])\n",
    "axes[1].plot(*exam_data2.T, 'ro')\n",
    "\n",
    "# Побудуйте дві лінійні відповідності: за даними з аномаліями та за нормальними даними\n",
    "plot_mb(lr2.coef_, lr2.intercept_, axes[1], 'b-')\n",
    "plot_mb(lr.coef_, lr.intercept_, axes[1], 'g--')\n",
    "\n",
    "axes[0].set_title('No anomaly')\n",
    "axes[1].set_title('With anomaly')\n",
    "fig.text(0.5, 0.02, 'Hours studied', ha='center', va='center')\n",
    "fig.text(0.05, 0.5, 'Grade', ha='center', va='center', rotation='vertical')\n",
    "plt.show()"
   ],
   "outputs": [
    {
     "data": {
      "text/plain": [
       "<Figure size 640x480 with 2 Axes>"
      ],
      "image/png": "[encoded data removed]"
     },
     "metadata": {},
     "output_type": "display_data"
    }
   ],
   "execution_count": 5
  },
  {
   "cell_type": "markdown",
   "id": "bd1ba020",
   "metadata": {},
   "source": [
    "Як ми бачимо, усі дані ліворуч лежать близько до регресійної моделі (синя лінія), тоді як для даних праворуч ми бачимо, що є точка, яка знаходиться далеко від лінії. Ця точка (3, 99) є аномалією.\n",
    "\n",
    "**Примітка.** На панелі праворуч є дві лінії: регресійна модель для даних з аномалією (суцільна блакитна лінія) і модель, отримана з нормальних даних на лівій панелі (пунктирна зелена лінія). Різниця між цими двома лініями зумовлена самою аномалією (всі інші точки не змінені). Тобто аномалії впливають на модель регресії.\n",
    "\n",
    "Саме тому, що аномалії впливають на регресійну модель, ми робимо розподіл тренування/тесту, щоб переконатися, що лінійна відповідність відображає лише нормальні дані. Звичайно, такий підхід передбачає, що ми можемо мати (або можемо створити) навчальний набір лише з нормальними даними.\n",
    "\n",
    "Тепер ми розглядатимемо «exam_data1» (без аномалії) як набір тренувальних даних, а «exame_data2» (з аномалією) — як тестовий набір даних.\n",
    "\n",
    "По-перше, ми підбираємо наш набір тренувальних даних. Ми будемо використовувати функцію LinearRegression from_sklearn_, як і раніше. Згадаймо, що оцінка аномалії є квадратом помилки для кожної точки."
   ]
  },
  {
   "cell_type": "code",
   "id": "7cf119f7",
   "metadata": {
    "ExecuteTime": {
     "end_time": "2025-03-09T13:16:33.269165Z",
     "start_time": "2025-03-09T13:16:33.261869Z"
    }
   },
   "source": [
    "ftrs, tgt = exam_data1[:,0:1], exam_data1[:,1]\n",
    "lr_train = linear_model.LinearRegression().fit(ftrs, tgt)\n",
    "print(f'Slope: {lr_train.coef_}')\n",
    "print(f'Intercept: {lr_train.intercept_:.{3}}')\n",
    "train_scores = (tgt - lr_train.predict(ftrs))**2 # оцінка: квадрат відхилень емпіричних і розрахункових даних (у)\n",
    "print(train_scores)"
   ],
   "outputs": [
    {
     "name": "stdout",
     "output_type": "stream",
     "text": [
      "Slope: [8.2]\n",
      "Intercept: 51.0\n",
      "[4.84 6.76 0.16 0.04 1.  ]\n"
     ]
    }
   ],
   "execution_count": 6
  },
  {
   "cell_type": "code",
   "id": "78afc6a7",
   "metadata": {
    "ExecuteTime": {
     "end_time": "2025-03-09T13:16:33.350580Z",
     "start_time": "2025-03-09T13:16:33.344933Z"
    }
   },
   "source": [
    "print(exam_data1[:,0:1])\n",
    "exam_data1[:,1]"
   ],
   "outputs": [
    {
     "name": "stdout",
     "output_type": "stream",
     "text": [
      "[[1]\n",
      " [2]\n",
      " [3]\n",
      " [4]\n",
      " [5]]\n"
     ]
    },
    {
     "data": {
      "text/plain": [
       "array([57, 70, 76, 84, 91])"
      ]
     },
     "execution_count": 7,
     "metadata": {},
     "output_type": "execute_result"
    }
   ],
   "execution_count": 7
  },
  {
   "cell_type": "markdown",
   "id": "50913212",
   "metadata": {},
   "source": [
    "Давайте встановимо порогове значення для виявлення аномалії трохи вище максимального квадрату відхилень емпіричних і розрахункових даних (у) з набору тренувальних даних."
   ]
  },
  {
   "cell_type": "code",
   "id": "640ace54",
   "metadata": {
    "ExecuteTime": {
     "end_time": "2025-03-09T13:16:33.459342Z",
     "start_time": "2025-03-09T13:16:33.455338Z"
    }
   },
   "source": [
    "margin = 0.01\n",
    "threshold = max(train_scores) + margin\n",
    "print(f'Threshold: {threshold:.{3}}')"
   ],
   "outputs": [
    {
     "name": "stdout",
     "output_type": "stream",
     "text": [
      "Threshold: 6.77\n"
     ]
    }
   ],
   "execution_count": 8
  },
  {
   "cell_type": "markdown",
   "id": "4bbac32e",
   "metadata": {},
   "source": [
    "Тепер давайте обчислимо аномальні значення  квадратів відхилень  для тестових даних."
   ]
  },
  {
   "cell_type": "code",
   "id": "90cf1418",
   "metadata": {
    "ExecuteTime": {
     "end_time": "2025-03-09T13:16:33.523162Z",
     "start_time": "2025-03-09T13:16:33.519417Z"
    }
   },
   "source": [
    "def do_linreg_anomaly_scores(train, test):\n",
    "    ftrs, tgt = train[:,0:1], train[:,1]\n",
    "    lr_train = linear_model.LinearRegression().fit(ftrs, tgt)\n",
    "    anom_score = (test[:,1] - lr_train.predict(test[:,0:1]))**2\n",
    "    return anom_score"
   ],
   "outputs": [],
   "execution_count": 9
  },
  {
   "cell_type": "code",
   "id": "5c6e06fe",
   "metadata": {
    "ExecuteTime": {
     "end_time": "2025-03-09T13:16:33.562987Z",
     "start_time": "2025-03-09T13:16:33.557664Z"
    }
   },
   "source": [
    "print(do_linreg_anomaly_scores(exam_data1, exam_data2))"
   ],
   "outputs": [
    {
     "name": "stdout",
     "output_type": "stream",
     "text": [
      "[  4.84   6.76 547.56   0.04   1.  ]\n"
     ]
    }
   ],
   "execution_count": 10
  },
  {
   "cell_type": "markdown",
   "id": "e7e9eec9",
   "metadata": {},
   "source": [
    "Ми бачимо, що середня точка (index=2) перевищує поріг. Це аномалія, яку ми внесли в дані. Для перевірки ми можемо порівняти наведену вище оцінку аномалії з навчальними даними."
   ]
  },
  {
   "cell_type": "code",
   "id": "459847c1",
   "metadata": {
    "ExecuteTime": {
     "end_time": "2025-03-09T13:16:33.634767Z",
     "start_time": "2025-03-09T13:16:33.629996Z"
    }
   },
   "source": [
    "print(train_scores)"
   ],
   "outputs": [
    {
     "name": "stdout",
     "output_type": "stream",
     "text": [
      "[4.84 6.76 0.16 0.04 1.  ]\n"
     ]
    }
   ],
   "execution_count": 11
  },
  {
   "cell_type": "markdown",
   "id": "4d93b71d",
   "metadata": {},
   "source": [
    "Як і очікувалося, два набори оцінок відрізняються лише аномальною точкою."
   ]
  },
  {
   "cell_type": "markdown",
   "id": "2e874c60",
   "metadata": {},
   "source": [
    "## Розділ 2: Аналіз головних компонентів. Principal component analysis(PCA)¶\n",
    "У цьому розділі ми збираємося використовувати синтетичні набори даних для виявлення аномалій за допомогою PCA. У вправах ми застосуємо те, що навчилися, до реального набору даних.\n",
    "\n",
    "Як розрахувати аномалні точки на основі PCA:\n",
    "\n",
    "1. Попередня обробка даних (за потреби)\n",
    "\n",
    "2. Обчисліть головні компоненти (PCs) центрованих даних\n",
    "\n",
    "3. Спроектуйте наші дані  на PCs\n",
    "\n",
    "4. Обчисліть відстань між вихідним і спроектованим даними\n",
    "\n",
    "5. Використовуйте відстань, щоб оцінити аномалії"
   ]
  },
  {
   "cell_type": "markdown",
   "id": "6a46317c",
   "metadata": {},
   "source": [
    "# Дані\n",
    "\n",
    "Ми починаємо з даних, показаних у лекції: простий двовимірний набір синтетичних даних: ($X_1, X_2$). Щоб продемонструвати, як працює PCA, ми беремо $X_2 = X_1/2$ для всіх пар, крім однієї, де ми зробили невелику зміну: (0,5, 0,26). Ця точка і є аномалією."
   ]
  },
  {
   "cell_type": "code",
   "id": "cba75c98",
   "metadata": {
    "ExecuteTime": {
     "end_time": "2025-03-09T13:16:33.725396Z",
     "start_time": "2025-03-09T13:16:33.717397Z"
    }
   },
   "source": [
    "pca_example = np.array([[-3, -1.5], [-2.5, -1.25], [-1.5, -0.75], \n",
    "                        [-1, -0.5], [-0.5, -0.25], [0, 0], [0.5, 0.26], \n",
    "                        [1, 0.5],  [1.5, 0.75], [2.5, 1.25], [3, 1.5]])"
   ],
   "outputs": [],
   "execution_count": 12
  },
  {
   "cell_type": "markdown",
   "id": "4a25c6af",
   "metadata": {},
   "source": [
    "Що таке середнє значення даних?"
   ]
  },
  {
   "cell_type": "code",
   "id": "fe500c09",
   "metadata": {
    "ExecuteTime": {
     "end_time": "2025-03-09T13:16:33.763636Z",
     "start_time": "2025-03-09T13:16:33.758368Z"
    }
   },
   "source": [
    "mean_pca_example = np.mean(pca_example, axis=0, keepdims=True) #середнє по змінних х1 і х2\n",
    "mean_pca_example"
   ],
   "outputs": [
    {
     "data": {
      "text/plain": [
       "array([[0.    , 0.0009]])"
      ]
     },
     "execution_count": 13,
     "metadata": {},
     "output_type": "execute_result"
    }
   ],
   "execution_count": 13
  },
  {
   "cell_type": "markdown",
   "id": "690d36b2",
   "metadata": {},
   "source": [
    "А як щодо дисперсії? Ми хочемо переконатися, що дисперсія в кожному напрямку приблизно однакова (інакше щось тривіальне, як-от зміна одиниці вимірювання з метрів на міліметри, різко змінить головні компоненти)."
   ]
  },
  {
   "cell_type": "code",
   "id": "ecd92aac",
   "metadata": {
    "ExecuteTime": {
     "end_time": "2025-03-09T13:16:33.974764Z",
     "start_time": "2025-03-09T13:16:33.965872Z"
    }
   },
   "source": [
    "var_pca_example = np.var(pca_example, axis=0, keepdims=True) # дисперсія по змінних х1 і х2\n",
    "var_pca_example"
   ],
   "outputs": [
    {
     "data": {
      "text/plain": [
       "array([[3.4091, 0.8527]])"
      ]
     },
     "execution_count": 14,
     "metadata": {},
     "output_type": "execute_result"
    }
   ],
   "execution_count": 14
  },
  {
   "cell_type": "markdown",
   "id": "3339d5e8",
   "metadata": {},
   "source": [
    "Оскільки середнє значення цих даних (практично) дорівнює нулю, нам не потрібно виконувати віднімання середнього. Однак ми повинні виправити різні відхилення. Типовий підхід полягає в тому, щоб поділити кожен компонент на його стандартне відхилення, при цьому дисперсія в кожному напрямку дорівнює 1."
   ]
  },
  {
   "cell_type": "code",
   "id": "0a1d043e",
   "metadata": {
    "ExecuteTime": {
     "end_time": "2025-03-09T13:16:34.075987Z",
     "start_time": "2025-03-09T13:16:34.070213Z"
    }
   },
   "source": [
    "scaled_pca_example = pca_example/np.sqrt(var_pca_example) # нормування даних z=mu/sigma\n",
    "\n",
    "# show the variances are equal\n",
    "scaled_pca_example.var(axis=0) # дисперсія по нормованих змінних х1 і х2 (має =1)"
   ],
   "outputs": [
    {
     "data": {
      "text/plain": [
       "array([1., 1.])"
      ]
     },
     "execution_count": 15,
     "metadata": {},
     "output_type": "execute_result"
    }
   ],
   "execution_count": 15
  },
  {
   "cell_type": "markdown",
   "id": "f02fffe3",
   "metadata": {},
   "source": [
    "#### Давайте побудуємо вихідні (тобто немасштабовані) дані"
   ]
  },
  {
   "cell_type": "code",
   "id": "467dbeb2",
   "metadata": {
    "ExecuteTime": {
     "end_time": "2025-03-09T13:16:34.535398Z",
     "start_time": "2025-03-09T13:16:34.198995Z"
    }
   },
   "source": [
    "fig, ax = plt.subplots()\n",
    "ax.scatter(pca_example[:,0], pca_example[:,1])\n",
    "ax.set_ylabel('$X_2$')\n",
    "ax.set_xlabel('$X_1$')\n",
    "ax.set_title('Original data')\n",
    "plt.show()"
   ],
   "outputs": [
    {
     "data": {
      "text/plain": [
       "<Figure size 640x480 with 1 Axes>"
      ],
      "image/png": "[encoded data removed]"
     },
     "metadata": {},
     "output_type": "display_data"
    }
   ],
   "execution_count": 16
  },
  {
   "cell_type": "markdown",
   "id": "95f91778",
   "metadata": {},
   "source": [
    "Чи можете ви помітити аномалію?"
   ]
  },
  {
   "cell_type": "markdown",
   "id": "cdf76ca9",
   "metadata": {},
   "source": [
    "Щоб показати, на що здатний PCA, ми застосуємо його до нашого набору даних і подивимося на результати (за допомогою PCA від *sklearn*). Ми очікуємо, що перша головна компонента буде лежати вздовж лінії $X_2 = X_1/2$, оскільки це напрямок, у якому дані змінюються найбільше. І враховуючи те, як ми побудували набір даних, не буде майже ніяких змін уздовж другої головної компоненти, за винятком аномалії.\n",
    "\n",
    "Виконання PCA за допомогою Scikit-Learn є двоетапним процесом:\n",
    "Ініціалізуйте клас PCA, передавши конструктору кількість компонентів n_components= .\n",
    "Викличте методи підгонки (fit), а потім трансформуйте, передавши набір функцій цим методам. Метод transform повертає вказану кількість основних компонентів.\n",
    "\n",
    "Замість виклику методу fit_transform() ви також можете вибрати fit(), а потім метод transform().\n",
    "\n",
    "підгонка моделі fit_transform(X) за допомогою X і використовуйте зменшення розмірності до X."
   ]
  },
  {
   "cell_type": "code",
   "id": "6fa16c2d",
   "metadata": {
    "ExecuteTime": {
     "end_time": "2025-03-09T13:16:34.630345Z",
     "start_time": "2025-03-09T13:16:34.608379Z"
    }
   },
   "source": [
    "pca = decomp.PCA(n_components=2) #встановлюємо кількість компонент  і кількість векторів, на які будуть проектуватися дані\n",
    "pca.fit(scaled_pca_example) #застосовуємо PCA по нормованих даних"
   ],
   "outputs": [
    {
     "data": {
      "text/plain": [
       "PCA(n_components=2)"
      ],
      "text/html": [
       "<style>#sk-container-id-1 {\n",
       "  /* Definition of color scheme common for light and dark mode */\n",
       "  --sklearn-color-text: #000;\n",
       "  --sklearn-color-text-muted: #666;\n",
       "  --sklearn-color-line: gray;\n",
       "  /* Definition of color scheme for unfitted estimators */\n",
       "  --sklearn-color-unfitted-level-0: #fff5e6;\n",
       "  --sklearn-color-unfitted-level-1: #f6e4d2;\n",
       "  --sklearn-color-unfitted-level-2: #ffe0b3;\n",
       "  --sklearn-color-unfitted-level-3: chocolate;\n",
       "  /* Definition of color scheme for fitted estimators */\n",
       "  --sklearn-color-fitted-level-0: #f0f8ff;\n",
       "  --sklearn-color-fitted-level-1: #d4ebff;\n",
       "  --sklearn-color-fitted-level-2: #b3dbfd;\n",
       "  --sklearn-color-fitted-level-3: cornflowerblue;\n",
       "\n",
       "  /* Specific color for light theme */\n",
       "  --sklearn-color-text-on-default-background: var(--sg-text-color, var(--theme-code-foreground, var(--jp-content-font-color1, black)));\n",
       "  --sklearn-color-background: var(--sg-background-color, var(--theme-background, var(--jp-layout-color0, white)));\n",
       "  --sklearn-color-border-box: var(--sg-text-color, var(--theme-code-foreground, var(--jp-content-font-color1, black)));\n",
       "  --sklearn-color-icon: #696969;\n",
       "\n",
       "  @media (prefers-color-scheme: dark) {\n",
       "    /* Redefinition of color scheme for dark theme */\n",
       "    --sklearn-color-text-on-default-background: var(--sg-text-color, var(--theme-code-foreground, var(--jp-content-font-color1, white)));\n",
       "    --sklearn-color-background: var(--sg-background-color, var(--theme-background, var(--jp-layout-color0, #111)));\n",
       "    --sklearn-color-border-box: var(--sg-text-color, var(--theme-code-foreground, var(--jp-content-font-color1, white)));\n",
       "    --sklearn-color-icon: #878787;\n",
       "  }\n",
       "}\n",
       "\n",
       "#sk-container-id-1 {\n",
       "  color: var(--sklearn-color-text);\n",
       "}\n",
       "\n",
       "#sk-container-id-1 pre {\n",
       "  padding: 0;\n",
       "}\n",
       "\n",
       "#sk-container-id-1 input.sk-hidden--visually {\n",
       "  border: 0;\n",
       "  clip: rect(1px 1px 1px 1px);\n",
       "  clip: rect(1px, 1px, 1px, 1px);\n",
       "  height: 1px;\n",
       "  margin: -1px;\n",
       "  overflow: hidden;\n",
       "  padding: 0;\n",
       "  position: absolute;\n",
       "  width: 1px;\n",
       "}\n",
       "\n",
       "#sk-container-id-1 div.sk-dashed-wrapped {\n",
       "  border: 1px dashed var(--sklearn-color-line);\n",
       "  margin: 0 0.4em 0.5em 0.4em;\n",
       "  box-sizing: border-box;\n",
       "  padding-bottom: 0.4em;\n",
       "  background-color: var(--sklearn-color-background);\n",
       "}\n",
       "\n",
       "#sk-container-id-1 div.sk-container {\n",
       "  /* jupyter's `normalize.less` sets `[hidden] { display: none; }`\n",
       "     but bootstrap.min.css set `[hidden] { display: none !important; }`\n",
       "     so we also need the `!important` here to be able to override the\n",
       "     default hidden behavior on the sphinx rendered scikit-learn.org.\n",
       "     See: https://github.com/scikit-learn/scikit-learn/issues/21755 */\n",
       "  display: inline-block !important;\n",
       "  position: relative;\n",
       "}\n",
       "\n",
       "#sk-container-id-1 div.sk-text-repr-fallback {\n",
       "  display: none;\n",
       "}\n",
       "\n",
       "div.sk-parallel-item,\n",
       "div.sk-serial,\n",
       "div.sk-item {\n",
       "  /* draw centered vertical line to link estimators */\n",
       "  background-image: linear-gradient(var(--sklearn-color-text-on-default-background), var(--sklearn-color-text-on-default-background));\n",
       "  background-size: 2px 100%;\n",
       "  background-repeat: no-repeat;\n",
       "  background-position: center center;\n",
       "}\n",
       "\n",
       "/* Parallel-specific style estimator block */\n",
       "\n",
       "#sk-container-id-1 div.sk-parallel-item::after {\n",
       "  content: \"\";\n",
       "  width: 100%;\n",
       "  border-bottom: 2px solid var(--sklearn-color-text-on-default-background);\n",
       "  flex-grow: 1;\n",
       "}\n",
       "\n",
       "#sk-container-id-1 div.sk-parallel {\n",
       "  display: flex;\n",
       "  align-items: stretch;\n",
       "  justify-content: center;\n",
       "  background-color: var(--sklearn-color-background);\n",
       "  position: relative;\n",
       "}\n",
       "\n",
       "#sk-container-id-1 div.sk-parallel-item {\n",
       "  display: flex;\n",
       "  flex-direction: column;\n",
       "}\n",
       "\n",
       "#sk-container-id-1 div.sk-parallel-item:first-child::after {\n",
       "  align-self: flex-end;\n",
       "  width: 50%;\n",
       "}\n",
       "\n",
       "#sk-container-id-1 div.sk-parallel-item:last-child::after {\n",
       "  align-self: flex-start;\n",
       "  width: 50%;\n",
       "}\n",
       "\n",
       "#sk-container-id-1 div.sk-parallel-item:only-child::after {\n",
       "  width: 0;\n",
       "}\n",
       "\n",
       "/* Serial-specific style estimator block */\n",
       "\n",
       "#sk-container-id-1 div.sk-serial {\n",
       "  display: flex;\n",
       "  flex-direction: column;\n",
       "  align-items: center;\n",
       "  background-color: var(--sklearn-color-background);\n",
       "  padding-right: 1em;\n",
       "  padding-left: 1em;\n",
       "}\n",
       "\n",
       "\n",
       "/* Toggleable style: style used for estimator/Pipeline/ColumnTransformer box that is\n",
       "clickable and can be expanded/collapsed.\n",
       "- Pipeline and ColumnTransformer use this feature and define the default style\n",
       "- Estimators will overwrite some part of the style using the `sk-estimator` class\n",
       "*/\n",
       "\n",
       "/* Pipeline and ColumnTransformer style (default) */\n",
       "\n",
       "#sk-container-id-1 div.sk-toggleable {\n",
       "  /* Default theme specific background. It is overwritten whether we have a\n",
       "  specific estimator or a Pipeline/ColumnTransformer */\n",
       "  background-color: var(--sklearn-color-background);\n",
       "}\n",
       "\n",
       "/* Toggleable label */\n",
       "#sk-container-id-1 label.sk-toggleable__label {\n",
       "  cursor: pointer;\n",
       "  display: flex;\n",
       "  width: 100%;\n",
       "  margin-bottom: 0;\n",
       "  padding: 0.5em;\n",
       "  box-sizing: border-box;\n",
       "  text-align: center;\n",
       "  align-items: start;\n",
       "  justify-content: space-between;\n",
       "  gap: 0.5em;\n",
       "}\n",
       "\n",
       "#sk-container-id-1 label.sk-toggleable__label .caption {\n",
       "  font-size: 0.6rem;\n",
       "  font-weight: lighter;\n",
       "  color: var(--sklearn-color-text-muted);\n",
       "}\n",
       "\n",
       "#sk-container-id-1 label.sk-toggleable__label-arrow:before {\n",
       "  /* Arrow on the left of the label */\n",
       "  content: \"▸\";\n",
       "  float: left;\n",
       "  margin-right: 0.25em;\n",
       "  color: var(--sklearn-color-icon);\n",
       "}\n",
       "\n",
       "#sk-container-id-1 label.sk-toggleable__label-arrow:hover:before {\n",
       "  color: var(--sklearn-color-text);\n",
       "}\n",
       "\n",
       "/* Toggleable content - dropdown */\n",
       "\n",
       "#sk-container-id-1 div.sk-toggleable__content {\n",
       "  max-height: 0;\n",
       "  max-width: 0;\n",
       "  overflow: hidden;\n",
       "  text-align: left;\n",
       "  /* unfitted */\n",
       "  background-color: var(--sklearn-color-unfitted-level-0);\n",
       "}\n",
       "\n",
       "#sk-container-id-1 div.sk-toggleable__content.fitted {\n",
       "  /* fitted */\n",
       "  background-color: var(--sklearn-color-fitted-level-0);\n",
       "}\n",
       "\n",
       "#sk-container-id-1 div.sk-toggleable__content pre {\n",
       "  margin: 0.2em;\n",
       "  border-radius: 0.25em;\n",
       "  color: var(--sklearn-color-text);\n",
       "  /* unfitted */\n",
       "  background-color: var(--sklearn-color-unfitted-level-0);\n",
       "}\n",
       "\n",
       "#sk-container-id-1 div.sk-toggleable__content.fitted pre {\n",
       "  /* unfitted */\n",
       "  background-color: var(--sklearn-color-fitted-level-0);\n",
       "}\n",
       "\n",
       "#sk-container-id-1 input.sk-toggleable__control:checked~div.sk-toggleable__content {\n",
       "  /* Expand drop-down */\n",
       "  max-height: 200px;\n",
       "  max-width: 100%;\n",
       "  overflow: auto;\n",
       "}\n",
       "\n",
       "#sk-container-id-1 input.sk-toggleable__control:checked~label.sk-toggleable__label-arrow:before {\n",
       "  content: \"▾\";\n",
       "}\n",
       "\n",
       "/* Pipeline/ColumnTransformer-specific style */\n",
       "\n",
       "#sk-container-id-1 div.sk-label input.sk-toggleable__control:checked~label.sk-toggleable__label {\n",
       "  color: var(--sklearn-color-text);\n",
       "  background-color: var(--sklearn-color-unfitted-level-2);\n",
       "}\n",
       "\n",
       "#sk-container-id-1 div.sk-label.fitted input.sk-toggleable__control:checked~label.sk-toggleable__label {\n",
       "  background-color: var(--sklearn-color-fitted-level-2);\n",
       "}\n",
       "\n",
       "/* Estimator-specific style */\n",
       "\n",
       "/* Colorize estimator box */\n",
       "#sk-container-id-1 div.sk-estimator input.sk-toggleable__control:checked~label.sk-toggleable__label {\n",
       "  /* unfitted */\n",
       "  background-color: var(--sklearn-color-unfitted-level-2);\n",
       "}\n",
       "\n",
       "#sk-container-id-1 div.sk-estimator.fitted input.sk-toggleable__control:checked~label.sk-toggleable__label {\n",
       "  /* fitted */\n",
       "  background-color: var(--sklearn-color-fitted-level-2);\n",
       "}\n",
       "\n",
       "#sk-container-id-1 div.sk-label label.sk-toggleable__label,\n",
       "#sk-container-id-1 div.sk-label label {\n",
       "  /* The background is the default theme color */\n",
       "  color: var(--sklearn-color-text-on-default-background);\n",
       "}\n",
       "\n",
       "/* On hover, darken the color of the background */\n",
       "#sk-container-id-1 div.sk-label:hover label.sk-toggleable__label {\n",
       "  color: var(--sklearn-color-text);\n",
       "  background-color: var(--sklearn-color-unfitted-level-2);\n",
       "}\n",
       "\n",
       "/* Label box, darken color on hover, fitted */\n",
       "#sk-container-id-1 div.sk-label.fitted:hover label.sk-toggleable__label.fitted {\n",
       "  color: var(--sklearn-color-text);\n",
       "  background-color: var(--sklearn-color-fitted-level-2);\n",
       "}\n",
       "\n",
       "/* Estimator label */\n",
       "\n",
       "#sk-container-id-1 div.sk-label label {\n",
       "  font-family: monospace;\n",
       "  font-weight: bold;\n",
       "  display: inline-block;\n",
       "  line-height: 1.2em;\n",
       "}\n",
       "\n",
       "#sk-container-id-1 div.sk-label-container {\n",
       "  text-align: center;\n",
       "}\n",
       "\n",
       "/* Estimator-specific */\n",
       "#sk-container-id-1 div.sk-estimator {\n",
       "  font-family: monospace;\n",
       "  border: 1px dotted var(--sklearn-color-border-box);\n",
       "  border-radius: 0.25em;\n",
       "  box-sizing: border-box;\n",
       "  margin-bottom: 0.5em;\n",
       "  /* unfitted */\n",
       "  background-color: var(--sklearn-color-unfitted-level-0);\n",
       "}\n",
       "\n",
       "#sk-container-id-1 div.sk-estimator.fitted {\n",
       "  /* fitted */\n",
       "  background-color: var(--sklearn-color-fitted-level-0);\n",
       "}\n",
       "\n",
       "/* on hover */\n",
       "#sk-container-id-1 div.sk-estimator:hover {\n",
       "  /* unfitted */\n",
       "  background-color: var(--sklearn-color-unfitted-level-2);\n",
       "}\n",
       "\n",
       "#sk-container-id-1 div.sk-estimator.fitted:hover {\n",
       "  /* fitted */\n",
       "  background-color: var(--sklearn-color-fitted-level-2);\n",
       "}\n",
       "\n",
       "/* Specification for estimator info (e.g. \"i\" and \"?\") */\n",
       "\n",
       "/* Common style for \"i\" and \"?\" */\n",
       "\n",
       ".sk-estimator-doc-link,\n",
       "a:link.sk-estimator-doc-link,\n",
       "a:visited.sk-estimator-doc-link {\n",
       "  float: right;\n",
       "  font-size: smaller;\n",
       "  line-height: 1em;\n",
       "  font-family: monospace;\n",
       "  background-color: var(--sklearn-color-background);\n",
       "  border-radius: 1em;\n",
       "  height: 1em;\n",
       "  width: 1em;\n",
       "  text-decoration: none !important;\n",
       "  margin-left: 0.5em;\n",
       "  text-align: center;\n",
       "  /* unfitted */\n",
       "  border: var(--sklearn-color-unfitted-level-1) 1pt solid;\n",
       "  color: var(--sklearn-color-unfitted-level-1);\n",
       "}\n",
       "\n",
       ".sk-estimator-doc-link.fitted,\n",
       "a:link.sk-estimator-doc-link.fitted,\n",
       "a:visited.sk-estimator-doc-link.fitted {\n",
       "  /* fitted */\n",
       "  border: var(--sklearn-color-fitted-level-1) 1pt solid;\n",
       "  color: var(--sklearn-color-fitted-level-1);\n",
       "}\n",
       "\n",
       "/* On hover */\n",
       "div.sk-estimator:hover .sk-estimator-doc-link:hover,\n",
       ".sk-estimator-doc-link:hover,\n",
       "div.sk-label-container:hover .sk-estimator-doc-link:hover,\n",
       ".sk-estimator-doc-link:hover {\n",
       "  /* unfitted */\n",
       "  background-color: var(--sklearn-color-unfitted-level-3);\n",
       "  color: var(--sklearn-color-background);\n",
       "  text-decoration: none;\n",
       "}\n",
       "\n",
       "div.sk-estimator.fitted:hover .sk-estimator-doc-link.fitted:hover,\n",
       ".sk-estimator-doc-link.fitted:hover,\n",
       "div.sk-label-container:hover .sk-estimator-doc-link.fitted:hover,\n",
       ".sk-estimator-doc-link.fitted:hover {\n",
       "  /* fitted */\n",
       "  background-color: var(--sklearn-color-fitted-level-3);\n",
       "  color: var(--sklearn-color-background);\n",
       "  text-decoration: none;\n",
       "}\n",
       "\n",
       "/* Span, style for the box shown on hovering the info icon */\n",
       ".sk-estimator-doc-link span {\n",
       "  display: none;\n",
       "  z-index: 9999;\n",
       "  position: relative;\n",
       "  font-weight: normal;\n",
       "  right: .2ex;\n",
       "  padding: .5ex;\n",
       "  margin: .5ex;\n",
       "  width: min-content;\n",
       "  min-width: 20ex;\n",
       "  max-width: 50ex;\n",
       "  color: var(--sklearn-color-text);\n",
       "  box-shadow: 2pt 2pt 4pt #999;\n",
       "  /* unfitted */\n",
       "  background: var(--sklearn-color-unfitted-level-0);\n",
       "  border: .5pt solid var(--sklearn-color-unfitted-level-3);\n",
       "}\n",
       "\n",
       ".sk-estimator-doc-link.fitted span {\n",
       "  /* fitted */\n",
       "  background: var(--sklearn-color-fitted-level-0);\n",
       "  border: var(--sklearn-color-fitted-level-3);\n",
       "}\n",
       "\n",
       ".sk-estimator-doc-link:hover span {\n",
       "  display: block;\n",
       "}\n",
       "\n",
       "/* \"?\"-specific style due to the `<a>` HTML tag */\n",
       "\n",
       "#sk-container-id-1 a.estimator_doc_link {\n",
       "  float: right;\n",
       "  font-size: 1rem;\n",
       "  line-height: 1em;\n",
       "  font-family: monospace;\n",
       "  background-color: var(--sklearn-color-background);\n",
       "  border-radius: 1rem;\n",
       "  height: 1rem;\n",
       "  width: 1rem;\n",
       "  text-decoration: none;\n",
       "  /* unfitted */\n",
       "  color: var(--sklearn-color-unfitted-level-1);\n",
       "  border: var(--sklearn-color-unfitted-level-1) 1pt solid;\n",
       "}\n",
       "\n",
       "#sk-container-id-1 a.estimator_doc_link.fitted {\n",
       "  /* fitted */\n",
       "  border: var(--sklearn-color-fitted-level-1) 1pt solid;\n",
       "  color: var(--sklearn-color-fitted-level-1);\n",
       "}\n",
       "\n",
       "/* On hover */\n",
       "#sk-container-id-1 a.estimator_doc_link:hover {\n",
       "  /* unfitted */\n",
       "  background-color: var(--sklearn-color-unfitted-level-3);\n",
       "  color: var(--sklearn-color-background);\n",
       "  text-decoration: none;\n",
       "}\n",
       "\n",
       "#sk-container-id-1 a.estimator_doc_link.fitted:hover {\n",
       "  /* fitted */\n",
       "  background-color: var(--sklearn-color-fitted-level-3);\n",
       "}\n",
       "</style><div id=\"sk-container-id-1\" class=\"sk-top-container\"><div class=\"sk-text-repr-fallback\"><pre>PCA(n_components=2)</pre><b>In a Jupyter environment, please rerun this cell to show the HTML representation or trust the notebook. <br />On GitHub, the HTML representation is unable to render, please try loading this page with nbviewer.org.</b></div><div class=\"sk-container\" hidden><div class=\"sk-item\"><div class=\"sk-estimator fitted sk-toggleable\"><input class=\"sk-toggleable__control sk-hidden--visually\" id=\"sk-estimator-id-1\" type=\"checkbox\" checked><label for=\"sk-estimator-id-1\" class=\"sk-toggleable__label fitted sk-toggleable__label-arrow\"><div><div>PCA</div></div><div><a class=\"sk-estimator-doc-link fitted\" rel=\"noreferrer\" target=\"_blank\" href=\"https://scikit-learn.org/1.6/modules/generated/sklearn.decomposition.PCA.html\">?<span>Documentation for PCA</span></a><span class=\"sk-estimator-doc-link fitted\">i<span>Fitted</span></span></div></label><div class=\"sk-toggleable__content fitted\"><pre>PCA(n_components=2)</pre></div> </div></div></div></div>"
      ]
     },
     "execution_count": 17,
     "metadata": {},
     "output_type": "execute_result"
    }
   ],
   "execution_count": 17
  },
  {
   "cell_type": "code",
   "id": "a7f30b64",
   "metadata": {
    "ExecuteTime": {
     "end_time": "2025-03-09T13:16:35.031323Z",
     "start_time": "2025-03-09T13:16:34.762784Z"
    }
   },
   "source": [
    "pca_example_trf = pca.transform(scaled_pca_example) # отримали набір спроектованих даних на вектори\n",
    "fig2, ax2 = plt.subplots()\n",
    "ax2.scatter(pca_example_trf[:,0], pca_example_trf[:,1])\n",
    "ax2.set_ylabel('$PC2$')\n",
    "ax2.set_xlabel('$PC1$')\n",
    "ax2.set_title('Principal components')\n",
    "plt.show()"
   ],
   "outputs": [
    {
     "data": {
      "text/plain": [
       "<Figure size 640x480 with 1 Axes>"
      ],
      "image/png": "[encoded data removed]"
     },
     "metadata": {},
     "output_type": "display_data"
    }
   ],
   "execution_count": 18
  },
  {
   "cell_type": "markdown",
   "id": "4aa8fc07",
   "metadata": {},
   "source": [
    "Аномалія очевидна.\n",
    "\n",
    "#### Аналіз\n",
    "\n",
    "Тепер підемо більш формально. Ми створюємо функцію для виконання PCA на 2D-даних, дотримуючись п’яти кроків, описаних на початку цього розділу.\n",
    "\n",
    "Замість того, щоб самостійно виконувати центрування та нормалізацію середнього значення, ми будемо використовувати StandardScaler, вбудований у scikit-learn."
   ]
  },
  {
   "cell_type": "code",
   "id": "3fe2162d",
   "metadata": {
    "ExecuteTime": {
     "end_time": "2025-03-09T13:16:35.062255Z",
     "start_time": "2025-03-09T13:16:35.056331Z"
    }
   },
   "source": [
    "def get_1d_projected_vectors(obs, pca_object):\n",
    "    # Примітка: Проекція вектора a (дані) уздовж вектора b (PC1)\n",
    "     # визначається як [b / len(b)]* (len (a) cos (theta))\n",
    "     # де theta - кут між a і b і елементом в\n",
    "     # квадратних дужка є одиничним вектором у напрямку b\n",
    "     #\n",
    "     # Оскільки cos (theta) = dot(a,b)/(len(a)len(b))\n",
    "     # проекцію можна записати як\n",
    "     # projs = b*[dot(a,b)/len(b)^2]\n",
    "     #\n",
    "     # Елемент у квадратних дужках - y_lengths\n",
    "     # projs обчислюється додаванням середнього значення\n",
    "     # віднятого раніше, щоб центрувати дані\n",
    "     #\n",
    "     # Це дуже чіткий спосіб проведення обчислень.\n",
    "     # Перегляньте примітки у «вищому вимірі», щоб побачити спосіб узагальнення\n",
    "     # це до вищих розмірів, одночасно інкапсулюючи векторну математику.\n",
    "    \n",
    "    ssX = StandardScaler()\n",
    "    centered_data = ssX.fit_transform(obs) #нормалізація даних\n",
    "    pca_dirs = pca_object.components_ #Головні осі(вектори головних компонент записані по стрічках  b)\n",
    "    \n",
    "    y_lengths = centered_data.dot(pca_dirs.T) / pca_dirs.dot(pca_dirs.T)  # обчислення dot(a,b)/len(b)^2\n",
    "    centered_projs = y_lengths*(pca_dirs)  # обчислення проекції [dot(a,b)/len(b)^2]*b\n",
    "    \n",
    "    # Return the data to its original uncentered (and unscaled) positions\n",
    "    return ssX.inverse_transform(centered_projs) #Повернути спроектовані дані до вихідних нецентрованих (і немасштабованих) позицій\n",
    "\n",
    "def do_pca_anomaly_scores(obs, pca_object):\n",
    "    projected_vectors = get_1d_projected_vectors(obs, pca_object)    \n",
    "    return nla.norm(obs-projs, axis=1)  #тут напевне помилка"
   ],
   "outputs": [],
   "execution_count": 19
  },
  {
   "cell_type": "code",
   "id": "d746b494",
   "metadata": {
    "ExecuteTime": {
     "end_time": "2025-03-09T13:16:35.104551Z",
     "start_time": "2025-03-09T13:16:35.098547Z"
    }
   },
   "source": [
    "def do_1d_pca_anomaly_scores(obs):\n",
    "    fig, ax = plt.subplots(figsize=(6,6))\n",
    "    ax.set_ylabel('$X_2$')\n",
    "    ax.set_xlabel('$X_1$')\n",
    "    ax.set_title('Original data with PCA')\n",
    "    \n",
    "    # draw data\n",
    "    ax.scatter(*obs.T, label='data')\n",
    "\n",
    "    # Step 1: center and scale the data\n",
    "    ssX = StandardScaler()\n",
    "    centered_data = ssX.fit_transform(obs) #нормалізує\n",
    "    mean = ssX.mean_ #беремо середнє значення\n",
    "    \n",
    "    #for completeness, show mean on plot\n",
    "    ax.scatter(*mean.T, c='k', marker='^', label='mean') \n",
    "\n",
    "    # Step 2: compute prinicpal components\n",
    "    # Here we focus on first PC  (greatest proportion of variance)\n",
    "    pca = decomp.PCA(n_components=1)\n",
    "    pca.fit_transform(centered_data)\n",
    "    pca_dirs = pca.components_ #Головні осі(вектори по стрічках) в просторі ознак, що представляють напрямки максимальної дисперсії в даних.\n",
    "\n",
    "    # draw principal components\n",
    "    pca_endpoints = np.r_[-3.5*ssX.inverse_transform(pca_dirs),\n",
    "                           3.5*ssX.inverse_transform(pca_dirs)]  #утворення масиву з перетворенням даних назад у вихідний простір (без нормування).\n",
    "    ax.plot(*pca_endpoints.T, 'y', label='PC1')\n",
    "\n",
    "    # Step 3: Project our examples onto the PCs\n",
    "    # \n",
    "    projs = get_1d_projected_vectors(obs, pca)\n",
    "    ax.plot(*projs.T, 'r.', label='projected data')\n",
    "    ax.legend(loc='best')\n",
    "    \n",
    "    # Step 4: Calculate distance between original and projected examples\n",
    "    # Step 5: Use the distance to score the anomalies\n",
    "    # The distance is the Euclidean norm and \n",
    "    # we use it as the anomaly score\n",
    "    return nla.norm(obs-projs, axis=1) # норма Фробеніуса- відстань між вхідними і спроектованими даними"
   ],
   "outputs": [],
   "execution_count": 20
  },
  {
   "cell_type": "code",
   "id": "96041f48",
   "metadata": {
    "ExecuteTime": {
     "end_time": "2025-03-09T13:16:35.348009Z",
     "start_time": "2025-03-09T13:16:35.109559Z"
    }
   },
   "source": [
    "pca_example_scores = do_1d_pca_anomaly_scores(pca_example)"
   ],
   "outputs": [
    {
     "data": {
      "text/plain": [
       "<Figure size 600x600 with 1 Axes>"
      ],
      "image/png": "[encoded data removed]"
     },
     "metadata": {},
     "output_type": "display_data"
    }
   ],
   "execution_count": 21
  },
  {
   "cell_type": "markdown",
   "id": "dc6aed87",
   "metadata": {},
   "source": [
    "Графік показує, що дані (сині), дані, спроектовані на PC1 (червоні точки на жовтій лінії), і середнє значення даних, використаних для центрування (чорний трикутник). Відповідно до побудови, PC1 проходить через середнє значення, яке розташоване на (0,0) – це важко побачити, оскільки там також є точка даних і прогнозована точка даних.\n",
    "\n",
    "Оскільки дані знаходяться дуже близько до PC1, важко побачити аномалію. Тому ми дивимося на аномалні точки."
   ]
  },
  {
   "cell_type": "code",
   "id": "e1c1a069",
   "metadata": {
    "ExecuteTime": {
     "end_time": "2025-03-09T13:16:35.375624Z",
     "start_time": "2025-03-09T13:16:35.371989Z"
    }
   },
   "source": [
    "print(pca_example_scores)"
   ],
   "outputs": [
    {
     "name": "stdout",
     "output_type": "stream",
     "text": [
      "[0.0006 0.0006 0.0008 0.0009 0.0009 0.001  0.0101 0.0012 0.0012 0.0014\n",
      " 0.0015]\n"
     ]
    }
   ],
   "execution_count": 22
  },
  {
   "cell_type": "markdown",
   "id": "05a3140e",
   "metadata": {},
   "source": [
    "Ми бачимо одне значення (0,0101), яке набагато більша за інші. Якій точці це відповідає?"
   ]
  },
  {
   "cell_type": "code",
   "id": "378efd0a",
   "metadata": {
    "ExecuteTime": {
     "end_time": "2025-03-09T13:16:35.439532Z",
     "start_time": "2025-03-09T13:16:35.435599Z"
    }
   },
   "source": [
    "print(pca_example[np.argmax(pca_example_scores)])"
   ],
   "outputs": [
    {
     "name": "stdout",
     "output_type": "stream",
     "text": [
      "[0.5  0.26]\n"
     ]
    }
   ],
   "execution_count": 23
  },
  {
   "cell_type": "markdown",
   "id": "660f198a",
   "metadata": {},
   "source": [
    "Це аномалія в даних. PCA спрацював!\n",
    "\n",
    "Ми повторюємо аналіз із шумнішими даними: два гаусівські кластери з двома аномаліями (6,0, 6,0) і (0,0, 10,0)."
   ]
  },
  {
   "cell_type": "code",
   "id": "34ada13e",
   "metadata": {
    "ExecuteTime": {
     "end_time": "2025-03-09T13:16:35.741442Z",
     "start_time": "2025-03-09T13:16:35.492469Z"
    }
   },
   "source": [
    "blobs_X, y = sk_data.make_blobs(centers=[[0,0], [10,10]]) #Створення ізотропних гауссових точок для кластеризації / за замовчуванням 100 точок по 50 в кожному кластері.\n",
    "figure, axes = plt.subplots(figsize=(6,6))\n",
    "axes.scatter(*blobs_X.T, c=y)\n",
    "\n",
    "spike_1 = np.array([[6.0,6.0]]) # Anomaly 1\n",
    "spike_2 = np.array([[0.0,10]])  # Anomaly 2\n",
    "axes.scatter(*spike_1.T, c='r')\n",
    "axes.scatter(*spike_2.T, c='g')\n",
    "axes.set_aspect('equal') #співвідношення сторін у до х\n",
    "axes.set_ylabel('$X_2$')\n",
    "axes.set_xlabel('$X_1$')\n",
    "axes.set_title('Original cluster data with two anomalies')\n",
    "\n",
    "# Об’єднайте дані так, щоб останні дві точки були аномаліями\n",
    "cluster_data = np.concatenate([blobs_X, spike_1, spike_2])\n"
   ],
   "outputs": [
    {
     "data": {
      "text/plain": [
       "<Figure size 600x600 with 1 Axes>"
      ],
      "image/png": "[encoded data removed]"
     },
     "metadata": {},
     "output_type": "display_data"
    }
   ],
   "execution_count": 24
  },
  {
   "cell_type": "markdown",
   "id": "bea5ac8f",
   "metadata": {},
   "source": [
    "Реалізуйте PCA"
   ]
  },
  {
   "cell_type": "code",
   "id": "811c7ed8",
   "metadata": {
    "ExecuteTime": {
     "end_time": "2025-03-09T13:16:36.040594Z",
     "start_time": "2025-03-09T13:16:35.769507Z"
    }
   },
   "source": [
    "cluster_data_scores = do_1d_pca_anomaly_scores(cluster_data)"
   ],
   "outputs": [
    {
     "data": {
      "text/plain": [
       "<Figure size 600x600 with 1 Axes>"
      ],
      "image/png": "[encoded data removed]"
     },
     "metadata": {},
     "output_type": "display_data"
    }
   ],
   "execution_count": 25
  },
  {
   "cell_type": "markdown",
   "id": "207e171c",
   "metadata": {},
   "source": [
    "За допомогою цього набору даних різниця між вихідними та прогнозованими даними очевидна – лише деякі варіації в даних можна пояснити, спроектувавши їх на лінію. (Зверніть увагу, що середнє значення (чорний трикутник) також проектується на PC1.)\n",
    "\n",
    "Подивіться на аномальні точки."
   ]
  },
  {
   "cell_type": "code",
   "id": "6f14d596",
   "metadata": {
    "ExecuteTime": {
     "end_time": "2025-03-09T13:16:36.064467Z",
     "start_time": "2025-03-09T13:16:36.060466Z"
    }
   },
   "source": [
    "print(cluster_data_scores)\n",
    "print(cluster_data_scores.shape)"
   ],
   "outputs": [
    {
     "name": "stdout",
     "output_type": "stream",
     "text": [
      "[1.181  0.5403 0.0397 1.5358 0.7199 0.0165 1.3946 0.0339 0.9449 0.5694\n",
      " 1.0616 1.1421 0.263  0.6485 0.6537 0.6135 0.4946 0.0346 0.4579 0.6769\n",
      " 0.568  1.2382 0.6052 1.4036 0.4892 0.7102 0.8329 0.6562 0.2888 0.1728\n",
      " 0.3816 0.6073 0.8296 0.0154 0.8472 0.2778 0.4027 0.3394 0.4926 1.2921\n",
      " 0.6153 2.7919 1.0895 0.4502 0.3001 1.2156 0.3527 0.9984 1.3596 0.4058\n",
      " 0.7692 0.2435 0.3785 0.1654 1.1815 0.6901 1.4403 0.3416 0.1148 0.9505\n",
      " 1.1664 1.1708 1.7054 0.6015 0.5106 1.298  0.6806 0.8721 0.3579 0.3735\n",
      " 1.4889 0.6584 0.5342 0.0761 2.8062 0.2295 1.5814 0.0278 1.0078 1.6572\n",
      " 0.0944 0.7009 0.2808 0.1322 0.1141 0.0699 0.9965 0.7565 1.0816 0.8801\n",
      " 0.3402 1.0534 1.0262 0.2865 0.322  0.7245 0.0291 0.9578 2.2514 0.2068\n",
      " 0.1245 7.1982]\n",
      "(102,)\n"
     ]
    }
   ],
   "execution_count": 26
  },
  {
   "cell_type": "markdown",
   "id": "23ad3262",
   "metadata": {},
   "source": [
    "Точка з найбільшою оцінкою є однією з наших засіяних аномалій."
   ]
  },
  {
   "cell_type": "code",
   "id": "2e3746c8",
   "metadata": {
    "ExecuteTime": {
     "end_time": "2025-03-09T13:16:36.126145Z",
     "start_time": "2025-03-09T13:16:36.122697Z"
    }
   },
   "source": [
    "print(max(cluster_data_scores))\n",
    "print(cluster_data[np.argmax(cluster_data_scores)])"
   ],
   "outputs": [
    {
     "name": "stdout",
     "output_type": "stream",
     "text": [
      "7.198166340308241\n",
      "[ 0. 10.]\n"
     ]
    }
   ],
   "execution_count": 27
  },
  {
   "cell_type": "markdown",
   "id": "b4b8d43c",
   "metadata": {},
   "source": [
    "Завдяки тому, як ми побудували наш набір даних, ми знаємо, що останні два точки є аномаліями.\n",
    "\n",
    "Це (0.0, 10.0), яка має індекс=101, це точка, яку ми знайшли вище.\n",
    "\n",
    "Інша (6,0, 6,0) з індексом=100 має оцінку аномалії 0,0886, що є дуже низьким. Це тому, що він розташований дуже близько до PC1.\n",
    "\n",
    "Цей приклад показує обмеження PCA для виявлення аномалій за допомогою кластерних даних. Для таких даних слід також спробувати методи наближення (див. урок 4)."
   ]
  },
  {
   "cell_type": "markdown",
   "id": "8819e475",
   "metadata": {},
   "source": [
    "### Для великої розмірності даних\n",
    "\n",
    "У функції `do_pca_anomaly_scores` ми викликали допоміжну функцію `get_projected_vectors`, яка знаходила проекцію векторів у нашому наборі даних на головний напрямок. Віднімаючи спроектований вектор з вихідного вектора, ми могли б знайти довжину ортогональних компонентів, які ми використовували для оцінки.\n",
    "\n",
    "Використаний підхід працював в одному основному напрямку та значною мірою покладався на векторну математику. Ми можемо попросити (підігнаний) об’єкт `pca` виконувати важку роботу за нас:\n",
    "1. `reduced = pca.tranform(X)` візьме наші $N$-вимірні вектори та спроектує їх на $d$-вимірний підпростір. У нашому прикладі $N=2$ і $d=1$.\n",
    "2. `projected = pca.inv_transform(reduced)` вбудує скорочені вектори назад у наш $N$-вимірний підпростір\n",
    "3. `X - projected` - це компоненти векторів, які не лежать у нашому підпросторі."
   ]
  },
  {
   "cell_type": "code",
   "id": "060f72bb",
   "metadata": {
    "ExecuteTime": {
     "end_time": "2025-03-09T13:16:36.169305Z",
     "start_time": "2025-03-09T13:16:36.165102Z"
    }
   },
   "source": [
    "def get_projected_vectors(X, pca, ssX=None):\n",
    "    if not ssX:\n",
    "        ssX = StandardScaler().fit(X)\n",
    "    centered_data = ssX.transform(X)\n",
    "    reduced = pca.transform(centered_data)\n",
    "    # To get back to the original space, we need to undo the PCA\n",
    "    # as well as undo the scaling/centering step.\n",
    "    return ssX.inverse_transform(pca.inverse_transform(reduced))"
   ],
   "outputs": [],
   "execution_count": 28
  },
  {
   "cell_type": "code",
   "id": "7bab47fd",
   "metadata": {
    "ExecuteTime": {
     "end_time": "2025-03-09T13:16:36.201031Z",
     "start_time": "2025-03-09T13:16:36.193145Z"
    }
   },
   "source": [
    "# Show that it does the same thing as the previous version\n",
    "def do_pca_anomaly_scores(obs, n_components=1):\n",
    "    ssX = StandardScaler()\n",
    "    centered_data = ssX.fit_transform(obs)\n",
    "    pca = decomp.PCA(n_components=n_components)\n",
    "    pca.fit(centered_data)\n",
    "    \n",
    "    projected_vectors = get_projected_vectors(obs, pca)\n",
    "    return nla.norm(obs - projected_vectors, axis=1)\n",
    "\n",
    "# check that the two answers agree\n",
    "do_pca_anomaly_scores(pca_example) - pca_example_scores #перевірка правильності для двох методів "
   ],
   "outputs": [
    {
     "data": {
      "text/plain": [
       "array([ 0.,  0.,  0.,  0.,  0., -0.,  0.,  0.,  0.,  0.,  0.])"
      ]
     },
     "execution_count": 29,
     "metadata": {},
     "output_type": "execute_result"
    }
   ],
   "execution_count": 29
  },
  {
   "cell_type": "markdown",
   "id": "33227954",
   "metadata": {},
   "source": [
    "Наш високовимірний аналог повертає той самий результат, що й векторна арифметика вручну!"
   ]
  },
  {
   "cell_type": "markdown",
   "id": "4396b470",
   "metadata": {},
   "source": [
    "## Розділ 3: Однокласова опорна векторна машина (SVM)¶\n",
    "У цьому розділі ми використаємо кластерний набір даних, створений у попередньому розділі, для виявлення аномалій за допомогою однокласової SVM. У вправах ми застосуємо те, що навчилися, до реального набору даних.\n",
    "\n",
    "Як ми обговорювали в лекції, однокласова SVM намагається знайти гіперплощину з найбільшим розривом між нормальним і аномальним класами. Як правило, дані не використовуються як є, а перетворюються за допомогою «трюку ядра» (див. лекцію).\n",
    "\n",
    "Ми будемо використовувати однокласовий SVM, реалізований у sklearn, який за замовчуванням використовує радіальну базисну функцію (RBF). Вхідними даними для ядра RBF є параметр gamma, і ми також використовуємо його значення за замовчуванням. (Обговорення ядра виходить за рамки цього уроку. Для отримання додаткової інформації див."
   ]
  },
  {
   "cell_type": "markdown",
   "id": "e121999a",
   "metadata": {},
   "source": [
    "Однокласовий SVM зазвичай повертає аномалії (-1) або нормальні точки (+1). Однак ми зацікавлені в отриманні точок, а потім у рейтингу за оцінками. Тому ми будемо використовувати надану `decision_function`, яка повертає відстань зі знаком до розділової гіперплощини (від’ємні відстані є аномаліями). Щоб бути узгодженим із попередньою угодою, де більші позитивні оцінки відображають більше аномальних точок, нам потрібно взяти негативне значення `decision_function`."
   ]
  },
  {
   "cell_type": "code",
   "id": "9eb5f0ee",
   "metadata": {
    "ExecuteTime": {
     "end_time": "2025-03-09T13:16:36.264108Z",
     "start_time": "2025-03-09T13:16:36.259723Z"
    }
   },
   "source": [
    "def do_svm_anomaly_scores(obs):\n",
    "    \n",
    "    oc_svm = svm.OneClassSVM(gamma='auto').fit(obs)  #Визначте м’яку границю набору даних X\n",
    "    scores = oc_svm.decision_function(obs).flatten() #Відстань зі знаком до розділової гіперплощини, якщо мінус, то аномалія / flatten - розгортає багатовимірний масив в одновимірний- в стрічку.\n",
    "    \n",
    "    # Find the largest score and use it to normalize the scores\n",
    "    max_score = np.max(np.abs(scores))\n",
    "    \n",
    "    # scores from oc_svm use \"negative is anomaly\"\n",
    "    # To follow our previous convention\n",
    "    # we multiply by -1 and divide by the maximum score to get scores\n",
    "    # in the range [-1, 1] with positive values indicating anomalies\n",
    "    return - scores / max_score #для зручності поміняємо знак оцінок; додатні оцінки вказують на аномалію"
   ],
   "outputs": [],
   "execution_count": 30
  },
  {
   "cell_type": "markdown",
   "id": "44b2f007",
   "metadata": {},
   "source": [
    "Застосуйте однокласовий SVM до набору даних кластера з попереднього розділу. Подивіться як на вихідні точки, так і на перші п’ять точок (за оцінками)."
   ]
  },
  {
   "cell_type": "code",
   "id": "a9d03fee",
   "metadata": {
    "ExecuteTime": {
     "end_time": "2025-03-09T13:16:36.287454Z",
     "start_time": "2025-03-09T13:16:36.272128Z"
    }
   },
   "source": [
    "print(do_svm_anomaly_scores(cluster_data))\n",
    "print (do_svm_anomaly_scores(cluster_data).argsort()[-5:])"
   ],
   "outputs": [
    {
     "name": "stdout",
     "output_type": "stream",
     "text": [
      "[ 0.3446 -0.0278 -0.0889  0.2209 -0.0313 -0.0391  0.1659  0.033   0.0046\n",
      "  0.3778  0.0597 -0.0404 -0.0688  0.     -0.      0.0119  0.4177 -0.0398\n",
      " -0.049  -0.0356 -0.0365  0.3571 -0.0262  0.0133 -0.0451  0.0353  0.0071\n",
      " -0.1022 -0.0687 -0.0309  0.0426 -0.0222 -0.0314 -0.0849  0.0107 -0.1098\n",
      "  0.1465 -0.0196 -0.0227  0.0001 -0.0001  0.7503  0.1477  0.     -0.0671\n",
      "  0.0652 -0.0942  0.113   0.1042 -0.0633 -0.0223 -0.0806 -0.0403 -0.0612\n",
      "  0.1027  0.2865  0.1198 -0.0389 -0.0889 -0.0156 -0.046   0.1361  0.3471\n",
      " -0.     -0.0297  0.0921  0.1851 -0.0011  0.0365 -0.051   0.1552  0.1321\n",
      " -0.0857 -0.0525  0.7892  0.049   0.1699  0.8144  0.      0.2061 -0.0481\n",
      " -0.0015  0.2341 -0.0674 -0.0317 -0.0457  0.265   0.0408  0.0754  0.4529\n",
      " -0.0239  0.0165  0.     -0.0459 -0.0385 -0.0215 -0.1041 -0.0015  0.5645\n",
      " -0.0519  0.9994  1.    ]\n",
      "[ 41  74  77 100 101]\n"
     ]
    }
   ],
   "execution_count": 31
  },
  {
   "cell_type": "markdown",
   "id": "2321b61d",
   "metadata": {},
   "source": [
    " Дві початкові аномалії (індекс=100 і 101) є двома найвищими оцінками. Продуктивність краща, ніж PCA, але процес виявлення аномалій менш прозорий.\n",
    "\n",
    "### вправи\n",
    "\n",
    "#### Дані\n",
    "Для всіх вправ ми будемо використовувати набір даних реального світу: набір даних іоносфери з репозиторію бази даних машинного навчання UCI. Цей набір даних складається з радіолокаційних сигналів від іоносфери та спочатку використовувався для класифікації результатів як хороших (придатних для подальших досліджень) і поганих. Більше інформації доступно тут: https://archive.ics.uci.edu/ml/datasets/ionosphere.\n",
    "\n",
    "Для цілей цього блокнота ми адаптували набір даних для виявлення аномалій. Ми видалили два стовпці: один із мітками класів (хороший чи поганий), а інший був константою (0) для всіх екземплярів даних.\n",
    "\n",
    "Ми читаємо дані як фрейм даних pandas, а потім поміщаємо їх у масив numpy для сумісності з нашими існуючими функціями"
   ]
  },
  {
   "cell_type": "code",
   "id": "0d99ac29",
   "metadata": {
    "ExecuteTime": {
     "end_time": "2025-03-09T13:16:36.322098Z",
     "start_time": "2025-03-09T13:16:36.311144Z"
    }
   },
   "source": [
    "ion_df = pd.read_csv('ionosphere_data.csv', header=None)\n",
    "ion_data = np.array(ion_df.values)"
   ],
   "outputs": [],
   "execution_count": 32
  },
  {
   "cell_type": "markdown",
   "id": "16a5a28d",
   "metadata": {},
   "source": [
    "Подивіться на дані"
   ]
  },
  {
   "cell_type": "code",
   "id": "4286144b",
   "metadata": {
    "ExecuteTime": {
     "end_time": "2025-03-09T13:16:36.352278Z",
     "start_time": "2025-03-09T13:16:36.347617Z"
    }
   },
   "source": [
    "ion_data.shape"
   ],
   "outputs": [
    {
     "data": {
      "text/plain": [
       "(351, 33)"
      ]
     },
     "execution_count": 33,
     "metadata": {},
     "output_type": "execute_result"
    }
   ],
   "execution_count": 33
  },
  {
   "cell_type": "markdown",
   "id": "8799f214",
   "metadata": {},
   "source": [
    "### Вправа №1\n",
    "Ця вправа відноситься до Розділу 1 (модель лінійної регресії)\n",
    "\n",
    "Файл Summing Amplifier.xlsx містить дані вхідної напруги V1 та V2 та значення вихілної напруги суматора VOUT.  Створіть функцію linreg_anomaly_scores, яка повертає показники аномалій лінійної регресійної моделі (двофакторноъ), де надаються три вхідних  набори даних: V1, V2 та VOUT, яка є залежною змінною.\n",
    "\n",
    "Знайдіть аномалію з найбільшим збуренням, а також виведіть п.ять точок із найбільшими збуреннями"
   ]
  },
  {
   "cell_type": "code",
   "id": "cb014aa6",
   "metadata": {
    "ExecuteTime": {
     "end_time": "2025-03-09T13:19:08.804787Z",
     "start_time": "2025-03-09T13:19:08.725289Z"
    }
   },
   "source": [
    "volt = pd.read_excel('./Inv Summing Amplifier.xlsx',parse_dates=True)\n",
    "X_volt = volt[['V1', 'V2']].values\n",
    "Y_volt = volt['VOUT'].values\n"
   ],
   "outputs": [],
   "execution_count": 40
  },
  {
   "cell_type": "code",
   "id": "6f86fd2d",
   "metadata": {
    "ExecuteTime": {
     "end_time": "2025-03-09T13:17:46.599288Z",
     "start_time": "2025-03-09T13:17:46.592593Z"
    }
   },
   "source": [
    "print(volt)"
   ],
   "outputs": [
    {
     "name": "stdout",
     "output_type": "stream",
     "text": [
      "          V1      V2     VOUT\n",
      "0     0.5055  9.5073 -10.0259\n",
      "1     0.0007  9.5054  -9.5191\n",
      "2    -0.4990  9.5038  -9.0153\n",
      "3    -1.0043  9.5028  -8.5070\n",
      "4    -1.4991  9.5024  -8.0101\n",
      "...      ...     ...      ...\n",
      "1271  1.0035 -9.5005   8.5085\n",
      "1272  0.4977 -9.5006   9.0164\n",
      "1273 -0.0006 -9.5006   9.5161\n",
      "1274 -0.4929 -9.5007  10.0112\n",
      "1275 -1.0018 -9.5008  10.5213\n",
      "\n",
      "[1276 rows x 3 columns]\n"
     ]
    }
   ],
   "execution_count": 36
  },
  {
   "cell_type": "code",
   "id": "fc396cba",
   "metadata": {
    "ExecuteTime": {
     "end_time": "2025-03-09T13:17:54.424014Z",
     "start_time": "2025-03-09T13:17:54.418855Z"
    }
   },
   "source": [
    "from sklearn.linear_model import LinearRegression\n",
    "\n",
    "\n",
    "def linreg_anomaly_scores(X, Y):\n",
    "    # Створюємо та тренуємо модель\n",
    "    model = LinearRegression()\n",
    "    model.fit(X, Y)\n",
    "\n",
    "    # Передбачаємо значення\n",
    "    Y_pred = model.predict(X)\n",
    "\n",
    "    # Обчислюємо залишки (модуль різниці між фактичними та передбаченими значеннями)\n",
    "    anom_score = np.abs(Y - Y_pred)\n",
    "\n",
    "    return anom_score"
   ],
   "outputs": [],
   "execution_count": 37
  },
  {
   "cell_type": "code",
   "id": "3257e9a7",
   "metadata": {
    "ExecuteTime": {
     "end_time": "2025-03-09T13:19:13.633738Z",
     "start_time": "2025-03-09T13:19:13.629898Z"
    }
   },
   "source": [
    "print(X_volt)"
   ],
   "outputs": [
    {
     "name": "stdout",
     "output_type": "stream",
     "text": [
      "[[ 0.5055  9.5073]\n",
      " [ 0.0007  9.5054]\n",
      " [-0.499   9.5038]\n",
      " ...\n",
      " [-0.0006 -9.5006]\n",
      " [-0.4929 -9.5007]\n",
      " [-1.0018 -9.5008]]\n"
     ]
    }
   ],
   "execution_count": 41
  },
  {
   "cell_type": "code",
   "id": "c613d1db",
   "metadata": {
    "ExecuteTime": {
     "end_time": "2025-03-09T13:20:15.202353Z",
     "start_time": "2025-03-09T13:20:15.188790Z"
    }
   },
   "source": [
    "anomaly_scores_reg=linreg_anomaly_scores(X_volt, Y_volt).flatten()\n",
    "print(anomaly_scores_reg)"
   ],
   "outputs": [
    {
     "name": "stdout",
     "output_type": "stream",
     "text": [
      "[0.0003 0.002  0.0013 ... 0.0014 0.0023 0.0016]\n"
     ]
    }
   ],
   "execution_count": 42
  },
  {
   "cell_type": "code",
   "id": "ae3c3315",
   "metadata": {
    "ExecuteTime": {
     "end_time": "2025-03-09T13:20:19.645511Z",
     "start_time": "2025-03-09T13:20:19.640911Z"
    }
   },
   "source": [
    "max_anomaly_scores_reg=np.argmax(anomaly_scores_reg)\n",
    "print(max_anomaly_scores_reg)"
   ],
   "outputs": [
    {
     "name": "stdout",
     "output_type": "stream",
     "text": [
      "964\n"
     ]
    }
   ],
   "execution_count": 43
  },
  {
   "cell_type": "code",
   "id": "995324c1",
   "metadata": {
    "ExecuteTime": {
     "end_time": "2025-03-09T13:20:22.448812Z",
     "start_time": "2025-03-09T13:20:22.444776Z"
    }
   },
   "source": [
    "print (anomaly_scores_reg.argsort()[-5:])"
   ],
   "outputs": [
    {
     "name": "stdout",
     "output_type": "stream",
     "text": [
      "[ 726 1199 1110  705  964]\n"
     ]
    }
   ],
   "execution_count": 44
  },
  {
   "cell_type": "markdown",
   "id": "e34fbad9",
   "metadata": {},
   "source": [
    "### Вправа №2\n",
    "\n",
    "Ця вправа відноситься до розділу 2 (PCA).\n",
    "\n",
    "Створіть функцію `pca_anomaly_scores`, яка повертає оцінки аномалій моделі PCA, де надаються два вхідні дані: дані та кількість компонентів. Ми використаємо цю функцію у вправі 4 для аналізу даних іоносфери."
   ]
  },
  {
   "cell_type": "code",
   "id": "9e6d27ab",
   "metadata": {
    "ExecuteTime": {
     "end_time": "2025-03-09T13:22:50.288187Z",
     "start_time": "2025-03-09T13:22:50.283668Z"
    }
   },
   "source": [
    "import numpy as np\n",
    "from sklearn.decomposition import PCA\n",
    "\n",
    "def pca_anomaly_scores(obs, n_components=1):\n",
    "    # Ініціалізація PCA\n",
    "    pca = PCA(n_components=n_components)\n",
    "    \n",
    "    # Навчання PCA на вхідних даних\n",
    "    pca.fit(obs)\n",
    "    \n",
    "    # Відновлення даних із зменшеного простору\n",
    "    obs_pca = pca.transform(obs)\n",
    "    obs_reconstructed = pca.inverse_transform(obs_pca)\n",
    "    \n",
    "    # Обчислення залишків як різниці між оригінальними та відновленими даними\n",
    "    anom_score = np.linalg.norm(obs - obs_reconstructed, axis=1)\n",
    "    \n",
    "    return anom_score"
   ],
   "outputs": [],
   "execution_count": 45
  },
  {
   "cell_type": "code",
   "id": "fcee59e1",
   "metadata": {
    "ExecuteTime": {
     "end_time": "2025-03-09T13:22:52.163093Z",
     "start_time": "2025-03-09T13:22:52.132707Z"
    }
   },
   "source": [
    "pca_anomaly_scores(ion_data,1)[-15:]"
   ],
   "outputs": [
    {
     "data": {
      "text/plain": [
       "array([2.0913, 2.9791, 1.6513, 2.8539, 1.7702, 0.5489, 0.376 , 0.7268,\n",
       "       0.26  , 1.526 , 0.6192, 0.4773, 0.4416, 0.508 , 0.5329])"
      ]
     },
     "execution_count": 46,
     "metadata": {},
     "output_type": "execute_result"
    }
   ],
   "execution_count": 46
  },
  {
   "cell_type": "code",
   "id": "90a7229a",
   "metadata": {
    "ExecuteTime": {
     "end_time": "2025-03-09T13:22:53.946806Z",
     "start_time": "2025-03-09T13:22:53.938742Z"
    }
   },
   "source": [
    "max_pca_anomaly_scores=np.argmax(pca_anomaly_scores(ion_data,1))\n",
    "print(max_pca_anomaly_scores)\n",
    "print (pca_anomaly_scores(ion_data).argsort()[-5:])"
   ],
   "outputs": [
    {
     "name": "stdout",
     "output_type": "stream",
     "text": [
      "162\n",
      "[220  29  53  17 162]\n"
     ]
    }
   ],
   "execution_count": 47
  },
  {
   "cell_type": "markdown",
   "id": "e53d0784",
   "metadata": {},
   "source": [
    "### Вправа №3\n",
    "\n",
    "Ця вправа відноситься до Розділу 3 (однокласовий SVM).\n",
    "\n",
    "Створіть функцію `svm_anomaly_scores`, яка повертає оцінки аномалій однокласової моделі SVM, де надаються два набори вхідних даних: дані та ядро. Ми використаємо цю функцію у вправі 4 для аналізу даних іоносфери."
   ]
  },
  {
   "cell_type": "code",
   "id": "953cbde0",
   "metadata": {
    "ExecuteTime": {
     "end_time": "2025-03-09T16:31:39.055488Z",
     "start_time": "2025-03-09T16:31:38.998306Z"
    }
   },
   "source": [
    "from sklearn.svm import OneClassSVM\n",
    "\n",
    "def svm_anomaly_scores(obs, kernel=\"linear\"):\n",
    "    # Ініціалізація моделі One-Class SVM\n",
    "    model = OneClassSVM(kernel=kernel, nu=0.05)  # nu визначає межу аномалій (можна налаштовувати)\n",
    "    \n",
    "    # Навчання моделі на вхідних даних\n",
    "    model.fit(obs)\n",
    "    \n",
    "    # Оцінка аномалій (менші значення вказують на більшу аномальність)\n",
    "    anom_score = -model.decision_function(obs)\n",
    "    \n",
    "    return anom_score\n"
   ],
   "outputs": [],
   "execution_count": 48
  },
  {
   "cell_type": "code",
   "id": "d1a69489",
   "metadata": {
    "ExecuteTime": {
     "end_time": "2025-03-09T16:31:41.476323Z",
     "start_time": "2025-03-09T16:31:41.430880Z"
    }
   },
   "source": [
    "print(svm_anomaly_scores(ion_data, 'linear')[-10:])\n",
    "print (svm_anomaly_scores(ion_data, 'linear').argsort()[-5:])"
   ],
   "outputs": [
    {
     "name": "stdout",
     "output_type": "stream",
     "text": [
      "[-8.4502 -7.042  -5.1665 -7.1716 -5.9597 -7.5765 -8.3103 -8.3536 -8.5031\n",
      " -7.7298]\n",
      "[ 45 230 232 204  27]\n"
     ]
    }
   ],
   "execution_count": 49
  },
  {
   "cell_type": "markdown",
   "id": "63ec078f",
   "metadata": {},
   "source": [
    "### Вправа №4\n",
    "\n",
    "Тепер у нас є три функції `[method]_outlier_scores`. Застосуйте кожен із них до набору даних іоносфери. Які п’ять найаномальніших точок отримуємо при використанні кожної техніки?"
   ]
  },
  {
   "cell_type": "code",
   "id": "4a63ea33",
   "metadata": {
    "ExecuteTime": {
     "end_time": "2025-03-09T16:34:08.848451Z",
     "start_time": "2025-03-09T16:34:08.564984Z"
    }
   },
   "source": [
    "\n",
    "import pandas as pd\n",
    "import numpy as np\n",
    "\n",
    "# Використання методу лінійної регресії\n",
    "linreg_scores = linreg_anomaly_scores(ion_data, ion_data[:, 0])  # Вибираємо першу змінну як Y\n",
    "\n",
    "# Використання PCA\n",
    "pca_scores = pca_anomaly_scores(ion_data, n_components=2)\n",
    "\n",
    "# Використання One-Class SVM\n",
    "svm_scores = svm_anomaly_scores(ion_data, kernel=\"rbf\")\n",
    "\n",
    "# Додавання оцінок у DataFrame\n",
    "df_scores = pd.DataFrame({\n",
    "    \"LinReg\": linreg_scores,\n",
    "    \"PCA\": pca_scores,\n",
    "    \"SVM\": svm_scores\n",
    "})\n",
    "\n",
    "# Визначення 5 найбільших аномалій за кожним методом\n",
    "top5_linreg = df_scores.nlargest(5, \"LinReg\")\n",
    "top5_pca = df_scores.nlargest(5, \"PCA\")\n",
    "top5_svm = df_scores.nlargest(5, \"SVM\")\n",
    "\n",
    "print(\"Топ-5 аномалій (Лінійна регресія):\")\n",
    "print(top5_linreg)\n",
    "print(\"\\nТоп-5 аномалій (PCA):\")\n",
    "print(top5_pca)\n",
    "print(\"\\nТоп-5 аномалій (SVM):\")\n",
    "print(top5_svm)\n"
   ],
   "outputs": [
    {
     "name": "stdout",
     "output_type": "stream",
     "text": [
      "Топ-5 аномалій (Лінійна регресія):\n",
      "           LinReg       PCA       SVM\n",
      "75   2.373491e-15  4.439086  0.000312\n",
      "67   1.557197e-15  3.920366 -0.000027\n",
      "17   1.523378e-15  5.490490 -0.000008\n",
      "220  1.519991e-15  5.243295 -0.000099\n",
      "194  1.332268e-15  5.036141 -0.000152\n",
      "\n",
      "Топ-5 аномалій (PCA):\n",
      "           LinReg       PCA       SVM\n",
      "17   1.523378e-15  5.490490 -0.000008\n",
      "53   1.110223e-15  5.477046  0.000082\n",
      "162  2.220446e-16  5.424698 -0.000158\n",
      "57   7.450208e-16  5.254270  0.000137\n",
      "220  1.519991e-15  5.243295 -0.000099\n",
      "\n",
      "Топ-5 аномалій (SVM):\n",
      "           LinReg       PCA       SVM\n",
      "165  4.440892e-16  3.310105  0.000465\n",
      "164  4.440892e-16  3.465758  0.000384\n",
      "69   0.000000e+00  3.525781  0.000359\n",
      "214  1.355491e-16  4.095358  0.000326\n",
      "75   2.373491e-15  4.439086  0.000312\n"
     ]
    }
   ],
   "execution_count": 50
  }
 ],
 "metadata": {
  "kernelspec": {
   "display_name": "Python 3 (ipykernel)",
   "language": "python",
   "name": "python3"
  },
  "language_info": {
   "codemirror_mode": {
    "name": "ipython",
    "version": 3
   },
   "file_extension": ".py",
   "mimetype": "text/x-python",
   "name": "python",
   "nbconvert_exporter": "python",
   "pygments_lexer": "ipython3",
   "version": "3.9.13"
  }
 },
 "nbformat": 4,
 "nbformat_minor": 5
}
