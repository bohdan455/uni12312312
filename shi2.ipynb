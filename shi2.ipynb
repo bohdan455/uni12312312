{
 "cells": [
  {
   "cell_type": "code",
   "id": "initial_id",
   "metadata": {
    "collapsed": true,
    "ExecuteTime": {
     "end_time": "2025-02-18T14:32:56.551439Z",
     "start_time": "2025-02-18T14:32:56.503692Z"
    }
   },
   "source": [
    "import pandas as pd\n",
    "\n",
    "# Шлях до завантаженого файлу\n",
    "file_path = \"data2.csv\"\n",
    "\n",
    "# Завантаження даних\n",
    "df = pd.read_csv(file_path)\n",
    "\n",
    "# Виведення основної інформації про датасет\n",
    "df_info = df.info()\n",
    "df_head = df.head()\n",
    "\n",
    "df_info, df_head"
   ],
   "outputs": [
    {
     "name": "stdout",
     "output_type": "stream",
     "text": [
      "<class 'pandas.core.frame.DataFrame'>\n",
      "RangeIndex: 569 entries, 0 to 568\n",
      "Data columns (total 33 columns):\n",
      " #   Column                   Non-Null Count  Dtype  \n",
      "---  ------                   --------------  -----  \n",
      " 0   id                       569 non-null    int64  \n",
      " 1   diagnosis                569 non-null    object \n",
      " 2   radius_mean              569 non-null    float64\n",
      " 3   texture_mean             569 non-null    float64\n",
      " 4   perimeter_mean           569 non-null    float64\n",
      " 5   area_mean                569 non-null    float64\n",
      " 6   smoothness_mean          569 non-null    float64\n",
      " 7   compactness_mean         569 non-null    float64\n",
      " 8   concavity_mean           569 non-null    float64\n",
      " 9   concave points_mean      569 non-null    float64\n",
      " 10  symmetry_mean            569 non-null    float64\n",
      " 11  fractal_dimension_mean   569 non-null    float64\n",
      " 12  radius_se                569 non-null    float64\n",
      " 13  texture_se               569 non-null    float64\n",
      " 14  perimeter_se             569 non-null    float64\n",
      " 15  area_se                  569 non-null    float64\n",
      " 16  smoothness_se            569 non-null    float64\n",
      " 17  compactness_se           569 non-null    float64\n",
      " 18  concavity_se             569 non-null    float64\n",
      " 19  concave points_se        569 non-null    float64\n",
      " 20  symmetry_se              569 non-null    float64\n",
      " 21  fractal_dimension_se     569 non-null    float64\n",
      " 22  radius_worst             569 non-null    float64\n",
      " 23  texture_worst            569 non-null    float64\n",
      " 24  perimeter_worst          569 non-null    float64\n",
      " 25  area_worst               569 non-null    float64\n",
      " 26  smoothness_worst         569 non-null    float64\n",
      " 27  compactness_worst        569 non-null    float64\n",
      " 28  concavity_worst          569 non-null    float64\n",
      " 29  concave points_worst     569 non-null    float64\n",
      " 30  symmetry_worst           569 non-null    float64\n",
      " 31  fractal_dimension_worst  569 non-null    float64\n",
      " 32  Unnamed: 32              0 non-null      float64\n",
      "dtypes: float64(31), int64(1), object(1)\n",
      "memory usage: 146.8+ KB\n"
     ]
    },
    {
     "data": {
      "text/plain": [
       "(None,\n",
       "          id diagnosis  radius_mean  texture_mean  perimeter_mean  area_mean  \\\n",
       " 0    842302         M        17.99         10.38          122.80     1001.0   \n",
       " 1    842517         M        20.57         17.77          132.90     1326.0   \n",
       " 2  84300903         M        19.69         21.25          130.00     1203.0   \n",
       " 3  84348301         M        11.42         20.38           77.58      386.1   \n",
       " 4  84358402         M        20.29         14.34          135.10     1297.0   \n",
       " \n",
       "    smoothness_mean  compactness_mean  concavity_mean  concave points_mean  \\\n",
       " 0          0.11840           0.27760          0.3001              0.14710   \n",
       " 1          0.08474           0.07864          0.0869              0.07017   \n",
       " 2          0.10960           0.15990          0.1974              0.12790   \n",
       " 3          0.14250           0.28390          0.2414              0.10520   \n",
       " 4          0.10030           0.13280          0.1980              0.10430   \n",
       " \n",
       "    ...  texture_worst  perimeter_worst  area_worst  smoothness_worst  \\\n",
       " 0  ...          17.33           184.60      2019.0            0.1622   \n",
       " 1  ...          23.41           158.80      1956.0            0.1238   \n",
       " 2  ...          25.53           152.50      1709.0            0.1444   \n",
       " 3  ...          26.50            98.87       567.7            0.2098   \n",
       " 4  ...          16.67           152.20      1575.0            0.1374   \n",
       " \n",
       "    compactness_worst  concavity_worst  concave points_worst  symmetry_worst  \\\n",
       " 0             0.6656           0.7119                0.2654          0.4601   \n",
       " 1             0.1866           0.2416                0.1860          0.2750   \n",
       " 2             0.4245           0.4504                0.2430          0.3613   \n",
       " 3             0.8663           0.6869                0.2575          0.6638   \n",
       " 4             0.2050           0.4000                0.1625          0.2364   \n",
       " \n",
       "    fractal_dimension_worst  Unnamed: 32  \n",
       " 0                  0.11890          NaN  \n",
       " 1                  0.08902          NaN  \n",
       " 2                  0.08758          NaN  \n",
       " 3                  0.17300          NaN  \n",
       " 4                  0.07678          NaN  \n",
       " \n",
       " [5 rows x 33 columns])"
      ]
     },
     "execution_count": 2,
     "metadata": {},
     "output_type": "execute_result"
    }
   ],
   "execution_count": 2
  },
  {
   "metadata": {
    "ExecuteTime": {
     "end_time": "2025-02-18T14:33:01.890501Z",
     "start_time": "2025-02-18T14:33:00.894688Z"
    }
   },
   "cell_type": "code",
   "source": [
    "from sklearn.model_selection import train_test_split\n",
    "from sklearn.preprocessing import StandardScaler, LabelEncoder\n",
    "\n",
    "# Видаляємо некорисні стовпці\n",
    "df = df.drop(columns=[\"id\", \"Unnamed: 32\"])\n",
    "\n",
    "# Закодуємо цільову змінну (M=1, B=0)\n",
    "df[\"diagnosis\"] = LabelEncoder().fit_transform(df[\"diagnosis\"])\n",
    "\n",
    "# Розділяємо на ознаки (X) і цільову змінну (y)\n",
    "X = df.drop(columns=[\"diagnosis\"])\n",
    "y = df[\"diagnosis\"]\n",
    "\n",
    "# Масштабуємо ознаки для коректної роботи регуляризації\n",
    "scaler = StandardScaler()\n",
    "X_scaled = scaler.fit_transform(X)\n",
    "\n",
    "# Розділяємо дані на навчальний і тестовий набори (80% - train, 20% - test)\n",
    "X_train, X_test, y_train, y_test = train_test_split(X_scaled, y, test_size=0.2, random_state=42)\n",
    "\n",
    "# Перевіряємо розміри вибірок\n",
    "X_train.shape, X_test.shape, y_train.shape, y_test.shape"
   ],
   "id": "4face04968d174cc",
   "outputs": [
    {
     "data": {
      "text/plain": [
       "((455, 30), (114, 30), (455,), (114,))"
      ]
     },
     "execution_count": 3,
     "metadata": {},
     "output_type": "execute_result"
    }
   ],
   "execution_count": 3
  },
  {
   "metadata": {
    "ExecuteTime": {
     "end_time": "2025-02-18T14:36:48.030082Z",
     "start_time": "2025-02-18T14:36:47.343565Z"
    }
   },
   "cell_type": "code",
   "source": [
    "from sklearn.linear_model import Ridge, Lasso\n",
    "from sklearn.metrics import mean_squared_error, mean_absolute_error\n",
    "\n",
    "# Навчання Ridge регресії (L2 регуляризація)\n",
    "ridge = Ridge(alpha=1.0)  # Гіперпараметр α можна змінювати\n",
    "ridge.fit(X_train, y_train)\n",
    "y_pred_ridge = ridge.predict(X_test)\n",
    "\n",
    "# Навчання Lasso регресії (L1 регуляризація)\n",
    "lasso = Lasso(alpha=0.1)  # Гіперпараметр α можна змінювати\n",
    "lasso.fit(X_train, y_train)\n",
    "y_pred_lasso = lasso.predict(X_test)\n",
    "\n",
    "# Оцінка точності моделей\n",
    "ridge_mse = mean_squared_error(y_test, y_pred_ridge)\n",
    "ridge_mae = mean_absolute_error(y_test, y_pred_ridge)\n",
    "\n",
    "lasso_mse = mean_squared_error(y_test, y_pred_lasso)\n",
    "lasso_mae = mean_absolute_error(y_test, y_pred_lasso)\n",
    "\n",
    "ridge_mse, ridge_mae, lasso_mse, lasso_mae"
   ],
   "id": "4c127555a96994bf",
   "outputs": [
    {
     "data": {
      "text/plain": [
       "(0.06205316603891845,\n",
       " 0.1958184407686583,\n",
       " 0.07549697688418236,\n",
       " 0.23390920229170312)"
      ]
     },
     "execution_count": 4,
     "metadata": {},
     "output_type": "execute_result"
    }
   ],
   "execution_count": 4
  },
  {
   "metadata": {
    "ExecuteTime": {
     "end_time": "2025-02-18T14:38:22.071067Z",
     "start_time": "2025-02-18T14:38:22.055482Z"
    }
   },
   "cell_type": "code",
   "source": [
    "import numpy as np\n",
    "\n",
    "# Отримуємо коефіцієнти моделей\n",
    "ridge_coeffs = ridge.coef_\n",
    "lasso_coeffs = lasso.coef_\n",
    "\n",
    "# Формуємо таблицю коефіцієнтів\n",
    "coeff_df = pd.DataFrame({\n",
    "    \"Feature\": X.columns,\n",
    "    \"Ridge Coeff\": ridge_coeffs,\n",
    "    \"Lasso Coeff\": lasso_coeffs\n",
    "})\n",
    "\n",
    "# Визначаємо значущі ознаки (ті, що не занулені в Lasso)\n",
    "important_features = coeff_df[coeff_df[\"Lasso Coeff\"] != 0]\n",
    "\n",
    "# Виводимо топ-10 найбільш значущих ознак для Lasso\n",
    "coeff_df_sorted = important_features.reindex(important_features[\"Lasso Coeff\"].abs().sort_values(ascending=False).index)\n",
    "coeff_df_sorted.head(10)"
   ],
   "id": "2a71e76c461e2d5f",
   "outputs": [
    {
     "data": {
      "text/plain": [
       "                 Feature  Ridge Coeff  Lasso Coeff\n",
       "27  concave points_worst    -0.044671     0.158643\n",
       "20          radius_worst     0.375227     0.122368\n",
       "7    concave points_mean     0.167684     0.025786\n",
       "21         texture_worst     0.065117     0.014775"
      ],
      "text/html": [
       "<div>\n",
       "<style scoped>\n",
       "    .dataframe tbody tr th:only-of-type {\n",
       "        vertical-align: middle;\n",
       "    }\n",
       "\n",
       "    .dataframe tbody tr th {\n",
       "        vertical-align: top;\n",
       "    }\n",
       "\n",
       "    .dataframe thead th {\n",
       "        text-align: right;\n",
       "    }\n",
       "</style>\n",
       "<table border=\"1\" class=\"dataframe\">\n",
       "  <thead>\n",
       "    <tr style=\"text-align: right;\">\n",
       "      <th></th>\n",
       "      <th>Feature</th>\n",
       "      <th>Ridge Coeff</th>\n",
       "      <th>Lasso Coeff</th>\n",
       "    </tr>\n",
       "  </thead>\n",
       "  <tbody>\n",
       "    <tr>\n",
       "      <th>27</th>\n",
       "      <td>concave points_worst</td>\n",
       "      <td>-0.044671</td>\n",
       "      <td>0.158643</td>\n",
       "    </tr>\n",
       "    <tr>\n",
       "      <th>20</th>\n",
       "      <td>radius_worst</td>\n",
       "      <td>0.375227</td>\n",
       "      <td>0.122368</td>\n",
       "    </tr>\n",
       "    <tr>\n",
       "      <th>7</th>\n",
       "      <td>concave points_mean</td>\n",
       "      <td>0.167684</td>\n",
       "      <td>0.025786</td>\n",
       "    </tr>\n",
       "    <tr>\n",
       "      <th>21</th>\n",
       "      <td>texture_worst</td>\n",
       "      <td>0.065117</td>\n",
       "      <td>0.014775</td>\n",
       "    </tr>\n",
       "  </tbody>\n",
       "</table>\n",
       "</div>"
      ]
     },
     "execution_count": 5,
     "metadata": {},
     "output_type": "execute_result"
    }
   ],
   "execution_count": 5
  }
 ],
 "metadata": {
  "kernelspec": {
   "display_name": "Python 3",
   "language": "python",
   "name": "python3"
  },
  "language_info": {
   "codemirror_mode": {
    "name": "ipython",
    "version": 2
   },
   "file_extension": ".py",
   "mimetype": "text/x-python",
   "name": "python",
   "nbconvert_exporter": "python",
   "pygments_lexer": "ipython2",
   "version": "2.7.6"
  }
 },
 "nbformat": 4,
 "nbformat_minor": 5
}
