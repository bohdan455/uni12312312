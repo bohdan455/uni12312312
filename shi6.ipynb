{
 "cells": [
  {
   "cell_type": "code",
   "id": "initial_id",
   "metadata": {
    "collapsed": true,
    "ExecuteTime": {
     "end_time": "2025-03-01T21:58:29.302922Z",
     "start_time": "2025-03-01T21:58:28.286687Z"
    }
   },
   "source": [
    "import pandas as pd\n",
    "import numpy as np\n",
    "import matplotlib.pyplot as plt\n",
    "import cv2\n",
    "from scipy.ndimage import prewitt\n",
    "\n",
    "# Завантаження даних MNIST у CSV форматі\n",
    "file_path = \"mnist_test.csv\"  # Вкажіть правильний шлях до файлу\n",
    "mnist_data = pd.read_csv(file_path)\n",
    "\n",
    "# Перевірка структури\n",
    "print(mnist_data.head())\n",
    "\n",
    "# Візуалізація першого зображення\n",
    "image_data = mnist_data.iloc[0, 1:].values.reshape(28, 28)  # Пропускаємо перший стовпець (мітка)\n",
    "plt.imshow(image_data, cmap=\"gray\")\n",
    "plt.title(f\"Label: {mnist_data.iloc[0, 0]}\")\n",
    "plt.show()"
   ],
   "outputs": [
    {
     "name": "stdout",
     "output_type": "stream",
     "text": [
      "   label  1x1  1x2  1x3  1x4  1x5  1x6  1x7  1x8  1x9  ...  28x19  28x20  \\\n",
      "0      7    0    0    0    0    0    0    0    0    0  ...      0      0   \n",
      "1      2    0    0    0    0    0    0    0    0    0  ...      0      0   \n",
      "2      1    0    0    0    0    0    0    0    0    0  ...      0      0   \n",
      "3      0    0    0    0    0    0    0    0    0    0  ...      0      0   \n",
      "4      4    0    0    0    0    0    0    0    0    0  ...      0      0   \n",
      "\n",
      "   28x21  28x22  28x23  28x24  28x25  28x26  28x27  28x28  \n",
      "0      0      0      0      0      0      0      0      0  \n",
      "1      0      0      0      0      0      0      0      0  \n",
      "2      0      0      0      0      0      0      0      0  \n",
      "3      0      0      0      0      0      0      0      0  \n",
      "4      0      0      0      0      0      0      0      0  \n",
      "\n",
      "[5 rows x 785 columns]\n"
     ]
    },
    {
     "data": {
      "text/plain": [
       "<Figure size 640x480 with 1 Axes>"
      ],
      "image/png": "[encoded data removed]"
     },
     "metadata": {},
     "output_type": "display_data"
    }
   ],
   "execution_count": 3
  },
  {
   "metadata": {
    "ExecuteTime": {
     "end_time": "2025-03-01T22:01:04.533775Z",
     "start_time": "2025-03-01T22:01:04.508577Z"
    }
   },
   "cell_type": "code",
   "source": [
    "import numpy as np\n",
    "import cv2\n",
    "import matplotlib.pyplot as plt\n",
    "from scipy.ndimage import prewitt\n",
    "\n",
    "# 1️⃣ Вибір зображення (замініть шлях на власний)\n",
    "image_path = \"image.jpg\"  # Вкажіть шлях до вашого зображення\n",
    "image = cv2.imread(image_path)\n",
    "\n",
    "# Перевірка розмірності\n",
    "height, width, channels = image.shape\n",
    "print(f\"Розмірність: {height}x{width}, Канали: {channels}\")\n",
    "\n",
    "# Візуалізація оригінального зображення\n",
    "plt.subplot(1, 3, 1)\n",
    "plt.imshow(cv2.cvtColor(image, cv2.COLOR_BGR2RGB))\n",
    "plt.title(\"Оригінальне зображення\")\n",
    "\n",
    "# 2️⃣ Попередня обробка (Перетворення в градації сірого, якщо потрібно)\n",
    "if channels == 3:  # Якщо зображення кольорове\n",
    "    gray_image = cv2.cvtColor(image, cv2.COLOR_BGR2GRAY)\n",
    "else:\n",
    "    gray_image = image\n",
    "\n",
    "plt.subplot(1, 3, 2)\n",
    "plt.imshow(gray_image, cmap='gray')\n",
    "plt.title(\"Градації сірого\")\n",
    "\n",
    "# 3️⃣ Вилучення ознак\n",
    "# 3.1 Піксельні значення як ознаки\n",
    "pixel_features = gray_image.flatten()\n",
    "print(f\"Кількість піксельних ознак: {len(pixel_features)}\")\n",
    "\n",
    "# 3.2 Усереднення каналів (для кольорових зображень)\n",
    "if channels == 3:\n",
    "    mean_channels = np.mean(image, axis=2)  # Усереднення R, G, B\n",
    "    plt.subplot(1, 3, 3)\n",
    "    plt.imshow(mean_channels, cmap='gray')\n",
    "    plt.title(\"Усереднені канали\")\n",
    "\n",
    "# 3.3 Контури (Prewitt)\n",
    "prewitt_x = prewitt(gray_image, axis=0)\n",
    "prewitt_y = prewitt(gray_image, axis=1)\n",
    "edges = np.hypot(prewitt_x, prewitt_y)  # Комбінування контурів у X та Y\n",
    "\n",
    "plt.figure()\n",
    "plt.imshow(edges, cmap='gray')\n",
    "plt.title(\"Контури (Prewitt)\")\n",
    "\n",
    "# Відображення всіх графіків\n",
    "plt.show()\n",
    "\n",
    "# 4️⃣ Аналіз результатів\n",
    "print(\"Методи вилучення ознак:\")\n",
    "print(f\"- Піксельні значення: {len(pixel_features)} ознак\")\n",
    "if channels == 3:\n",
    "    print(f\"- Усереднення каналів: {mean_channels.shape}\")\n",
    "print(f\"- Контури: {edges.shape}\")\n",
    "\n"
   ],
   "id": "5ba4562b59515d77",
   "outputs": [
    {
     "ename": "AttributeError",
     "evalue": "'NoneType' object has no attribute 'shape'",
     "output_type": "error",
     "traceback": [
      "\u001B[1;31m---------------------------------------------------------------------------\u001B[0m",
      "\u001B[1;31mAttributeError\u001B[0m                            Traceback (most recent call last)",
      "Cell \u001B[1;32mIn[5], line 11\u001B[0m\n\u001B[0;32m      8\u001B[0m image \u001B[38;5;241m=\u001B[39m cv2\u001B[38;5;241m.\u001B[39mimread(image_path)\n\u001B[0;32m     10\u001B[0m \u001B[38;5;66;03m# Перевірка розмірності\u001B[39;00m\n\u001B[1;32m---> 11\u001B[0m height, width, channels \u001B[38;5;241m=\u001B[39m image\u001B[38;5;241m.\u001B[39mshape\n\u001B[0;32m     12\u001B[0m \u001B[38;5;28mprint\u001B[39m(\u001B[38;5;124mf\u001B[39m\u001B[38;5;124m\"\u001B[39m\u001B[38;5;124mРозмірність: \u001B[39m\u001B[38;5;132;01m{\u001B[39;00mheight\u001B[38;5;132;01m}\u001B[39;00m\u001B[38;5;124mx\u001B[39m\u001B[38;5;132;01m{\u001B[39;00mwidth\u001B[38;5;132;01m}\u001B[39;00m\u001B[38;5;124m, Канали: \u001B[39m\u001B[38;5;132;01m{\u001B[39;00mchannels\u001B[38;5;132;01m}\u001B[39;00m\u001B[38;5;124m\"\u001B[39m)\n\u001B[0;32m     14\u001B[0m \u001B[38;5;66;03m# Візуалізація оригінального зображення\u001B[39;00m\n",
      "\u001B[1;31mAttributeError\u001B[0m: 'NoneType' object has no attribute 'shape'"
     ]
    }
   ],
   "execution_count": 5
  },
  {
   "metadata": {
    "ExecuteTime": {
     "end_time": "2025-03-01T22:02:17.719642Z",
     "start_time": "2025-03-01T22:02:16.820078Z"
    }
   },
   "cell_type": "code",
   "source": [
    "import numpy as np\n",
    "import pandas as pd\n",
    "import matplotlib.pyplot as plt\n",
    "from scipy.ndimage import prewitt\n",
    "\n",
    "# 1️⃣ Завантаження даних (замініть шлях, якщо потрібно)\n",
    "mnist_data = pd.read_csv(\"mnist_test.csv\")  # Файл із Kaggle\n",
    "print(mnist_data.shape)  # (60000, 785) -> 784 пікселів + мітка класу\n",
    "\n",
    "# Вибір випадкового зображення\n",
    "sample = mnist_data.iloc[0].values  # Візьмемо перший рядок\n",
    "\n",
    "# Відокремлення мітки класу (цифра)\n",
    "label = sample[0]\n",
    "image = sample[1:].reshape(28, 28)  # Перетворення у формат 28x28\n",
    "\n",
    "# Візуалізація оригінального зображення\n",
    "plt.subplot(1, 3, 1)\n",
    "plt.imshow(image, cmap=\"gray\")\n",
    "plt.title(f\"Оригінал: {label}\")\n",
    "\n",
    "# 2️⃣ Попередня обробка (нормалізація)\n",
    "image = image / 255.0  # Нормалізація (0–1)\n",
    "\n",
    "# 3️⃣ Вилучення ознак\n",
    "# 3.1 Піксельні значення\n",
    "pixel_features = image.flatten()\n",
    "print(f\"Кількість піксельних ознак: {len(pixel_features)}\")\n",
    "\n",
    "# 3.2 Усереднення каналів (для MNIST не потрібно, бо це ч/б)\n",
    "mean_channels = np.mean(image)\n",
    "\n",
    "# 3.3 Контури (Prewitt)\n",
    "prewitt_x = prewitt(image, axis=0)\n",
    "prewitt_y = prewitt(image, axis=1)\n",
    "edges = np.hypot(prewitt_x, prewitt_y)  # Комбіновані контури\n",
    "\n",
    "# Візуалізація контурів\n",
    "plt.subplot(1, 3, 2)\n",
    "plt.imshow(edges, cmap=\"gray\")\n",
    "plt.title(\"Контури (Prewitt)\")\n",
    "\n",
    "# Відображення всіх графіків\n",
    "plt.show()\n",
    "\n",
    "# 4️⃣ Аналіз вилучених ознак\n",
    "print(\"Методи вилучення ознак:\")\n",
    "print(f\"- Піксельні значення: {len(pixel_features)} ознак\")\n",
    "print(f\"- Усереднене значення пікселів: {mean_channels:.5f}\")\n",
    "print(f\"- Контури (Prewitt) обчислено\")\n",
    "\n"
   ],
   "id": "7dc2ab78cbb43fbd",
   "outputs": [
    {
     "name": "stdout",
     "output_type": "stream",
     "text": [
      "(10000, 785)\n",
      "Кількість піксельних ознак: 784\n"
     ]
    },
    {
     "data": {
      "text/plain": [
       "<Figure size 640x480 with 2 Axes>"
      ],
      "image/png": "[encoded data removed]"
     },
     "metadata": {},
     "output_type": "display_data"
    },
    {
     "name": "stdout",
     "output_type": "stream",
     "text": [
      "Методи вилучення ознак:\n",
      "- Піксельні значення: 784 ознак\n",
      "- Усереднене значення пікселів: 0.09231\n",
      "- Контури (Prewitt) обчислено\n"
     ]
    }
   ],
   "execution_count": 7
  },
  {
   "metadata": {
    "ExecuteTime": {
     "end_time": "2025-03-01T22:03:55.594032Z",
     "start_time": "2025-03-01T22:03:54.626198Z"
    }
   },
   "cell_type": "code",
   "source": [
    "import numpy as np\n",
    "import pandas as pd\n",
    "import matplotlib.pyplot as plt\n",
    "from scipy.ndimage import prewitt\n",
    "\n",
    "# 1️⃣ Вибір зображення для аналізу\n",
    "mnist_data = pd.read_csv(\"mnist_test.csv\")  # Завантаження даних\n",
    "print(f\"Форма даних: {mnist_data.shape}\")  # Очікується (60000, 785)\n",
    "\n",
    "# Вибір випадкового зображення\n",
    "sample_index = np.random.randint(0, len(mnist_data))  # Випадковий рядок\n",
    "sample = mnist_data.iloc[sample_index].values\n",
    "\n",
    "# Відокремлення мітки класу\n",
    "label = sample[0]\n",
    "image = sample[1:].reshape(28, 28)  # Перетворення у формат 28x28\n",
    "\n",
    "print(f\"Обране зображення: Цифра {label}\")\n",
    "print(f\"Розмірність: {image.shape}, Кольоровість: Ч/Б, Складність: {np.unique(image).size} унікальних значень\")\n",
    "\n",
    "# Візуалізація оригінального зображення\n",
    "plt.subplot(1, 3, 1)\n",
    "plt.imshow(image, cmap=\"gray\")\n",
    "plt.title(f\"Оригінал: {label}\")\n",
    "\n",
    "# 2️⃣ Попередня обробка зображення\n",
    "image = image / 255.0  # Нормалізація до [0,1]\n",
    "\n",
    "# 3️⃣ Вилучення ознак\n",
    "# 3.1 Піксельні значення\n",
    "pixel_features = image.flatten()\n",
    "print(f\"Кількість піксельних ознак: {len(pixel_features)}\")\n",
    "\n",
    "# 3.2 Усереднення каналів (для MNIST не потрібно, бо це ч/б)\n",
    "mean_channels = np.mean(image)\n",
    "print(f\"Середнє значення яскравості: {mean_channels:.5f}\")\n",
    "\n",
    "# 3.3 Контури (Prewitt)\n",
    "prewitt_x = prewitt(image, axis=0)\n",
    "prewitt_y = prewitt(image, axis=1)\n",
    "edges = np.hypot(prewitt_x, prewitt_y)  # Комбіновані контури\n",
    "\n",
    "# Візуалізація контурів\n",
    "plt.subplot(1, 3, 2)\n",
    "plt.imshow(edges, cmap=\"gray\")\n",
    "plt.title(\"Контури (Prewitt)\")\n",
    "\n",
    "# 4️⃣ Аналіз методів\n",
    "print(\"\\nПорівняння методів:\")\n",
    "print(f\"- Піксельні значення: {len(pixel_features)} ознак (дуже детально)\")\n",
    "print(f\"- Середнє значення пікселів: {mean_channels:.5f} (дуже узагальнено)\")\n",
    "print(\"- Контури (Prewitt) дають мінімальний обсяг, але виділяють структуру\")\n",
    "\n",
    "# 5️⃣ Аналіз результатів\n",
    "plt.show()\n",
    "\n",
    "print(\"\\n📊 Висновки:\")\n",
    "print(\"- Піксельні значення зберігають максимум інформації, але мають велику розмірність.\")\n",
    "print(\"- Контури дозволяють визначати форми та ключові особливості цифр.\")\n",
    "print(\"- Усереднення яскравості дає занадто узагальнену інформацію для класифікації.\")\n",
    "\n"
   ],
   "id": "b2cc2e8ad1f38cd9",
   "outputs": [
    {
     "name": "stdout",
     "output_type": "stream",
     "text": [
      "Форма даних: (10000, 785)\n",
      "Обране зображення: Цифра 2\n",
      "Розмірність: (28, 28), Кольоровість: Ч/Б, Складність: 81 унікальних значень\n",
      "Кількість піксельних ознак: 784\n",
      "Середнє значення яскравості: 0.18202\n",
      "\n",
      "Порівняння методів:\n",
      "- Піксельні значення: 784 ознак (дуже детально)\n",
      "- Середнє значення пікселів: 0.18202 (дуже узагальнено)\n",
      "- Контури (Prewitt) дають мінімальний обсяг, але виділяють структуру\n"
     ]
    },
    {
     "data": {
      "text/plain": [
       "<Figure size 640x480 with 2 Axes>"
      ],
      "image/png": "[encoded data removed]"
     },
     "metadata": {},
     "output_type": "display_data"
    },
    {
     "name": "stdout",
     "output_type": "stream",
     "text": [
      "\n",
      "📊 Висновки:\n",
      "- Піксельні значення зберігають максимум інформації, але мають велику розмірність.\n",
      "- Контури дозволяють визначати форми та ключові особливості цифр.\n",
      "- Усереднення яскравості дає занадто узагальнену інформацію для класифікації.\n"
     ]
    }
   ],
   "execution_count": 9
  }
 ],
 "metadata": {
  "kernelspec": {
   "display_name": "Python 3",
   "language": "python",
   "name": "python3"
  },
  "language_info": {
   "codemirror_mode": {
    "name": "ipython",
    "version": 2
   },
   "file_extension": ".py",
   "mimetype": "text/x-python",
   "name": "python",
   "nbconvert_exporter": "python",
   "pygments_lexer": "ipython2",
   "version": "2.7.6"
  }
 },
 "nbformat": 4,
 "nbformat_minor": 5
}
